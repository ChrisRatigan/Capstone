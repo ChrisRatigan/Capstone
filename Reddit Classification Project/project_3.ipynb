{
 "cells": [
  {
   "cell_type": "markdown",
   "id": "a716515f-705a-469e-b787-7a2b3e595185",
   "metadata": {
    "jp-MarkdownHeadingCollapsed": true,
    "tags": []
   },
   "source": [
    "## Introduction\n",
    "Two similar, yet surprisingly disinct reddits are r/technicallythetruth and r/dadjokes. r/technically the truth was founded on November 15th 2017, while r/dadjokes, created on October 23rd 2011 is much older.\n",
    "\n",
    "While these reddits often have similar senses of humor. They encounter very different problems. The most popular meta post on r/technicallythetruth is that puns are not technicallythetruth. Meanwhile, r/dadjokes' meta post is that \"if you can't say it to your 5yr old kid, its not a dad joke."
   ]
  },
  {
   "cell_type": "markdown",
   "id": "118fd558-25fb-4396-be1f-9e3b5f3bfccb",
   "metadata": {},
   "source": [
    "### Imports"
   ]
  },
  {
   "cell_type": "code",
   "execution_count": 66,
   "id": "d7e77beb-e159-42de-99de-a123848341e7",
   "metadata": {},
   "outputs": [],
   "source": [
    "import requests\n",
    "import pandas as pd\n",
    "import pytesseract\n",
    "import matplotlib.pyplot as plt"
   ]
  },
  {
   "cell_type": "markdown",
   "id": "6e6f6ae4-9c2a-4456-bcac-8e89499dedda",
   "metadata": {},
   "source": [
    "The url below will be used to search reddit submissions."
   ]
  },
  {
   "cell_type": "code",
   "execution_count": 67,
   "id": "0816d7ad-56e4-4c7a-a547-a7321679e31c",
   "metadata": {},
   "outputs": [],
   "source": [
    "url = 'https://api.pushshift.io/reddit/search/submission'\n"
   ]
  },
  {
   "cell_type": "markdown",
   "id": "d4f26bd0-ed6c-4db3-9d84-5863d3e81aae",
   "metadata": {
    "tags": []
   },
   "source": [
    "### Parameter Dictionaries"
   ]
  },
  {
   "cell_type": "markdown",
   "id": "d9371968-5547-4025-aa64-abf6c57e763e",
   "metadata": {},
   "source": [
    "According to the pushshift documentation, we can use the sort_type parameter to pull our posts according to a certain order. Due to limits on the number of posts we can obtain per request, we will be requesting the top 100 posts from reddit under certain constraints."
   ]
  },
  {
   "cell_type": "markdown",
   "id": "18eb5765-5958-41dd-a1df-82a505897647",
   "metadata": {},
   "source": [
    "For the technicallythetruth subreddit, our parameters are housed in the variables `parameters_i`."
   ]
  },
  {
   "cell_type": "code",
   "execution_count": 68,
   "id": "662b2e50-dea6-45b3-8c44-96811c8b200d",
   "metadata": {},
   "outputs": [],
   "source": [
    "parameters_1 = {\n",
    "    'subreddit' : 'technicallythetruth',\n",
    "    'size' : 100,\n",
    "    'sort_type' : 'score' #This is used to pull the highest scoring posts\n",
    "    \n",
    "}"
   ]
  },
  {
   "cell_type": "code",
   "execution_count": 69,
   "id": "761edb15-0351-4cd5-bce8-3058350d4475",
   "metadata": {},
   "outputs": [],
   "source": [
    "parameters_2 = {\n",
    "    'subreddit' : 'technicallythetruth',\n",
    "    'size' : 100,\n",
    "    'sort_type' : 'score',\n",
    "    'over_18' : True  #over_18 means the post is tagged NSFW, we suspect dadjokes would have fewer of these than TTT\n",
    "}\n",
    "#over_18 means the post is tagged NSFW, we suspect dadjokes would have fewer of these than TTT"
   ]
  },
  {
   "cell_type": "code",
   "execution_count": 70,
   "id": "f2f726fd-b3f4-40ad-9657-f6e405f1ecad",
   "metadata": {},
   "outputs": [],
   "source": [
    "parameters_3 = {\n",
    "    'subreddit' : 'technicallythetruth',\n",
    "    'size' : 100,\n",
    "    'spoiler' : True,\n",
    "    'sort_type' : 'score'\n",
    "}"
   ]
  },
  {
   "cell_type": "markdown",
   "id": "31be7489-3472-4239-b6b2-f9e978b86bee",
   "metadata": {},
   "source": [
    "For the dadjokes reddit, our variables are housed in `pair_of_meters_i`"
   ]
  },
  {
   "cell_type": "code",
   "execution_count": 71,
   "id": "a1958b74-2804-4b0b-8204-d2fb8b50bbb2",
   "metadata": {},
   "outputs": [],
   "source": [
    "pair_of_meters_1 = {\n",
    "    'subreddit' : 'dadjokes',\n",
    "    'size' : 100,\n",
    "    'sort_type' : 'score'\n",
    "}"
   ]
  },
  {
   "cell_type": "code",
   "execution_count": 72,
   "id": "ed3cdf9b-f450-4e51-b5ed-6567690faa59",
   "metadata": {},
   "outputs": [],
   "source": [
    "pair_of_meters_2 = {\n",
    "    'subreddit' : 'dadjokes',\n",
    "    'size' : 100,\n",
    "    'over_18' : True,     # over_18=True means posts tagged NSFW\n",
    "    'sort_type' : 'score'\n",
    "}"
   ]
  },
  {
   "cell_type": "code",
   "execution_count": 73,
   "id": "5b87d284-f404-4cf9-b775-8cbb49b65a01",
   "metadata": {},
   "outputs": [],
   "source": [
    "pair_of_meters_3 = {\n",
    "    'subreddit' : 'dadjokes',\n",
    "    'size' : 100,\n",
    "    'spoiler' :True,\n",
    "    'sort_type' : 'score'\n",
    "}"
   ]
  },
  {
   "cell_type": "markdown",
   "id": "97640c88-a882-4736-8f4f-9f081e6d6370",
   "metadata": {
    "tags": []
   },
   "source": [
    "## Requests and basic Data Processing"
   ]
  },
  {
   "cell_type": "markdown",
   "id": "5f948cdd-eab1-4734-8854-cc896643624c",
   "metadata": {},
   "source": [
    "Now that we have our url and parameters set, we are ready to read in and start processing our data."
   ]
  },
  {
   "cell_type": "markdown",
   "id": "5610eb65-4541-49eb-88ec-476c71f09b5a",
   "metadata": {},
   "source": [
    "First, we request the data from reddit. "
   ]
  },
  {
   "cell_type": "code",
   "execution_count": 74,
   "id": "bf0e360c-968b-4f88-ada6-fa6049af6f3c",
   "metadata": {},
   "outputs": [],
   "source": [
    "data_1 = requests.get(url, parameters_1)"
   ]
  },
  {
   "cell_type": "code",
   "execution_count": 75,
   "id": "ca4972a7-185c-479b-8c32-27d675e89b5e",
   "metadata": {},
   "outputs": [],
   "source": [
    "data_2 = requests.get(url, parameters_2)"
   ]
  },
  {
   "cell_type": "code",
   "execution_count": 76,
   "id": "f80fc959-140d-4e77-8057-b1068e6b19da",
   "metadata": {},
   "outputs": [],
   "source": [
    "data_3 = requests.get(url, parameters_3)"
   ]
  },
  {
   "cell_type": "code",
   "execution_count": 77,
   "id": "b995c769-3dea-429d-bc6b-1c77d36dee5f",
   "metadata": {},
   "outputs": [],
   "source": [
    "dada_1 = requests.get(url, pair_of_meters_1)"
   ]
  },
  {
   "cell_type": "code",
   "execution_count": 78,
   "id": "ff2b40cf-7f2a-4522-ab29-eff898f0ba33",
   "metadata": {},
   "outputs": [],
   "source": [
    "dada_2 = requests.get(url, pair_of_meters_2)"
   ]
  },
  {
   "cell_type": "code",
   "execution_count": 79,
   "id": "889d4453-ea60-4171-9e81-de99b7651ef0",
   "metadata": {},
   "outputs": [],
   "source": [
    "dada_3 = requests.get(url, pair_of_meters_3)"
   ]
  },
  {
   "cell_type": "code",
   "execution_count": 291,
   "id": "47eda04b-b5cb-43db-809c-003c41956cf1",
   "metadata": {},
   "outputs": [],
   "source": [
    "json_1 = data_1.json()\n",
    "json_2 = data_2.json()\n",
    "json_3 = data_3.json()\n",
    "\n",
    "son_of_j1 = dada_1.json() # get it j son?\n",
    "son_of_j2 = dada_2.json()\n",
    "son_of_j3 = dada_3.json()\n"
   ]
  },
  {
   "cell_type": "code",
   "execution_count": 81,
   "id": "c7aa3109-55c4-48a1-8b72-6d0befffc13b",
   "metadata": {},
   "outputs": [],
   "source": [
    "bear_data1 = pd.DataFrame(json_1['data'])\n",
    "bear_data2 = pd.DataFrame(json_2['data'])\n",
    "bear_data3 = pd.DataFrame(json_3['data'])\n",
    "\n",
    "dada_base1 = pd.DataFrame(son_of_j1['data'])\n",
    "dada_base2 = pd.DataFrame(son_of_j2['data'])\n",
    "dada_base3 = pd.DataFrame(son_of_j3['data'])"
   ]
  },
  {
   "cell_type": "markdown",
   "id": "4b122b7f-33d1-4e4e-acfd-65eb4d510862",
   "metadata": {
    "tags": []
   },
   "source": [
    "## Exploratory Data Analysis"
   ]
  },
  {
   "cell_type": "markdown",
   "id": "d668ea0c-bbde-4c73-a5d2-6f98b09ee247",
   "metadata": {},
   "source": [
    "This section analyzes some features of the aggregate data and summarizes some of the properties of each dataset."
   ]
  },
  {
   "cell_type": "code",
   "execution_count": 82,
   "id": "6420b9a7-311e-4886-ac77-857006225743",
   "metadata": {
    "tags": []
   },
   "outputs": [
    {
     "data": {
      "image/png": "[encoded data removed]",
      "text/plain": [
       "<Figure size 432x288 with 6 Axes>"
      ]
     },
     "metadata": {
      "needs_background": "light"
     },
     "output_type": "display_data"
    }
   ],
   "source": [
    "\n",
    "fig, ax = plt.subplots(ncols=2, nrows=3)\n",
    "plt.subplots_adjust(left=0,right=2,top=4,bottom=0,wspace=0.5,hspace=0.5)\n",
    "ax[0,0].hist(bear_data1['score'])\n",
    "ax[0,0].title.set_text('Top 100 TTT Scores')\n",
    "ax[0,0].set_xlabel('Score', fontsize=16)\n",
    "ax[0,0].set_ylabel('Count')\n",
    "\n",
    "ax[1,0].hist(bear_data2['score'])\n",
    "ax[1,0].title.set_text('NSFW TTT')\n",
    "\n",
    "ax[2,0].hist(bear_data3['score'])\n",
    "ax[2,0].title.set_text('Spoiler TTT')\n",
    "\n",
    "ax[0,1].hist(dada_base1['score'])\n",
    "ax[0,1].title.set_text('Top 100 Dadjoke Scores')\n",
    "\n",
    "ax[1,1].hist(dada_base2['score'])\n",
    "ax[1,1].title.set_text('NSFW Dadjoke')\n",
    "\n",
    "ax[2,1].hist(dada_base3['score'])\n",
    "ax[2,1].title.set_text('Spoiler Dadjoke');"
   ]
  },
  {
   "cell_type": "code",
   "execution_count": 83,
   "id": "93826d1f-45ba-4f4c-a4cf-6f93abc8e8f9",
   "metadata": {},
   "outputs": [
    {
     "data": {
      "image/png": "[encoded data removed]",
      "text/plain": [
       "<Figure size 720x360 with 1 Axes>"
      ]
     },
     "metadata": {
      "needs_background": "light"
     },
     "output_type": "display_data"
    }
   ],
   "source": [
    "fig, ax = plt.subplots(figsize=(10,5))\n",
    "#plt.subplots_adjust(left=0,right=2,top=4,bottom=0,wspace=0.5,hspace=0.5)\n",
    "ax.hist(bear_data1['score'], bins =20)\n",
    "ax.set_title('Top 100 Posts By Score', size=20)\n",
    "ax.set_xlabel('Score', fontsize=16)\n",
    "ax.set_ylabel('Count', fontsize=16)\n",
    "ax.hist(dada_base1['score'])\n",
    "ax.legend(['TTT','dadjokes']);"
   ]
  },
  {
   "cell_type": "code",
   "execution_count": 84,
   "id": "5d8dc8b1-3ff3-450d-ab51-e5adaaa190be",
   "metadata": {},
   "outputs": [
    {
     "data": {
      "image/png": "[encoded data removed]",
      "text/plain": [
       "<Figure size 648x360 with 1 Axes>"
      ]
     },
     "metadata": {
      "needs_background": "light"
     },
     "output_type": "display_data"
    }
   ],
   "source": [
    "fig, ax = plt.subplots(figsize=(9,5))\n",
    "#plt.subplots_adjust(left=0,right=2,top=4,bottom=0,wspace=0.5,hspace=0.5)\n",
    "ax.hist(bear_data2['score'], bins = 12, alpha=0.5)\n",
    "ax.set_title('Top 100 NSFW Posts By Score', size=20)\n",
    "ax.set_xlabel('Score', fontsize=16)\n",
    "ax.set_ylabel('Count', fontsize=16)\n",
    "ax.hist(dada_base2['score'], alpha=0.5)\n",
    "ax.legend(['TTT','dadjokes']);"
   ]
  },
  {
   "cell_type": "markdown",
   "id": "447512a1-e1b8-4ec1-bff7-5957ef9deeca",
   "metadata": {},
   "source": [
    "Surprisingly, the average top NSFW posts from r/dadjokes seem to do better than those from TTT."
   ]
  },
  {
   "cell_type": "code",
   "execution_count": 85,
   "id": "286c735a-58b0-4319-ae49-799f4e9b6b6d",
   "metadata": {},
   "outputs": [
    {
     "data": {
      "image/png": "[encoded data removed]",
      "text/plain": [
       "<Figure size 648x360 with 1 Axes>"
      ]
     },
     "metadata": {
      "needs_background": "light"
     },
     "output_type": "display_data"
    }
   ],
   "source": [
    "fig, ax = plt.subplots(figsize=(9,5))\n",
    "#plt.subplots_adjust(left=0,right=2,top=4,bottom=0,wspace=0.5,hspace=0.5)\n",
    "ax.hist(bear_data3[bear_data3['score']<14000]['score'], alpha=0.5)\n",
    "ax.set_title('Top Spoiler Posts By Score', size=20)\n",
    "ax.set_xlabel('Score', fontsize=16)\n",
    "ax.set_ylabel('Count', fontsize=16)\n",
    "ax.hist(dada_base3['score'], bins = 70, alpha=0.6)\n",
    "ax.legend(['TTT','dadjokes']);"
   ]
  },
  {
   "cell_type": "markdown",
   "id": "04f74860-eb23-40a7-a9ec-d5e0effb6ebd",
   "metadata": {},
   "source": [
    "Here we see that while spoiler posts do not tend to do well at either dadjokes or TTT, those at TTT tends to have much greater outliers."
   ]
  },
  {
   "cell_type": "code",
   "execution_count": 86,
   "id": "d93d8b7d-f280-4170-a00a-ab83c2e8b803",
   "metadata": {},
   "outputs": [
    {
     "data": {
      "text/html": [
       "<div>\n",
       "<style scoped>\n",
       "    .dataframe tbody tr th:only-of-type {\n",
       "        vertical-align: middle;\n",
       "    }\n",
       "\n",
       "    .dataframe tbody tr th {\n",
       "        vertical-align: top;\n",
       "    }\n",
       "\n",
       "    .dataframe thead th {\n",
       "        text-align: right;\n",
       "    }\n",
       "</style>\n",
       "<table border=\"1\" class=\"dataframe\">\n",
       "  <thead>\n",
       "    <tr style=\"text-align: right;\">\n",
       "      <th></th>\n",
       "      <th>all_awardings</th>\n",
       "      <th>author</th>\n",
       "      <th>author_flair_css_class</th>\n",
       "      <th>author_flair_richtext</th>\n",
       "      <th>author_flair_text</th>\n",
       "      <th>author_flair_type</th>\n",
       "      <th>author_fullname</th>\n",
       "      <th>author_patreon_flair</th>\n",
       "      <th>can_mod_post</th>\n",
       "      <th>contest_mode</th>\n",
       "      <th>...</th>\n",
       "      <th>is_created_from_ads_ui</th>\n",
       "      <th>author_flair_background_color</th>\n",
       "      <th>author_flair_template_id</th>\n",
       "      <th>author_flair_text_color</th>\n",
       "      <th>og_description</th>\n",
       "      <th>og_title</th>\n",
       "      <th>media</th>\n",
       "      <th>media_embed</th>\n",
       "      <th>secure_media</th>\n",
       "      <th>secure_media_embed</th>\n",
       "    </tr>\n",
       "  </thead>\n",
       "  <tbody>\n",
       "    <tr>\n",
       "      <th>0</th>\n",
       "      <td>[]</td>\n",
       "      <td>sir_tonberry</td>\n",
       "      <td>None</td>\n",
       "      <td>[]</td>\n",
       "      <td>None</td>\n",
       "      <td>text</td>\n",
       "      <td>t2_26bhr1uc</td>\n",
       "      <td>False</td>\n",
       "      <td>False</td>\n",
       "      <td>False</td>\n",
       "      <td>...</td>\n",
       "      <td>NaN</td>\n",
       "      <td>NaN</td>\n",
       "      <td>NaN</td>\n",
       "      <td>NaN</td>\n",
       "      <td>NaN</td>\n",
       "      <td>NaN</td>\n",
       "      <td>NaN</td>\n",
       "      <td>NaN</td>\n",
       "      <td>NaN</td>\n",
       "      <td>NaN</td>\n",
       "    </tr>\n",
       "  </tbody>\n",
       "</table>\n",
       "<p>1 rows × 84 columns</p>\n",
       "</div>"
      ],
      "text/plain": [
       "  all_awardings        author author_flair_css_class author_flair_richtext  \\\n",
       "0            []  sir_tonberry                   None                    []   \n",
       "\n",
       "  author_flair_text author_flair_type author_fullname author_patreon_flair  \\\n",
       "0              None              text     t2_26bhr1uc                False   \n",
       "\n",
       "   can_mod_post  contest_mode  ...  is_created_from_ads_ui  \\\n",
       "0         False         False  ...                     NaN   \n",
       "\n",
       "  author_flair_background_color author_flair_template_id  \\\n",
       "0                           NaN                      NaN   \n",
       "\n",
       "  author_flair_text_color og_description  og_title media  media_embed  \\\n",
       "0                     NaN            NaN       NaN   NaN          NaN   \n",
       "\n",
       "   secure_media secure_media_embed  \n",
       "0           NaN                NaN  \n",
       "\n",
       "[1 rows x 84 columns]"
      ]
     },
     "execution_count": 86,
     "metadata": {},
     "output_type": "execute_result"
    }
   ],
   "source": [
    "bear_data3[bear_data3['score']>14000]"
   ]
  },
  {
   "cell_type": "code",
   "execution_count": 87,
   "id": "175e5134-ad6b-46af-98a3-668ee60b7d1a",
   "metadata": {},
   "outputs": [
    {
     "data": {
      "text/plain": [
       "'https://www.reddit.com/r/technicallythetruth/comments/bqsuzy/dont_open_its_a_spoiler/'"
      ]
     },
     "execution_count": 87,
     "metadata": {},
     "output_type": "execute_result"
    }
   ],
   "source": [
    "bear_data3.iloc[0, :]['full_link']"
   ]
  },
  {
   "cell_type": "code",
   "execution_count": 238,
   "id": "ba12fec6-c629-485d-a906-404e9939f5ce",
   "metadata": {},
   "outputs": [
    {
     "data": {
      "image/png": "[encoded data removed]",
      "text/plain": [
       "<Figure size 432x288 with 1 Axes>"
      ]
     },
     "metadata": {
      "needs_background": "light"
     },
     "output_type": "display_data"
    }
   ],
   "source": [
    "plt.scatter(bear_data3['num_comments'],bear_data3['score']);\n",
    "plt.title('Number of Comments vs. score for top 100 Spoiler TTT Posts')\n",
    "plt.xlabel('Number of Comments')\n",
    "plt.ylabel('Score');"
   ]
  },
  {
   "cell_type": "markdown",
   "id": "c9d3315f-297f-48cf-8c57-9ab3837e5c7b",
   "metadata": {},
   "source": [
    "With one exception, spoiler posts do not appear to score well on TTT."
   ]
  },
  {
   "cell_type": "code",
   "execution_count": 239,
   "id": "34a4ad37-c480-4087-82f7-460e6cd23022",
   "metadata": {},
   "outputs": [
    {
     "data": {
      "image/png": "[encoded data removed]",
      "text/plain": [
       "<Figure size 432x288 with 1 Axes>"
      ]
     },
     "metadata": {
      "needs_background": "light"
     },
     "output_type": "display_data"
    }
   ],
   "source": [
    "plt.scatter(bear_data2['num_comments'],bear_data2['score'])\n",
    "plt.title('Number of Comments vs. score for top 100 NSFW TTT Posts')\n",
    "plt.xlabel('Number of Comments')\n",
    "plt.ylabel('Score');"
   ]
  },
  {
   "cell_type": "markdown",
   "id": "a9b1e230-8f63-4118-9dd6-36b7d3d12174",
   "metadata": {},
   "source": [
    "Perhaps surprisingly, there is a far outlier in terms of NSFW score and comments. This is due to the most popular post on the subreddit being NSFW. If we exclude that post from consideration (e.g. by filtering out values with a socre of more than 10_000), we find the following graph."
   ]
  },
  {
   "cell_type": "code",
   "execution_count": 90,
   "id": "9e8efeb8-ed42-41c2-b81c-7ee5ee9a22c2",
   "metadata": {},
   "outputs": [],
   "source": [
    "bear_data2_filtered = bear_data2[bear_data2['score']<10000]"
   ]
  },
  {
   "cell_type": "code",
   "execution_count": 286,
   "id": "12fab62f-93fa-4ce6-987a-4e8ecc576459",
   "metadata": {},
   "outputs": [
    {
     "data": {
      "image/png": "[encoded data removed]",
      "text/plain": [
       "<Figure size 432x288 with 1 Axes>"
      ]
     },
     "metadata": {
      "needs_background": "light"
     },
     "output_type": "display_data"
    }
   ],
   "source": [
    "plt.scatter(bear_data2_filtered['num_comments'],bear_data2_filtered['score']);\n",
    "plt.title('Number of Comments vs. score for top 100 NSFW TTT Posts without outlier')\n",
    "plt.xlabel('Number of Comments')\n",
    "plt.ylabel('Score');"
   ]
  },
  {
   "cell_type": "markdown",
   "id": "165cc887-b5ef-4cf0-a8ff-9999e86137de",
   "metadata": {},
   "source": [
    "Even amongst this data, there are still a number of outliers, however, it is clear that the vast majority of NSFW post gain few comments and only a small score."
   ]
  },
  {
   "cell_type": "code",
   "execution_count": 235,
   "id": "f702a8bc-8e8e-4091-987b-49e35144ffec",
   "metadata": {},
   "outputs": [
    {
     "data": {
      "image/png": "[encoded data removed]",
      "text/plain": [
       "<Figure size 432x288 with 1 Axes>"
      ]
     },
     "metadata": {
      "needs_background": "light"
     },
     "output_type": "display_data"
    }
   ],
   "source": [
    "plt.scatter(bear_data1['num_comments'],bear_data1['score']);\n",
    "plt.title('Number of Comments vs. score for top 100 TTT Posts')\n",
    "plt.xlabel('Number of Comments')\n",
    "plt.ylabel('Score');"
   ]
  },
  {
   "cell_type": "code",
   "execution_count": 93,
   "id": "e8186163-1915-4443-8a9b-1c6f76c90fd2",
   "metadata": {},
   "outputs": [
    {
     "data": {
      "text/plain": [
       "'https://www.reddit.com/r/technicallythetruth/comments/hv5cvb/technically_a_chair/'"
      ]
     },
     "execution_count": 93,
     "metadata": {},
     "output_type": "execute_result"
    }
   ],
   "source": [
    "bear_data1[bear_data1['num_comments']>5000]['full_link'][24]"
   ]
  },
  {
   "cell_type": "markdown",
   "id": "3a4d4144-b11e-43f2-a8f3-cae0f5606166",
   "metadata": {},
   "source": [
    "The outlier here is a post with over 5000 comments. This is a repost from Tumblr and an inspection of the comments show that this post, dealing with both a technical truth and subtle gender issue, could have garnered more discussion than most other posts of that score."
   ]
  },
  {
   "cell_type": "markdown",
   "id": "2e009fe4-9322-40bf-ae47-a414f6298635",
   "metadata": {},
   "source": [
    "Removing this outlier using filtering, we can better capture the relationship betweeen comments and upvotes on TTT."
   ]
  },
  {
   "cell_type": "code",
   "execution_count": 94,
   "id": "3333aba0-75c7-4796-b550-24a4da9aa7b1",
   "metadata": {},
   "outputs": [],
   "source": [
    "bear_data1_filtered = bear_data1[bear_data1['num_comments']<5000]"
   ]
  },
  {
   "cell_type": "code",
   "execution_count": 236,
   "id": "2ef80b71-cf3c-474f-8d29-a447aa8b9d23",
   "metadata": {},
   "outputs": [
    {
     "data": {
      "image/png": "[encoded data removed]",
      "text/plain": [
       "<Figure size 432x288 with 1 Axes>"
      ]
     },
     "metadata": {
      "needs_background": "light"
     },
     "output_type": "display_data"
    }
   ],
   "source": [
    "plt.scatter(bear_data1_filtered['num_comments'], bear_data1_filtered['score']);\n",
    "plt.title('Number of Comments vs. score for top 100 TTT Posts')\n",
    "plt.xlabel('Number of Comments')\n",
    "plt.ylabel('Score');"
   ]
  },
  {
   "cell_type": "markdown",
   "id": "17d6a224-45d3-4a6f-b72b-301280e2a5bf",
   "metadata": {},
   "source": [
    "High scoring posts in this subreddit tend to have much higher scores than ones in the dadjoke reddit."
   ]
  },
  {
   "cell_type": "markdown",
   "id": "c8db9ad4-3abd-4b15-8012-06feaf17bcdd",
   "metadata": {},
   "source": [
    "Doing the same analysis for dadjoke's posts, we see the following."
   ]
  },
  {
   "cell_type": "code",
   "execution_count": 229,
   "id": "435408f4-ac29-4390-b84a-e016794ea7b8",
   "metadata": {},
   "outputs": [
    {
     "data": {
      "image/png": "[encoded data removed]",
      "text/plain": [
       "<Figure size 432x288 with 1 Axes>"
      ]
     },
     "metadata": {
      "needs_background": "light"
     },
     "output_type": "display_data"
    }
   ],
   "source": [
    "plt.scatter(dada_base1['num_comments'],dada_base1['score']);\n",
    "plt.title('Number of Comments vs. score for top 100 dadjokes Posts')\n",
    "plt.xlabel('Number of Comments')\n",
    "plt.ylabel('Score');"
   ]
  },
  {
   "cell_type": "markdown",
   "id": "c9c046ea-7f9f-4891-80f0-10b9f06da787",
   "metadata": {},
   "source": [
    "This graph is strikingly similar to the TTT graph."
   ]
  },
  {
   "cell_type": "code",
   "execution_count": 233,
   "id": "e9566fee-fd64-4169-b038-cdd53d350176",
   "metadata": {},
   "outputs": [
    {
     "data": {
      "image/png": "[encoded data removed]",
      "text/plain": [
       "<Figure size 432x288 with 1 Axes>"
      ]
     },
     "metadata": {
      "needs_background": "light"
     },
     "output_type": "display_data"
    }
   ],
   "source": [
    "plt.scatter(dada_base2['num_comments'],dada_base2['score']);\n",
    "plt.title('Number of Comments vs. score for top 100 NSFW Dadjoke Posts')\n",
    "plt.xlabel('Number of Comments')\n",
    "plt.ylabel('Score');"
   ]
  },
  {
   "cell_type": "code",
   "execution_count": 234,
   "id": "99f7e71b-acaa-4729-a4df-34988480d2d2",
   "metadata": {},
   "outputs": [
    {
     "data": {
      "image/png": "[encoded data removed]",
      "text/plain": [
       "<Figure size 432x288 with 1 Axes>"
      ]
     },
     "metadata": {
      "needs_background": "light"
     },
     "output_type": "display_data"
    }
   ],
   "source": [
    "plt.scatter(dada_base3['num_comments'],dada_base3['score'])\n",
    "plt.title('Number of Comments vs. score for top 100 Spoiler Dadjoke Posts')\n",
    "plt.xlabel('Number of Comments')\n",
    "plt.ylabel('Score');"
   ]
  },
  {
   "cell_type": "markdown",
   "id": "e82063cf-90f8-4e61-8a63-77c4e6397f78",
   "metadata": {},
   "source": [
    "Here it seems the dadjoke reddit does not tend to like posts tagged spoiler. There are only 5 posts with scores over 500. Some of the lower scoring posts have been deleted."
   ]
  },
  {
   "cell_type": "markdown",
   "id": "eb73d10b-fc05-4b57-82d7-72692648756f",
   "metadata": {},
   "source": [
    "## Data Cleaning"
   ]
  },
  {
   "cell_type": "markdown",
   "id": "f6785f12-0a2b-4d2c-89ce-3df62e14e1e0",
   "metadata": {},
   "source": [
    "The easiest way to judge how much cleaning our data needs is to use the `is_self` paremeter."
   ]
  },
  {
   "cell_type": "markdown",
   "id": "2c364bf4-9fcc-4bc0-b157-2c5842d1fbb8",
   "metadata": {},
   "source": [
    "Based on some experimentation, I found that `is_self` seems to mean that the post uses purely text and does not have embedded images or videos. There is a pretty strong split between the two reddits as to which type of post they prefer."
   ]
  },
  {
   "cell_type": "code",
   "execution_count": 99,
   "id": "ab4f9cbc-6ca7-4a27-a48f-f66094fa5310",
   "metadata": {},
   "outputs": [
    {
     "data": {
      "text/plain": [
       "(0.97, 1.0, 0.99)"
      ]
     },
     "execution_count": 99,
     "metadata": {},
     "output_type": "execute_result"
    }
   ],
   "source": [
    "has_selftext1 = dada_base1['is_self'].value_counts(normalize=True)[True]\n",
    "has_selftext2 = dada_base2['is_self'].value_counts(normalize=True)[True]\n",
    "has_selftext3 = dada_base3['is_self'].value_counts(normalize=True)[True]\n",
    "\n",
    "has_selftext1, has_selftext2, has_selftext3"
   ]
  },
  {
   "cell_type": "markdown",
   "id": "13747b2b-678f-42f1-9fdd-70dbdd739084",
   "metadata": {},
   "source": [
    "We see that 97% of the top 100 posts by score are purely text based. 100% of the top 100 NSFW posts are also purely text based and 99% of the spoiler posts are aslo purely text based. Compare this to TTT below"
   ]
  },
  {
   "cell_type": "code",
   "execution_count": 100,
   "id": "567e6b9c-340a-4b55-b1cb-7692cb80a80e",
   "metadata": {},
   "outputs": [
    {
     "data": {
      "text/plain": [
       "(1.0, 0.94, 0.95)"
      ]
     },
     "execution_count": 100,
     "metadata": {},
     "output_type": "execute_result"
    }
   ],
   "source": [
    "has_selftext1 = bear_data1['is_self'].value_counts(normalize=True)[False]\n",
    "has_selftext2 = bear_data2['is_self'].value_counts(normalize=True)[False]\n",
    "has_selftext3 = bear_data3['is_self'].value_counts(normalize=True)[False]\n",
    "\n",
    "has_selftext1, has_selftext2, has_selftext3"
   ]
  },
  {
   "cell_type": "markdown",
   "id": "35cb0793-7351-495c-9d17-dd7b36d920ea",
   "metadata": {},
   "source": [
    "Here we see that 100\\% of the top 100 TTT posts used images of other media in lieu of text, meanwhile 94% of the NSFW posts and 95% of the spoiler posts also used embedded media in place of text. What this means is two-fold."
   ]
  },
  {
   "cell_type": "markdown",
   "id": "70a2573b-7960-4926-ae88-06275b99c212",
   "metadata": {},
   "source": [
    "1) The TTT data will need to be cleaned before it can be used in a natural language processor.\n",
    "2) A naive, yet very accurate classifier of posts could merely guess that a post is from dadjokes if `is_self` is `True` and guess that a post is TTT if `is_self` is `False`. While such a model scores very well, it is not in the spirit of trying to classify these posts based on content"
   ]
  },
  {
   "cell_type": "markdown",
   "id": "7d47b60b-02d8-4e4e-b420-f1b85340851a",
   "metadata": {},
   "source": [
    "So, we proceed to deal with point 1 by using `pytesseract` for optical character recognition."
   ]
  },
  {
   "cell_type": "code",
   "execution_count": 101,
   "id": "192ff9c5-02c8-4349-8566-8977b78af313",
   "metadata": {},
   "outputs": [],
   "source": [
    "pytesseract.pytesseract.tesseract_cmd = r'C:\\Users\\chris\\AppData\\Local\\Programs\\Tesseract-OCR\\tesseract.exe'\n",
    "# https://pypi.org/project/pytesseract/ is how I found to do this."
   ]
  },
  {
   "cell_type": "code",
   "execution_count": 102,
   "id": "464ce2ac-6e9d-43ea-a0b1-2d2f7d42042b",
   "metadata": {},
   "outputs": [],
   "source": [
    "from urllib.request import urlretrieve"
   ]
  },
  {
   "cell_type": "markdown",
   "id": "61dd2470-6189-486b-9fcd-59906eb6ac24",
   "metadata": {},
   "source": [
    "Before applying pytesseract to our reddit posts, we would like to check that they actually contain live images rather than broken links or videos. This is a two step process and we isolate the embedded videos first."
   ]
  },
  {
   "cell_type": "code",
   "execution_count": 103,
   "id": "20ea8933-6a71-4a5f-9dcd-11be5b83756b",
   "metadata": {},
   "outputs": [],
   "source": [
    "data_frame_dict = {'dada_base1' : dada_base1, \n",
    "                   'dada_base2' : dada_base2, \n",
    "                   'dada_base3' : dada_base3, \n",
    "                   'bear_data1' : bear_data1, \n",
    "                   'bear_data2' : bear_data2, \n",
    "                   'bear_data3' : bear_data3\n",
    "                  }"
   ]
  },
  {
   "cell_type": "code",
   "execution_count": 104,
   "id": "8ccf8287-0a4b-4372-a816-2d27df1bdce2",
   "metadata": {
    "tags": []
   },
   "outputs": [
    {
     "name": "stdout",
     "output_type": "stream",
     "text": [
      "dada_base1 has only images and/or text\n",
      "dada_base2 has only images and/or text\n",
      "dada_base3 has only images and/or text\n",
      "bear_data1 has only images and/or text\n"
     ]
    }
   ],
   "source": [
    "for name in data_frame_dict.keys():\n",
    "    try:\n",
    "        data_frame = data_frame_dict[name]\n",
    "        data_frame['media'].isna().sum() #The values that are not NA have videos rather than images and should be ommitted.\n",
    "    except:\n",
    "        print(f'{name} has only images and/or text')"
   ]
  },
  {
   "cell_type": "markdown",
   "id": "7d9c9457-aedd-4995-92ec-0b2dae8839f2",
   "metadata": {},
   "source": [
    "This shows that only the NSFW and Spoiler TTT data sets have embedded videos. Focusing on these two, we find:"
   ]
  },
  {
   "cell_type": "code",
   "execution_count": 105,
   "id": "6a64d72d-5acc-458b-9b90-d3c59328019e",
   "metadata": {},
   "outputs": [
    {
     "data": {
      "text/plain": [
       "(99, 99)"
      ]
     },
     "execution_count": 105,
     "metadata": {},
     "output_type": "execute_result"
    }
   ],
   "source": [
    "bear_data2['media'].isna().sum(), bear_data3['media'].isna().sum()"
   ]
  },
  {
   "cell_type": "markdown",
   "id": "efae0311-ac83-4881-b88e-2501ba475115",
   "metadata": {},
   "source": [
    "Hence, only one of each contains a video rather than text and images. While we can find these values below, since there are only two of them, we choose not to drop them."
   ]
  },
  {
   "cell_type": "code",
   "execution_count": 106,
   "id": "bc4bd01e-3d02-4cba-b0c7-321a835b44af",
   "metadata": {},
   "outputs": [
    {
     "data": {
      "text/plain": [
       "Int64Index([45], dtype='int64')"
      ]
     },
     "execution_count": 106,
     "metadata": {},
     "output_type": "execute_result"
    }
   ],
   "source": [
    "bear_data2[~(bear_data2['media'].isna())].index"
   ]
  },
  {
   "cell_type": "code",
   "execution_count": 107,
   "id": "001df182-3119-4295-98d1-cfccb55dcb16",
   "metadata": {},
   "outputs": [
    {
     "data": {
      "text/plain": [
       "Int64Index([75], dtype='int64')"
      ]
     },
     "execution_count": 107,
     "metadata": {},
     "output_type": "execute_result"
    }
   ],
   "source": [
    "bear_data3[~(bear_data3['media'].isna())].index"
   ]
  },
  {
   "cell_type": "markdown",
   "id": "708f88cc-a2ea-41da-9619-deced2d44dcc",
   "metadata": {},
   "source": [
    "Now, our data sets are ready for part 2 of the cleaning. We need to convert any working image links to text."
   ]
  },
  {
   "cell_type": "code",
   "execution_count": 109,
   "id": "27aadcf9-e88b-4e8d-a1c6-97d23a8b791c",
   "metadata": {},
   "outputs": [],
   "source": [
    "from PIL import Image\n",
    "import numpy as np"
   ]
  },
  {
   "cell_type": "code",
   "execution_count": 110,
   "id": "be940c33-c907-44b2-a68a-8838689c4282",
   "metadata": {},
   "outputs": [],
   "source": [
    "text_dict = {name: [] for name in data_frame_dict.keys()}\n",
    "for name in data_frame_dict.keys():\n",
    "    df=data_frame_dict[name]\n",
    "    for i in range(len(df)):\n",
    "        try:\n",
    "            img = urlretrieve(df['url'][i], 'image.png')\n",
    "            text = pytesseract.image_to_string(Image.open('image.png'))\n",
    "            text_dict[name].append(text)\n",
    "        except:\n",
    "            text_dict[name].append(np.nan) #This is so that we can fill out our column without worrying about indices"
   ]
  },
  {
   "cell_type": "code",
   "execution_count": 111,
   "id": "1606ecb2-518f-40b5-bf6f-a9a405535ab7",
   "metadata": {
    "tags": []
   },
   "outputs": [],
   "source": [
    "#text_dict['bear_data2'].append(np.nan)\n",
    "#text_dict['bear_data3'].append(np.nan) #whoops!"
   ]
  },
  {
   "cell_type": "code",
   "execution_count": 136,
   "id": "b1f2332c-8560-4f2b-a9bb-225200e68975",
   "metadata": {},
   "outputs": [
    {
     "data": {
      "text/html": [
       "<div>\n",
       "<style scoped>\n",
       "    .dataframe tbody tr th:only-of-type {\n",
       "        vertical-align: middle;\n",
       "    }\n",
       "\n",
       "    .dataframe tbody tr th {\n",
       "        vertical-align: top;\n",
       "    }\n",
       "\n",
       "    .dataframe thead th {\n",
       "        text-align: right;\n",
       "    }\n",
       "</style>\n",
       "<table border=\"1\" class=\"dataframe\">\n",
       "  <thead>\n",
       "    <tr style=\"text-align: right;\">\n",
       "      <th></th>\n",
       "      <th>dada_base1</th>\n",
       "      <th>dada_base2</th>\n",
       "      <th>dada_base3</th>\n",
       "      <th>bear_data1</th>\n",
       "      <th>bear_data2</th>\n",
       "      <th>bear_data3</th>\n",
       "    </tr>\n",
       "  </thead>\n",
       "  <tbody>\n",
       "    <tr>\n",
       "      <th>0</th>\n",
       "      <td>NaN</td>\n",
       "      <td>NaN</td>\n",
       "      <td>NaN</td>\n",
       "      <td>q_stalinchristmasspecial\\n\\nReville longbottom...</td>\n",
       "      <td>\\n</td>\n",
       "      <td>\\n</td>\n",
       "    </tr>\n",
       "    <tr>\n",
       "      <th>1</th>\n",
       "      <td>NaN</td>\n",
       "      <td>NaN</td>\n",
       "      <td>NaN</td>\n",
       "      <td>PEO\\n\\n  \\n \\n\\n= Telling a dangerously\\noverw...</td>\n",
       "      <td>\\n</td>\n",
       "      <td>\\n\\n(ws. SPOILER\\n\\n® %\\n</td>\n",
       "    </tr>\n",
       "  </tbody>\n",
       "</table>\n",
       "</div>"
      ],
      "text/plain": [
       "  dada_base1  dada_base2  dada_base3  \\\n",
       "0        NaN         NaN         NaN   \n",
       "1        NaN         NaN         NaN   \n",
       "\n",
       "                                          bear_data1 bear_data2  \\\n",
       "0  q_stalinchristmasspecial\\n\\nReville longbottom...        \\n\n",
       "   \n",
       "1  PEO\\n\\n  \\n \\n\\n= Telling a dangerously\\noverw...        \\n\n",
       "   \n",
       "\n",
       "                    bear_data3  \n",
       "0                          \\n\n",
       "  \n",
       "1   \\n\\n(ws. SPOILER\\n\\n® %\\n\n",
       "  "
      ]
     },
     "execution_count": 136,
     "metadata": {},
     "output_type": "execute_result"
    }
   ],
   "source": [
    "df_messy = pd.DataFrame(text_dict)\n",
    "df_messy.head(2)"
   ]
  },
  {
   "cell_type": "code",
   "execution_count": 114,
   "id": "0c7718d5-506d-4e8e-a41f-aabfae18a986",
   "metadata": {},
   "outputs": [],
   "source": [
    "dada_base1['mess_text']=df_messy['dada_base1']\n",
    "dada_base2['mess_text']=df_messy['dada_base2']\n",
    "dada_base3['mess_text']=df_messy['dada_base3']\n",
    "bear_data1['mess_text']=df_messy['bear_data1']"
   ]
  },
  {
   "cell_type": "code",
   "execution_count": 115,
   "id": "7e03d3e4-ae77-4086-afda-45f9a831ec99",
   "metadata": {},
   "outputs": [],
   "source": [
    "bear_data2['mess_text']=df_messy['bear_data2'][:98]\n",
    "\n",
    "(bear_data2['selftext']=='').value_counts()\n",
    "\n",
    "bear_data2.shape\n",
    "\n",
    "empty_subframe=bear_data2[bear_data2['mess_text']==np.nan]\n",
    "\n",
    "empty_subframe['mess_text']=empty_subframe['selftext']\n",
    "\n",
    "#bear_data2['mess_text'][6]"
   ]
  },
  {
   "cell_type": "code",
   "execution_count": 116,
   "id": "0f12ff93-c9ca-4518-8981-64cded85232e",
   "metadata": {},
   "outputs": [],
   "source": [
    "bear_data3['mess_text']=df_messy['bear_data3'][:98]\n",
    "\n",
    "(bear_data3['selftext']=='').value_counts()\n",
    "\n",
    "bear_data3.shape\n",
    "\n",
    "empty_subframe2=bear_data3[bear_data3['mess_text']==np.nan]\n",
    "\n",
    "empty_subframe['mess_text']=empty_subframe['selftext']\n",
    "\n",
    "#bear_data3['mess_text'][6]"
   ]
  },
  {
   "cell_type": "code",
   "execution_count": 117,
   "id": "67d274c0-88b1-4218-a0a8-f70b0001dfc4",
   "metadata": {},
   "outputs": [],
   "source": [
    "from sklearn.feature_extraction.text import CountVectorizer"
   ]
  },
  {
   "cell_type": "code",
   "execution_count": 120,
   "id": "bc656671-1258-4fc6-89c1-dddf19f29e78",
   "metadata": {},
   "outputs": [],
   "source": [
    "blood_sweat_and_tears1 = bear_data1[['title','mess_text','subreddit']].replace(np.nan, '')\n",
    "blood_sweat_and_tears2 = bear_data2[['title','mess_text','subreddit']].replace(np.nan, '')\n",
    "blood_sweat_and_tears3 = bear_data3[['title','mess_text','subreddit']].replace(np.nan, '')"
   ]
  },
  {
   "cell_type": "code",
   "execution_count": 121,
   "id": "8f46bbc8-7b3d-4303-a73c-b4f7484f4744",
   "metadata": {},
   "outputs": [],
   "source": [
    "#Initialize our CountVectorizer\n",
    "c_vec = CountVectorizer(stop_words='english')"
   ]
  },
  {
   "cell_type": "code",
   "execution_count": 122,
   "id": "1f098ab2-60f2-402b-bed0-850ce407edad",
   "metadata": {
    "tags": []
   },
   "outputs": [],
   "source": [
    "from sklearn.model_selection import train_test_split\n",
    "from sklearn.linear_model import LogisticRegression"
   ]
  },
  {
   "cell_type": "code",
   "execution_count": 123,
   "id": "600a60e5-deca-444a-aff8-dc5303e462d9",
   "metadata": {
    "tags": []
   },
   "outputs": [],
   "source": [
    "prep_data = dada_base1[['title','selftext']]\n",
    "prep_data.columns = ['title', 'mess_text']"
   ]
  },
  {
   "cell_type": "code",
   "execution_count": 164,
   "id": "1624cb80-9fd9-44e1-b6bd-af92ce3f84aa",
   "metadata": {},
   "outputs": [
    {
     "data": {
      "text/html": [
       "<div>\n",
       "<style scoped>\n",
       "    .dataframe tbody tr th:only-of-type {\n",
       "        vertical-align: middle;\n",
       "    }\n",
       "\n",
       "    .dataframe tbody tr th {\n",
       "        vertical-align: top;\n",
       "    }\n",
       "\n",
       "    .dataframe thead th {\n",
       "        text-align: right;\n",
       "    }\n",
       "</style>\n",
       "<table border=\"1\" class=\"dataframe\">\n",
       "  <thead>\n",
       "    <tr style=\"text-align: right;\">\n",
       "      <th></th>\n",
       "      <th>title</th>\n",
       "      <th>mess_text</th>\n",
       "    </tr>\n",
       "  </thead>\n",
       "  <tbody>\n",
       "    <tr>\n",
       "      <th>0</th>\n",
       "      <td>Do you agree? Was he the main character all al...</td>\n",
       "      <td>q_stalinchristmasspecial\\n\\nReville longbottom...</td>\n",
       "    </tr>\n",
       "    <tr>\n",
       "      <th>1</th>\n",
       "      <td>In a way?</td>\n",
       "      <td>PEO\\n\\n  \\n \\n\\n= Telling a dangerously\\noverw...</td>\n",
       "    </tr>\n",
       "  </tbody>\n",
       "</table>\n",
       "</div>"
      ],
      "text/plain": [
       "                                               title  \\\n",
       "0  Do you agree? Was he the main character all al...   \n",
       "1                                          In a way?   \n",
       "\n",
       "                                           mess_text  \n",
       "0  q_stalinchristmasspecial\\n\\nReville longbottom...  \n",
       "1  PEO\\n\\n  \\n \\n\\n= Telling a dangerously\\noverw...  "
      ]
     },
     "execution_count": 164,
     "metadata": {},
     "output_type": "execute_result"
    }
   ],
   "source": [
    "X=pd.concat([blood_sweat_and_tears1.drop(columns='subreddit'), prep_data[['title','mess_text']]])\n",
    "X.head(2)"
   ]
  },
  {
   "cell_type": "code",
   "execution_count": 167,
   "id": "2ea67b76-cc78-4663-a938-6aed6ee32445",
   "metadata": {
    "tags": []
   },
   "outputs": [],
   "source": [
    "X.reset_index(inplace=True)"
   ]
  },
  {
   "cell_type": "code",
   "execution_count": 169,
   "id": "d9ab2327-059a-4206-bc92-14e0405dc01b",
   "metadata": {},
   "outputs": [],
   "source": [
    "y=pd.concat([\n",
    "    pd.DataFrame(np.full_like(blood_sweat_and_tears1['title'],0)), \n",
    "    pd.DataFrame(np.full_like(blood_sweat_and_tears1['title'],1))]) "
   ]
  },
  {
   "cell_type": "code",
   "execution_count": 170,
   "id": "b7149c18-664f-4102-b8ff-05fe62715093",
   "metadata": {
    "tags": []
   },
   "outputs": [],
   "source": [
    "y=y.squeeze().astype(int)"
   ]
  },
  {
   "cell_type": "code",
   "execution_count": 181,
   "id": "cb69e68d-6698-48c4-8335-59803a0597be",
   "metadata": {},
   "outputs": [],
   "source": [
    "y.index = y.reset_index().index #Pandas Series aren't as easy to reset the index of"
   ]
  },
  {
   "cell_type": "code",
   "execution_count": 183,
   "id": "aa56a591-ad8a-4e8d-98cd-7609cbab6bb3",
   "metadata": {},
   "outputs": [
    {
     "data": {
      "text/plain": [
       "(RangeIndex(start=0, stop=200, step=1), RangeIndex(start=0, stop=200, step=1))"
      ]
     },
     "execution_count": 183,
     "metadata": {},
     "output_type": "execute_result"
    }
   ],
   "source": [
    "X.index, y.index"
   ]
  },
  {
   "cell_type": "code",
   "execution_count": 196,
   "id": "3439f642-dc5a-40a4-ae18-315aa207d3d9",
   "metadata": {},
   "outputs": [],
   "source": [
    "X_train, X_test, y_train, y_test = train_test_split(X,y, stratify=y, random_state = 42)"
   ]
  },
  {
   "cell_type": "code",
   "execution_count": 197,
   "id": "d58ae866-9e87-4a17-b6b1-d2ec8c018fa1",
   "metadata": {},
   "outputs": [
    {
     "name": "stderr",
     "output_type": "stream",
     "text": [
      "C:\\Users\\chris\\miniconda3\\lib\\site-packages\\sklearn\\utils\\deprecation.py:87: FutureWarning: Function get_feature_names is deprecated; get_feature_names is deprecated in 1.0 and will be removed in 1.2. Please use get_feature_names_out instead.\n",
      "  warnings.warn(msg, category=FutureWarning)\n"
     ]
    }
   ],
   "source": [
    "X_train_transformed = pd.DataFrame(c_vec.fit_transform(X_train['mess_text']).toarray(), columns = c_vec.get_feature_names())\n",
    "X_test_transformed = pd.DataFrame(c_vec.transform(X_test['mess_text']).toarray(), columns = c_vec.get_feature_names())"
   ]
  },
  {
   "cell_type": "code",
   "execution_count": 198,
   "id": "d1ecc432-bf6b-4212-8727-48bd2942e213",
   "metadata": {},
   "outputs": [],
   "source": [
    "logreg = LogisticRegression()"
   ]
  },
  {
   "cell_type": "code",
   "execution_count": 199,
   "id": "33c2b199-b04a-46e0-a658-e1d3b02dc322",
   "metadata": {},
   "outputs": [
    {
     "data": {
      "text/plain": [
       "LogisticRegression()"
      ]
     },
     "execution_count": 199,
     "metadata": {},
     "output_type": "execute_result"
    }
   ],
   "source": [
    "logreg.fit(X_train_transformed,y_train)"
   ]
  },
  {
   "cell_type": "markdown",
   "id": "967e848d-2446-4bf8-a454-58acca475a37",
   "metadata": {},
   "source": [
    "The feature importances can be seen below:"
   ]
  },
  {
   "cell_type": "code",
   "execution_count": 258,
   "id": "0e0928d7-3ad9-498c-8c10-1e2b448a1aa9",
   "metadata": {},
   "outputs": [],
   "source": [
    "coefficients = pd.DataFrame( logreg.coef_[0], X_train_transformed.drop(columns=['title_word_count','title_length']).columns)"
   ]
  },
  {
   "cell_type": "code",
   "execution_count": 259,
   "id": "f8ab56de-0d41-4f64-9906-31bd8c4dd828",
   "metadata": {},
   "outputs": [
    {
     "data": {
      "text/html": [
       "<div>\n",
       "<style scoped>\n",
       "    .dataframe tbody tr th:only-of-type {\n",
       "        vertical-align: middle;\n",
       "    }\n",
       "\n",
       "    .dataframe tbody tr th {\n",
       "        vertical-align: top;\n",
       "    }\n",
       "\n",
       "    .dataframe thead th {\n",
       "        text-align: right;\n",
       "    }\n",
       "</style>\n",
       "<table border=\"1\" class=\"dataframe\">\n",
       "  <thead>\n",
       "    <tr style=\"text-align: right;\">\n",
       "      <th></th>\n",
       "      <th>0</th>\n",
       "    </tr>\n",
       "  </thead>\n",
       "  <tbody>\n",
       "    <tr>\n",
       "      <th>02</th>\n",
       "      <td>-0.114059</td>\n",
       "    </tr>\n",
       "    <tr>\n",
       "      <th>03</th>\n",
       "      <td>-0.132932</td>\n",
       "    </tr>\n",
       "    <tr>\n",
       "      <th>04</th>\n",
       "      <td>-0.022964</td>\n",
       "    </tr>\n",
       "    <tr>\n",
       "      <th>07</th>\n",
       "      <td>-0.097610</td>\n",
       "    </tr>\n",
       "    <tr>\n",
       "      <th>0k</th>\n",
       "      <td>-0.038910</td>\n",
       "    </tr>\n",
       "  </tbody>\n",
       "</table>\n",
       "</div>"
      ],
      "text/plain": [
       "           0\n",
       "02 -0.114059\n",
       "03 -0.132932\n",
       "04 -0.022964\n",
       "07 -0.097610\n",
       "0k -0.038910"
      ]
     },
     "execution_count": 259,
     "metadata": {},
     "output_type": "execute_result"
    }
   ],
   "source": [
    "coefficients.head()"
   ]
  },
  {
   "cell_type": "code",
   "execution_count": 261,
   "id": "1edd7bac-8c31-413c-948c-32cae038bbf6",
   "metadata": {},
   "outputs": [],
   "source": [
    "coefficients.reset_index(inplace=True)"
   ]
  },
  {
   "cell_type": "code",
   "execution_count": 262,
   "id": "79206f3e-d208-4174-9030-9136c1c80e33",
   "metadata": {},
   "outputs": [],
   "source": [
    "coefficients.columns=['features','coefficients']"
   ]
  },
  {
   "cell_type": "code",
   "execution_count": null,
   "id": "b99d78cd-5f5c-4420-afd1-54de088417a7",
   "metadata": {},
   "outputs": [],
   "source": []
  },
  {
   "cell_type": "code",
   "execution_count": 263,
   "id": "5ffeec35-d0b2-411c-960b-5cd9237d5842",
   "metadata": {},
   "outputs": [
    {
     "data": {
      "text/html": [
       "<div>\n",
       "<style scoped>\n",
       "    .dataframe tbody tr th:only-of-type {\n",
       "        vertical-align: middle;\n",
       "    }\n",
       "\n",
       "    .dataframe tbody tr th {\n",
       "        vertical-align: top;\n",
       "    }\n",
       "\n",
       "    .dataframe thead th {\n",
       "        text-align: right;\n",
       "    }\n",
       "</style>\n",
       "<table border=\"1\" class=\"dataframe\">\n",
       "  <thead>\n",
       "    <tr style=\"text-align: right;\">\n",
       "      <th></th>\n",
       "      <th>features</th>\n",
       "      <th>coefficients</th>\n",
       "    </tr>\n",
       "  </thead>\n",
       "  <tbody>\n",
       "    <tr>\n",
       "      <th>437</th>\n",
       "      <td>filter</td>\n",
       "      <td>-0.664173</td>\n",
       "    </tr>\n",
       "    <tr>\n",
       "      <th>617</th>\n",
       "      <td>like</td>\n",
       "      <td>-0.652058</td>\n",
       "    </tr>\n",
       "    <tr>\n",
       "      <th>885</th>\n",
       "      <td>share</td>\n",
       "      <td>-0.625322</td>\n",
       "    </tr>\n",
       "    <tr>\n",
       "      <th>782</th>\n",
       "      <td>pm</td>\n",
       "      <td>-0.614208</td>\n",
       "    </tr>\n",
       "    <tr>\n",
       "      <th>818</th>\n",
       "      <td>read</td>\n",
       "      <td>-0.599365</td>\n",
       "    </tr>\n",
       "    <tr>\n",
       "      <th>...</th>\n",
       "      <td>...</td>\n",
       "      <td>...</td>\n",
       "    </tr>\n",
       "    <tr>\n",
       "      <th>915</th>\n",
       "      <td>son</td>\n",
       "      <td>0.387697</td>\n",
       "    </tr>\n",
       "    <tr>\n",
       "      <th>312</th>\n",
       "      <td>dad</td>\n",
       "      <td>0.402237</td>\n",
       "    </tr>\n",
       "    <tr>\n",
       "      <th>581</th>\n",
       "      <td>know</td>\n",
       "      <td>0.443879</td>\n",
       "    </tr>\n",
       "    <tr>\n",
       "      <th>832</th>\n",
       "      <td>replied</td>\n",
       "      <td>0.497548</td>\n",
       "    </tr>\n",
       "    <tr>\n",
       "      <th>829</th>\n",
       "      <td>removed</td>\n",
       "      <td>0.544567</td>\n",
       "    </tr>\n",
       "  </tbody>\n",
       "</table>\n",
       "<p>1124 rows × 2 columns</p>\n",
       "</div>"
      ],
      "text/plain": [
       "    features  coefficients\n",
       "437   filter     -0.664173\n",
       "617     like     -0.652058\n",
       "885    share     -0.625322\n",
       "782       pm     -0.614208\n",
       "818     read     -0.599365\n",
       "..       ...           ...\n",
       "915      son      0.387697\n",
       "312      dad      0.402237\n",
       "581     know      0.443879\n",
       "832  replied      0.497548\n",
       "829  removed      0.544567\n",
       "\n",
       "[1124 rows x 2 columns]"
      ]
     },
     "execution_count": 263,
     "metadata": {},
     "output_type": "execute_result"
    }
   ],
   "source": [
    "coefficients.sort_values(by = 'coefficients')"
   ]
  },
  {
   "cell_type": "markdown",
   "id": "5ce6ea19-fc4d-4fb1-adca-069c213a54eb",
   "metadata": {},
   "source": [
    "The 5 most correlated terms with dadjokes are: removed, replied, know, dad, and son. These last two are not so surprising, but it is interesting that \"removed\" is so high up. \"replied\" makes some sense due to dadjokes often having the punchline to a joke in their selftext. "
   ]
  },
  {
   "cell_type": "markdown",
   "id": "bd31f29f-9836-4e47-8446-6d17cdddee20",
   "metadata": {},
   "source": [
    "The 5 most correlated terms with technicallythetruth posts are filter, like, share, pm and read. All of which are likely artifacts of posts being screenshots from reddit, Tumblr and Twitter."
   ]
  },
  {
   "cell_type": "markdown",
   "id": "a4e9e581-c97f-44a1-a0c7-04de0e4e1069",
   "metadata": {},
   "source": [
    "### Explanation of LogOdds"
   ]
  },
  {
   "cell_type": "markdown",
   "id": "c7fe6458-20ec-4f4b-ab56-83bd7880b79a",
   "metadata": {},
   "source": [
    "Note, the coefficients of a logistic regression are log odds. Meaning the logarithm of the probability that the event occurs over the probability that the event does not occur. Some important properties of logarithms are that\n",
    "1) $\\text{log}(x)$ is a strictly increasing function of $x$.\n",
    "2) $\\text{log}(x)>0$ for $x>1$ and $\\text{log}(x)<0$ for $x<1$.  \n",
    "\n",
    "In particular, high positive and high negative values mean strong predictors since they represent a strong imbalance between the probability an event occurs and the probability of the complementary event."
   ]
  },
  {
   "cell_type": "markdown",
   "id": "7fed66a1-8fc0-4370-9d73-db779b8d34ee",
   "metadata": {},
   "source": []
  },
  {
   "cell_type": "code",
   "execution_count": 201,
   "id": "37aa4bcd-170b-4ad6-9d52-327cefb8f423",
   "metadata": {},
   "outputs": [
    {
     "data": {
      "text/plain": [
       "0.66"
      ]
     },
     "execution_count": 201,
     "metadata": {},
     "output_type": "execute_result"
    }
   ],
   "source": [
    "logreg.score(X_test_transformed, y_test)"
   ]
  },
  {
   "cell_type": "markdown",
   "id": "d630ba87-a5f1-405d-b348-21493581c007",
   "metadata": {},
   "source": [
    "This is a $16\\%$ improvement over the baseline $50\\%$."
   ]
  },
  {
   "cell_type": "markdown",
   "id": "de0ccca2-545f-4854-873f-0ef80f842947",
   "metadata": {
    "tags": []
   },
   "source": [
    "But, for a more relevant baseline, we engineer two new features: title length and title word count."
   ]
  },
  {
   "cell_type": "code",
   "execution_count": 209,
   "id": "b816f646-d2f8-42ba-b679-2725a5503328",
   "metadata": {},
   "outputs": [],
   "source": [
    "X_train_transformed['title_length'] = X_train['title'].str.len()\n",
    "X_train_transformed['title_word_count'] = X_train['title'].str.split().str.len()\n",
    "\n",
    "\n",
    "X_test_transformed['title_length'] = X_test['title'].str.len()\n",
    "X_test_transformed['title_word_count'] = X_test['title'].str.split().str.len()\n"
   ]
  },
  {
   "cell_type": "code",
   "execution_count": 264,
   "id": "19e46e66-027e-42cf-bccf-aa0f5dbfa808",
   "metadata": {},
   "outputs": [],
   "source": [
    "from sklearn.preprocessing import StandardScaler"
   ]
  },
  {
   "cell_type": "code",
   "execution_count": 274,
   "id": "51844e1d-4d7d-4235-94e6-6533a314c3b1",
   "metadata": {},
   "outputs": [],
   "source": [
    "ss = StandardScaler()"
   ]
  },
  {
   "cell_type": "code",
   "execution_count": 275,
   "id": "f3659ea0-29a1-44cf-be4b-9062f26523aa",
   "metadata": {},
   "outputs": [],
   "source": [
    "X_train_scaled = ss.fit_transform(X_train_transformed.loc[:, ['title_length', 'title_word_count']].replace(np.nan, 0))"
   ]
  },
  {
   "cell_type": "code",
   "execution_count": 276,
   "id": "32022318-871b-4431-a876-e0ddd8cecd32",
   "metadata": {},
   "outputs": [],
   "source": [
    "X_test_scaled = ss. transform(X_test_transformed.loc[:, ['title_length', 'title_word_count']].replace(np.nan, 0))"
   ]
  },
  {
   "cell_type": "markdown",
   "id": "9ce75a08-3c16-4a29-a3c9-e23caec6ff53",
   "metadata": {},
   "source": [
    "With this in mind, we can create a new regression model on just these features."
   ]
  },
  {
   "cell_type": "code",
   "execution_count": 277,
   "id": "3b87b59e-0d44-44ed-843c-06564ba7558a",
   "metadata": {},
   "outputs": [
    {
     "data": {
      "text/plain": [
       "0.48"
      ]
     },
     "execution_count": 277,
     "metadata": {},
     "output_type": "execute_result"
    }
   ],
   "source": [
    "logreg2 = LogisticRegression()\n",
    "logreg2.fit(X_train_scaled,y_train)\n",
    "logreg2.score(X_test_scaled, y_test)"
   ]
  },
  {
   "cell_type": "markdown",
   "id": "555b5a21-cfe8-421f-a44a-6ce243c03868",
   "metadata": {},
   "source": [
    "This model preformed worse than the baseline. So, not only is our NLP model uncovering new insights about the data, it cannot be easily replaced by another simple model."
   ]
  },
  {
   "cell_type": "markdown",
   "id": "0caa0356-f22b-441f-93bb-83c6d94f41b2",
   "metadata": {},
   "source": [
    "### Confusion Matrices and Conclusion"
   ]
  },
  {
   "cell_type": "markdown",
   "id": "ecf7e2c3-94fd-41d1-a0e0-b1cf64f12f8c",
   "metadata": {},
   "source": [
    "For distinguishing between dadjokes and TTT posts, on behalf of TTT, we are particularly interested in avoiding misclassifying TTT posts as dadjokes. The following confusion matrices serve as a good guide as to how we are doing in this regard."
   ]
  },
  {
   "cell_type": "code",
   "execution_count": 217,
   "id": "d5de3465-4362-4087-9f4f-de0d5f213700",
   "metadata": {},
   "outputs": [],
   "source": [
    "preds = logreg.predict(X_test_transformed.drop(columns=['title_length','title_word_count']))"
   ]
  },
  {
   "cell_type": "code",
   "execution_count": 219,
   "id": "4ad305c2-975e-4415-b09c-5335ca248c7b",
   "metadata": {},
   "outputs": [],
   "source": [
    "preds2 = logreg2.predict(X_test_transformed.loc[:,['title_length','title_word_count']].replace(np.nan, 0))"
   ]
  },
  {
   "cell_type": "code",
   "execution_count": 220,
   "id": "db27f676-d7f1-4889-a0d6-2820f8302b78",
   "metadata": {},
   "outputs": [],
   "source": [
    "from sklearn.metrics import ConfusionMatrixDisplay"
   ]
  },
  {
   "cell_type": "code",
   "execution_count": 222,
   "id": "bb416e69-4f24-491d-b111-75178ca9c7ba",
   "metadata": {},
   "outputs": [
    {
     "data": {
      "image/png": "[encoded data removed]",
      "text/plain": [
       "<Figure size 432x288 with 2 Axes>"
      ]
     },
     "metadata": {
      "needs_background": "light"
     },
     "output_type": "display_data"
    }
   ],
   "source": [
    "ConfusionMatrixDisplay.from_estimator(logreg, X_test_transformed.drop(columns = ['title_length', 'title_word_count']), y_test, cmap='Blues');"
   ]
  },
  {
   "cell_type": "code",
   "execution_count": 224,
   "id": "3d315b50-85dd-4c3e-96c9-8142552a1975",
   "metadata": {},
   "outputs": [
    {
     "data": {
      "image/png": "[encoded data removed]",
      "text/plain": [
       "<Figure size 432x288 with 2 Axes>"
      ]
     },
     "metadata": {
      "needs_background": "light"
     },
     "output_type": "display_data"
    }
   ],
   "source": [
    "ConfusionMatrixDisplay.from_estimator(logreg2, X_test_transformed.loc[:,['title_length', 'title_word_count']].replace(np.nan,0), y_test, cmap='Blues');"
   ]
  },
  {
   "cell_type": "markdown",
   "id": "ffa15c42-cae7-4bf9-af4d-fe9495223fac",
   "metadata": {},
   "source": [
    "On the test set, our model has a lot of false positives. I.e. A lot of TTT posts are misclassified as being dadjokes."
   ]
  },
  {
   "cell_type": "markdown",
   "id": "b410f207-7320-4f26-a200-a185e22f21c1",
   "metadata": {
    "tags": []
   },
   "source": [
    "While it seems that NLP can be used to distingiush some TTT posts from dadjokes, many TTT posts still have a lot of similarities to dadjokes. So, while dadjokes and TTT have different missions, they appear to use similar language."
   ]
  }
 ],
 "metadata": {
  "kernelspec": {
   "display_name": "Python 3 (ipykernel)",
   "language": "python",
   "name": "python3"
  },
  "language_info": {
   "codemirror_mode": {
    "name": "ipython",
    "version": 3
   },
   "file_extension": ".py",
   "mimetype": "text/x-python",
   "name": "python",
   "nbconvert_exporter": "python",
   "pygments_lexer": "ipython3",
   "version": "3.9.5"
  }
 },
 "nbformat": 4,
 "nbformat_minor": 5
}
