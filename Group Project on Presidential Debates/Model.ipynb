{
 "cells": [
  {
   "cell_type": "code",
   "execution_count": 1,
   "id": "f8731a8b-a4a7-4e6b-be5a-098317730fa8",
   "metadata": {},
   "outputs": [],
   "source": [
    "import os\n",
    "import numpy as np"
   ]
  },
  {
   "cell_type": "code",
   "execution_count": 2,
   "id": "bf7bd0ca-14bb-4880-9d60-4949ebe628e4",
   "metadata": {},
   "outputs": [
    {
     "name": "stdout",
     "output_type": "stream",
     "text": [
      " Volume in drive C is Windows-SSD\n",
      " Volume Serial Number is E4DC-30DF\n",
      "\n",
      " Directory of C:\\Users\\chris\\dsir907\\Project 4\n",
      "\n",
      "10/29/2021  10:42 AM    <DIR>          .\n",
      "10/29/2021  10:42 AM    <DIR>          ..\n",
      "10/28/2021  04:29 PM         4,158,509 .~Project 4 speaker map - cleaned_debate.csv\n",
      "10/29/2021  12:49 AM    <DIR>          .ipynb_checkpoints\n",
      "10/26/2021  04:22 PM    <DIR>          DSIR907-Project4-Group1\n",
      "10/29/2021  10:42 AM            91,906 Model.ipynb\n",
      "10/28/2021  04:29 PM         4,158,509 Project 4 speaker map - cleaned_debate.csv\n",
      "               3 File(s)      8,408,924 bytes\n",
      "               4 Dir(s)  354,795,925,504 bytes free\n"
     ]
    }
   ],
   "source": [
    "ls"
   ]
  },
  {
   "cell_type": "code",
   "execution_count": 3,
   "id": "4ff1d91c-a67f-4f74-b5a1-9eb2ec885a89",
   "metadata": {},
   "outputs": [],
   "source": [
    "import pandas as pd"
   ]
  },
  {
   "cell_type": "code",
   "execution_count": 4,
   "id": "57ded8bd-316a-4521-8f21-2f59b5975799",
   "metadata": {},
   "outputs": [],
   "source": [
    "data = pd.read_csv('Project 4 speaker map - cleaned_debate.csv')"
   ]
  },
  {
   "cell_type": "code",
   "execution_count": 5,
   "id": "b371ec10-38a9-493f-930b-17ea0b380b82",
   "metadata": {},
   "outputs": [],
   "source": [
    "rows = data[(data['Speaker_Map']=='Misc') | (data['Speaker_Map']=='Moderator') | (data['Speaker_Map'] == 'UNKNOWN')].index"
   ]
  },
  {
   "cell_type": "code",
   "execution_count": 6,
   "id": "6d84d59c-c583-4fad-90b7-204d9563767c",
   "metadata": {},
   "outputs": [],
   "source": [
    "data = data.drop(index = rows)"
   ]
  },
  {
   "cell_type": "code",
   "execution_count": 7,
   "id": "ec72c060-3b59-470c-9783-9e73d41998ab",
   "metadata": {},
   "outputs": [
    {
     "data": {
      "text/plain": [
       "array(['Republican', 'Democrat', nan], dtype=object)"
      ]
     },
     "execution_count": 7,
     "metadata": {},
     "output_type": "execute_result"
    }
   ],
   "source": [
    "data['Speaker_Map'].unique()"
   ]
  },
  {
   "cell_type": "code",
   "execution_count": 8,
   "id": "7d3b3ccc-6edf-44c3-a5ac-be0c02112d87",
   "metadata": {},
   "outputs": [],
   "source": [
    "data['Speaker'].fillna('Clinton', inplace=True)"
   ]
  },
  {
   "cell_type": "code",
   "execution_count": 9,
   "id": "d35cc88b-3a2c-4cbb-9f08-b6c21b03afb5",
   "metadata": {},
   "outputs": [],
   "source": [
    "data.dropna(inplace=True)"
   ]
  },
  {
   "cell_type": "code",
   "execution_count": null,
   "id": "49aeda98-5c34-44d5-9258-48e3bd3bbb73",
   "metadata": {},
   "outputs": [],
   "source": []
  },
  {
   "cell_type": "code",
   "execution_count": null,
   "id": "2f358c55-1a9d-41e6-8fc0-efc424367fc2",
   "metadata": {},
   "outputs": [],
   "source": []
  },
  {
   "cell_type": "code",
   "execution_count": 10,
   "id": "6b539233-11b0-4d81-b852-8dcc39a88a51",
   "metadata": {},
   "outputs": [],
   "source": [
    "X= data.Text"
   ]
  },
  {
   "cell_type": "code",
   "execution_count": 11,
   "id": "1fc1660f-68bc-4424-bc7c-ddb9523962a1",
   "metadata": {},
   "outputs": [],
   "source": [
    "y= data['Speaker_Map']"
   ]
  },
  {
   "cell_type": "code",
   "execution_count": 12,
   "id": "4eaa973d-c78e-462f-9831-b80995287600",
   "metadata": {},
   "outputs": [
    {
     "data": {
      "text/plain": [
       "Republican    0.547623\n",
       "Democrat      0.452377\n",
       "Name: Speaker_Map, dtype: float64"
      ]
     },
     "execution_count": 12,
     "metadata": {},
     "output_type": "execute_result"
    }
   ],
   "source": [
    "y.value_counts(normalize=True)"
   ]
  },
  {
   "cell_type": "code",
   "execution_count": 13,
   "id": "57af099b-887f-4719-999f-30274f95e1bf",
   "metadata": {},
   "outputs": [],
   "source": [
    "from sklearn.feature_extraction.text import CountVectorizer\n",
    "from sklearn.pipeline import make_pipeline\n",
    "from sklearn.preprocessing import StandardScaler\n",
    "from sklearn.linear_model import LogisticRegression\n",
    "from sklearn.model_selection import train_test_split"
   ]
  },
  {
   "cell_type": "code",
   "execution_count": 14,
   "id": "4c0ff503-4e63-44b4-a1ec-f3ae0a902deb",
   "metadata": {},
   "outputs": [],
   "source": [
    "X_train, X_test, y_train, y_test = train_test_split(X,y, random_state=4)"
   ]
  },
  {
   "cell_type": "code",
   "execution_count": 15,
   "id": "f33e6570-ceb9-4088-94a2-8e0d7e25e94d",
   "metadata": {},
   "outputs": [],
   "source": [
    "cvec_pipe = make_pipeline(CountVectorizer(stop_words = 'english', max_features = 1000), \n",
    "                          StandardScaler(with_mean=False), \n",
    "                          LogisticRegression(penalty = 'none', max_iter  = 1000))"
   ]
  },
  {
   "cell_type": "code",
   "execution_count": null,
   "id": "7d883a93-8499-4481-82a0-d3e516363621",
   "metadata": {},
   "outputs": [],
   "source": []
  },
  {
   "cell_type": "code",
   "execution_count": 16,
   "id": "66dd82ee-ab8f-48bd-806b-b4fd97f3582b",
   "metadata": {},
   "outputs": [
    {
     "data": {
      "text/plain": [
       "0.6457100591715976"
      ]
     },
     "execution_count": 16,
     "metadata": {},
     "output_type": "execute_result"
    }
   ],
   "source": [
    "cvec_pipe.fit(X_train,y_train)\n",
    "cvec_pipe.score(X_test,y_test)"
   ]
  },
  {
   "cell_type": "code",
   "execution_count": 17,
   "id": "9e4b3894-b486-4130-b35f-a18b8a81f49b",
   "metadata": {},
   "outputs": [],
   "source": [
    "from sklearn.metrics import plot_confusion_matrix"
   ]
  },
  {
   "cell_type": "code",
   "execution_count": 18,
   "id": "ee947bc6-a149-4a87-a69d-76b86cae9d84",
   "metadata": {},
   "outputs": [
    {
     "name": "stderr",
     "output_type": "stream",
     "text": [
      "C:\\Users\\chris\\miniconda3\\lib\\site-packages\\sklearn\\utils\\deprecation.py:87: FutureWarning: Function plot_confusion_matrix is deprecated; Function `plot_confusion_matrix` is deprecated in 1.0 and will be removed in 1.2. Use one of the class methods: ConfusionMatrixDisplay.from_predictions or ConfusionMatrixDisplay.from_estimator.\n",
      "  warnings.warn(msg, category=FutureWarning)\n"
     ]
    },
    {
     "data": {
      "text/plain": [
       "<sklearn.metrics._plot.confusion_matrix.ConfusionMatrixDisplay at 0x1d2bb6402b0>"
      ]
     },
     "execution_count": 18,
     "metadata": {},
     "output_type": "execute_result"
    },
    {
     "data": {
      "image/png": "[encoded data removed]",
      "text/plain": [
       "<Figure size 432x288 with 2 Axes>"
      ]
     },
     "metadata": {
      "needs_background": "light"
     },
     "output_type": "display_data"
    }
   ],
   "source": [
    "plot_confusion_matrix(cvec_pipe, X_test, y_test)"
   ]
  },
  {
   "cell_type": "code",
   "execution_count": 19,
   "id": "77c50c65-11ea-4080-bc79-82785d8008c8",
   "metadata": {},
   "outputs": [
    {
     "data": {
      "text/html": [
       "<div>\n",
       "<style scoped>\n",
       "    .dataframe tbody tr th:only-of-type {\n",
       "        vertical-align: middle;\n",
       "    }\n",
       "\n",
       "    .dataframe tbody tr th {\n",
       "        vertical-align: top;\n",
       "    }\n",
       "\n",
       "    .dataframe thead th {\n",
       "        text-align: right;\n",
       "    }\n",
       "</style>\n",
       "<table border=\"1\" class=\"dataframe\">\n",
       "  <thead>\n",
       "    <tr style=\"text-align: right;\">\n",
       "      <th></th>\n",
       "      <th>Text</th>\n",
       "      <th>Speaker_Map</th>\n",
       "    </tr>\n",
       "  </thead>\n",
       "  <tbody>\n",
       "    <tr>\n",
       "      <th>3698</th>\n",
       "      <td>... what we don’t want to do is give our alli...</td>\n",
       "      <td>Republican</td>\n",
       "    </tr>\n",
       "    <tr>\n",
       "      <th>568</th>\n",
       "      <td>Excuse me. He was against fracking. He said i...</td>\n",
       "      <td>Republican</td>\n",
       "    </tr>\n",
       "    <tr>\n",
       "      <th>2142</th>\n",
       "      <td>And so we removed — we removed all of our...,</td>\n",
       "      <td>Republican</td>\n",
       "    </tr>\n",
       "    <tr>\n",
       "      <th>3902</th>\n",
       "      <td>Well, Jim, our seniors depend on these progra...</td>\n",
       "      <td>Republican</td>\n",
       "    </tr>\n",
       "    <tr>\n",
       "      <th>3078</th>\n",
       "      <td>Governor, the people in Detroit don’t forget....</td>\n",
       "      <td>Democrat</td>\n",
       "    </tr>\n",
       "    <tr>\n",
       "      <th>...</th>\n",
       "      <td>...</td>\n",
       "      <td>...</td>\n",
       "    </tr>\n",
       "    <tr>\n",
       "      <th>8578</th>\n",
       "      <td>Yes.) Did you clear the response you made wit...</td>\n",
       "      <td>Democrat</td>\n",
       "    </tr>\n",
       "    <tr>\n",
       "      <th>7312</th>\n",
       "      <td>I do want to respond to that.,</td>\n",
       "      <td>Democrat</td>\n",
       "    </tr>\n",
       "    <tr>\n",
       "      <th>8573</th>\n",
       "      <td>I don’t have a response., MS.</td>\n",
       "      <td>Democrat</td>\n",
       "    </tr>\n",
       "    <tr>\n",
       "      <th>3761</th>\n",
       "      <td>What is in the national interests of the Amer...</td>\n",
       "      <td>Republican</td>\n",
       "    </tr>\n",
       "    <tr>\n",
       "      <th>8219</th>\n",
       "      <td>One of the key tests of leadership is whether...</td>\n",
       "      <td>Democrat</td>\n",
       "    </tr>\n",
       "  </tbody>\n",
       "</table>\n",
       "<p>1352 rows × 2 columns</p>\n",
       "</div>"
      ],
      "text/plain": [
       "                                                   Text Speaker_Map\n",
       "3698   ... what we don’t want to do is give our alli...  Republican\n",
       "568    Excuse me. He was against fracking. He said i...  Republican\n",
       "2142      And so we removed — we removed all of our...,  Republican\n",
       "3902   Well, Jim, our seniors depend on these progra...  Republican\n",
       "3078   Governor, the people in Detroit don’t forget....    Democrat\n",
       "...                                                 ...         ...\n",
       "8578   Yes.) Did you clear the response you made wit...    Democrat\n",
       "7312                     I do want to respond to that.,    Democrat\n",
       "8573                      I don’t have a response., MS.    Democrat\n",
       "3761   What is in the national interests of the Amer...  Republican\n",
       "8219   One of the key tests of leadership is whether...    Democrat\n",
       "\n",
       "[1352 rows x 2 columns]"
      ]
     },
     "execution_count": 19,
     "metadata": {},
     "output_type": "execute_result"
    }
   ],
   "source": [
    "pd.concat([X_test,y_test], axis=1)"
   ]
  },
  {
   "cell_type": "code",
   "execution_count": 20,
   "id": "0f217ef3-079f-488d-967c-474e0b0ab60e",
   "metadata": {},
   "outputs": [],
   "source": [
    "data['Predicted_Party']=cvec_pipe.predict(X)"
   ]
  },
  {
   "cell_type": "code",
   "execution_count": 21,
   "id": "1481f244-59c5-4b43-b795-3ba6fcb581fb",
   "metadata": {},
   "outputs": [],
   "source": [
    "is_misclassified = (data['Speaker_Map']==data['Predicted_Party']).replace([True, False], [0, 1])"
   ]
  },
  {
   "cell_type": "code",
   "execution_count": 22,
   "id": "d7266e72-cde3-48b7-a430-c351436e4f07",
   "metadata": {
    "tags": []
   },
   "outputs": [],
   "source": [
    "data['is_misclassified']=is_misclassified"
   ]
  },
  {
   "cell_type": "code",
   "execution_count": 23,
   "id": "ffed70f3-c4ad-4e2d-b47d-82bf8e1a640c",
   "metadata": {},
   "outputs": [],
   "source": [
    "import copy"
   ]
  },
  {
   "cell_type": "code",
   "execution_count": 24,
   "id": "147389ea-103e-4f1f-aad5-747cd48597d9",
   "metadata": {},
   "outputs": [],
   "source": [
    "data2=copy.deepcopy(data)"
   ]
  },
  {
   "cell_type": "code",
   "execution_count": null,
   "id": "8c4c98e5-ca79-43d1-a8de-533aafba9e61",
   "metadata": {},
   "outputs": [],
   "source": []
  },
  {
   "cell_type": "code",
   "execution_count": 25,
   "id": "d3869b20-8beb-47be-9add-761ae9950511",
   "metadata": {},
   "outputs": [],
   "source": [
    "mis_dict={}\n",
    "for name in data['Speaker'].unique():\n",
    "    mis_dict[name] = data[data['Speaker']==name]['is_misclassified'].sum()"
   ]
  },
  {
   "cell_type": "code",
   "execution_count": 35,
   "id": "0ae8558a-b152-4fbb-9b46-49e4d7a34419",
   "metadata": {},
   "outputs": [],
   "source": [
    "mis_freq_dict = {}\n",
    "for name in data['Speaker'].unique():\n",
    "    mis_freq_dict[name]=data[data['Speaker']==name]['is_misclassified'].sum()/data[data['Speaker']==name].shape[0]"
   ]
  },
  {
   "cell_type": "code",
   "execution_count": 38,
   "id": "7744e738-366e-43d6-a51f-02ca6135464c",
   "metadata": {},
   "outputs": [],
   "source": [
    "for key in set(mis_freq_dict.keys()):\n",
    "    if mis_freq_dict[key]==1:\n",
    "        del mis_freq_dict[key]"
   ]
  },
  {
   "cell_type": "code",
   "execution_count": 39,
   "id": "48b21535-5553-44e9-993a-a13cc2c90ca3",
   "metadata": {
    "collapsed": true,
    "jupyter": {
     "outputs_hidden": true
    },
    "tags": []
   },
   "outputs": [
    {
     "data": {
      "text/plain": [
       "{'PENCE': 0.16778523489932887,\n",
       " 'HARRIS': 0.3548387096774194,\n",
       " 'TRUMP': 0.1565217391304348,\n",
       " 'BIDEN': 0.3419593345656192,\n",
       " 'CLINTON': 0.25,\n",
       " 'KAINE': 0.37894736842105264,\n",
       " 'ROMNEY': 0.1722689075630252,\n",
       " 'OBAMA': 0.20238095238095238,\n",
       " 'ROMNEHY': 0.0,\n",
       " 'RYAN': 0.2360248447204969,\n",
       " 'MCCAIN': 0.09523809523809523,\n",
       " 'PALIN': 0.2391304347826087,\n",
       " 'KERRY': 0.13861386138613863,\n",
       " 'BUSH': 0.1227364185110664,\n",
       " 'OTIS': 0.0,\n",
       " 'CHENEY': 0.13513513513513514,\n",
       " 'EDWARDS': 0.1702127659574468,\n",
       " 'GORE': 0.32653061224489793,\n",
       " 'LIEBERMAN': 0.2647058823529412,\n",
       " 'DOLE': 0.10344827586206896,\n",
       " 'BERKLEY': 0.0,\n",
       " 'MILLIGAN': 0.3333333333333333,\n",
       " 'KEMP': 0.15,\n",
       " 'PEROT': 0.14953271028037382,\n",
       " 'QUAYLE': 0.15753424657534246,\n",
       " 'STOCKDALE': 0.2727272727272727,\n",
       " 'COMPTON': 0.3888888888888889,\n",
       " 'DUKAKIS': 0.18292682926829268,\n",
       " 'BENTSEN': 0.15625,\n",
       " 'MONDALE': 0.16666666666666666,\n",
       " 'PRESIDENT': 0.06666666666666667,\n",
       " 'FERRARO': 0.17857142857142858,\n",
       " 'REAGAN': 0.15,\n",
       " 'CARTER': 0.12941176470588237,\n",
       " 'FORD': 0.10526315789473684,\n",
       " 'NIXON': 0.17391304347826086,\n",
       " 'HOWE': 0.3,\n",
       " 'KENNEDY': 0.16071428571428573}"
      ]
     },
     "execution_count": 39,
     "metadata": {},
     "output_type": "execute_result"
    }
   ],
   "source": [
    "mis_freq_dict"
   ]
  },
  {
   "cell_type": "code",
   "execution_count": 40,
   "id": "5aecea0d-c2a6-4367-8cf2-4a594aa95499",
   "metadata": {},
   "outputs": [],
   "source": [
    "sorted_freq_values=[]\n",
    "for _ in range(len(mis_freq_dict)):\n",
    "    x = max(mis_freq_dict.values())\n",
    "    candidate = list(mis_freq_dict.keys())[list(mis_freq_dict.values()).index(x)]\n",
    "    sorted_freq_values.append((candidate, x))\n",
    "    del mis_freq_dict[candidate]"
   ]
  },
  {
   "cell_type": "code",
   "execution_count": null,
   "id": "88aeeb30-7291-4c2d-ac83-9f9cb6c0e8fd",
   "metadata": {},
   "outputs": [],
   "source": []
  },
  {
   "cell_type": "code",
   "execution_count": 26,
   "id": "305ee1be-843a-4591-99fa-7e2392f27890",
   "metadata": {},
   "outputs": [],
   "source": [
    "sorted_values=[]\n",
    "for _ in range(len(mis_dict)):\n",
    "    x = max(mis_dict.values())\n",
    "    candidate = list(mis_dict.keys())[list(mis_dict.values()).index(x)]\n",
    "    sorted_values.append((candidate, x))\n",
    "    del mis_dict[candidate]\n"
   ]
  },
  {
   "cell_type": "code",
   "execution_count": 42,
   "id": "a09a1676-3e56-42f0-943d-330225347b76",
   "metadata": {},
   "outputs": [],
   "source": [
    "freq_dataframe = pd.DataFrame(sorted_freq_values)"
   ]
  },
  {
   "cell_type": "code",
   "execution_count": 45,
   "id": "a618a19f-bcf1-4369-b57b-c44c03bd931e",
   "metadata": {},
   "outputs": [],
   "source": [
    "freq_dataframe.columns = ['Candidate','percent_misclassified']"
   ]
  },
  {
   "cell_type": "code",
   "execution_count": 46,
   "id": "6688a59b-9db8-4b70-8130-1323281d35d3",
   "metadata": {},
   "outputs": [
    {
     "data": {
      "image/png": "[encoded data removed]",
      "text/plain": [
       "<Figure size 1008x1008 with 1 Axes>"
      ]
     },
     "metadata": {
      "needs_background": "light"
     },
     "output_type": "display_data"
    }
   ],
   "source": [
    "plt.figure(figsize=(14,14))\n",
    "plt.bar(x=freq_dataframe['Candidate'], height=freq_dataframe['percent_misclassified'])\n",
    "plt.xticks(rotation=90, fontsize=18)\n",
    "plt.xlabel('Candidate', size=18)\n",
    "plt.ylabel('Times Misclassified', size=18)\n",
    "plt.title(\"Candidate misclassification\", fontsize=24);"
   ]
  },
  {
   "cell_type": "code",
   "execution_count": 27,
   "id": "bb07a15f-789b-4c42-8bff-a668290cede0",
   "metadata": {
    "collapsed": true,
    "jupyter": {
     "outputs_hidden": true
    },
    "tags": []
   },
   "outputs": [
    {
     "data": {
      "text/plain": [
       "[('BIDEN', 185),\n",
       " ('TRUMP', 126),\n",
       " ('GORE', 96),\n",
       " ('CLINTON', 95),\n",
       " ('OBAMA', 85),\n",
       " ('KAINE', 72),\n",
       " ('BUSH', 61),\n",
       " ('PENCE', 50),\n",
       " ('ROMNEY', 41),\n",
       " ('RYAN', 38),\n",
       " ('QUAYLE', 23),\n",
       " ('HARRIS', 22),\n",
       " ('MCCAIN', 22),\n",
       " ('PEROT', 16),\n",
       " ('DUKAKIS', 15),\n",
       " ('KERRY', 14),\n",
       " ('PALIN', 11),\n",
       " ('CARTER', 11),\n",
       " ('CHENEY', 10),\n",
       " ('LIEBERMAN', 9),\n",
       " ('DOLE', 9),\n",
       " ('MONDALE', 9),\n",
       " ('KENNEDY', 9),\n",
       " ('EDWARDS', 8),\n",
       " ('NIXON', 8),\n",
       " ('COMPTON', 7),\n",
       " ('KEMP', 6),\n",
       " ('STOCKDALE', 6),\n",
       " ('REAGAN', 6),\n",
       " ('FORD', 6),\n",
       " ('HOWE', 6),\n",
       " ('BENTSEN', 5),\n",
       " ('FERRARO', 5),\n",
       " ('PRESIDENT', 4),\n",
       " ('OBAM', 1),\n",
       " ('DAHLE', 1),\n",
       " ('MILLIGAN', 1),\n",
       " ('ROMNEHY', 0),\n",
       " ('OTIS', 0),\n",
       " ('BERKLEY', 0)]"
      ]
     },
     "execution_count": 27,
     "metadata": {},
     "output_type": "execute_result"
    }
   ],
   "source": [
    "sorted_values"
   ]
  },
  {
   "cell_type": "code",
   "execution_count": 28,
   "id": "c4087fbf-5d5d-4bb2-a7f1-afe372698cdd",
   "metadata": {},
   "outputs": [],
   "source": [
    "import matplotlib.pyplot as plt"
   ]
  },
  {
   "cell_type": "code",
   "execution_count": 29,
   "id": "7e30d2c7-ec70-4056-838c-54625d7a9004",
   "metadata": {},
   "outputs": [],
   "source": [
    "dataframe = pd.DataFrame(sorted_values)"
   ]
  },
  {
   "cell_type": "code",
   "execution_count": 30,
   "id": "21142287-d2aa-4606-a63c-f9808241460c",
   "metadata": {},
   "outputs": [],
   "source": [
    "dataframe.columns=['Candidate','times_misclassified']"
   ]
  },
  {
   "cell_type": "code",
   "execution_count": 31,
   "id": "f45e289a-8355-4791-844b-be39f6ff166c",
   "metadata": {},
   "outputs": [
    {
     "data": {
      "image/png": "[encoded data removed]",
      "text/plain": [
       "<Figure size 1008x1008 with 1 Axes>"
      ]
     },
     "metadata": {
      "needs_background": "light"
     },
     "output_type": "display_data"
    }
   ],
   "source": [
    "plt.figure(figsize=(14,14))\n",
    "plt.bar(x=dataframe['Candidate'], height=dataframe['times_misclassified'])\n",
    "plt.xticks(rotation=90, fontsize=18)\n",
    "plt.xlabel('Candidate', size=18)\n",
    "plt.ylabel('Times Misclassified', size=18)\n",
    "plt.title(\"Candidate misclassification\", fontsize=24);"
   ]
  },
  {
   "cell_type": "code",
   "execution_count": null,
   "id": "d93be4b8-30a0-48a7-9e6c-87e62c60313b",
   "metadata": {},
   "outputs": [],
   "source": []
  }
 ],
 "metadata": {
  "kernelspec": {
   "display_name": "Python 3 (ipykernel)",
   "language": "python",
   "name": "python3"
  },
  "language_info": {
   "codemirror_mode": {
    "name": "ipython",
    "version": 3
   },
   "file_extension": ".py",
   "mimetype": "text/x-python",
   "name": "python",
   "nbconvert_exporter": "python",
   "pygments_lexer": "ipython3",
   "version": "3.9.5"
  }
 },
 "nbformat": 4,
 "nbformat_minor": 5
}
