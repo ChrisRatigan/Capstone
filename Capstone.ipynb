{
 "cells": [
  {
   "cell_type": "markdown",
   "id": "64ea0bef-0285-4d57-a31f-6c642d266657",
   "metadata": {},
   "source": [
    "## Data Cleaning"
   ]
  },
  {
   "cell_type": "code",
   "execution_count": 1,
   "id": "d5aecaa3-a594-4d3e-85ec-f52a8770ee48",
   "metadata": {},
   "outputs": [],
   "source": [
    "import pandas as pd"
   ]
  },
  {
   "cell_type": "code",
   "execution_count": 2,
   "id": "5bf14a37-de3a-4af6-b7ff-6142591d92b1",
   "metadata": {},
   "outputs": [],
   "source": [
    "huge_df = pd.read_csv('./tutorial/raw.csv', sep = ',')"
   ]
  },
  {
   "cell_type": "code",
   "execution_count": 3,
   "id": "df8fe090-98f3-40d3-a4e3-25975d9b3dda",
   "metadata": {},
   "outputs": [
    {
     "data": {
      "text/plain": [
       "(7747, 11)"
      ]
     },
     "execution_count": 3,
     "metadata": {},
     "output_type": "execute_result"
    }
   ],
   "source": [
    "huge_df.shape"
   ]
  },
  {
   "cell_type": "code",
   "execution_count": 4,
   "id": "6d227aec-7ad4-481b-b64a-43882b8cc63e",
   "metadata": {},
   "outputs": [
    {
     "data": {
      "text/plain": [
       "Index(['author', 'author3', 'author4', 'profile_url', 'title', 'profile_picks',\n",
       "       'content1', 'content2', 'content3', 'content4', 'url'],\n",
       "      dtype='object')"
      ]
     },
     "execution_count": 4,
     "metadata": {},
     "output_type": "execute_result"
    }
   ],
   "source": [
    "huge_df.columns"
   ]
  },
  {
   "cell_type": "code",
   "execution_count": null,
   "id": "e553dba0-9a3b-4e65-8c42-90857f9e83f2",
   "metadata": {},
   "outputs": [],
   "source": []
  },
  {
   "cell_type": "code",
   "execution_count": 5,
   "id": "6e71998d-a8c8-430d-b027-fd9ef1677608",
   "metadata": {
    "tags": []
   },
   "outputs": [
    {
     "data": {
      "text/html": [
       "<div>\n",
       "<style scoped>\n",
       "    .dataframe tbody tr th:only-of-type {\n",
       "        vertical-align: middle;\n",
       "    }\n",
       "\n",
       "    .dataframe tbody tr th {\n",
       "        vertical-align: top;\n",
       "    }\n",
       "\n",
       "    .dataframe thead th {\n",
       "        text-align: right;\n",
       "    }\n",
       "</style>\n",
       "<table border=\"1\" class=\"dataframe\">\n",
       "  <thead>\n",
       "    <tr style=\"text-align: right;\">\n",
       "      <th></th>\n",
       "      <th>author</th>\n",
       "      <th>author3</th>\n",
       "      <th>author4</th>\n",
       "      <th>profile_url</th>\n",
       "      <th>title</th>\n",
       "      <th>profile_picks</th>\n",
       "      <th>content1</th>\n",
       "      <th>content2</th>\n",
       "      <th>content3</th>\n",
       "      <th>content4</th>\n",
       "      <th>url</th>\n",
       "    </tr>\n",
       "  </thead>\n",
       "  <tbody>\n",
       "    <tr>\n",
       "      <th>0</th>\n",
       "      <td>&lt;p class=\"metadata__byline\"&gt;&lt;span class=\"metad...</td>\n",
       "      <td>NaN</td>\n",
       "      <td>NaN</td>\n",
       "      <td>https://www.cnn.com/profiles/marianne-garvey</td>\n",
       "      <td>&lt;h1 class=\"pg-headline\"&gt;Ben Affleck is gratefu...</td>\n",
       "      <td>NaN</td>\n",
       "      <td>Promoting his  new movie  \"The Tender Bar,\" th...</td>\n",
       "      <td>NaN</td>\n",
       "      <td>NaN</td>\n",
       "      <td>NaN</td>\n",
       "      <td>https://www.cnn.com/2021/12/01/entertainment/b...</td>\n",
       "    </tr>\n",
       "    <tr>\n",
       "      <th>1</th>\n",
       "      <td>NaN</td>\n",
       "      <td>&lt;p data-type=\"byline-area\"&gt;By Tierney Sneed, M...</td>\n",
       "      <td>NaN</td>\n",
       "      <td>NaN</td>\n",
       "      <td>NaN</td>\n",
       "      <td>NaN</td>\n",
       "      <td>NaN</td>\n",
       "      <td>NaN</td>\n",
       "      <td>&lt;p class=\"sc-gZMcBi render-stellar-contentstyl...</td>\n",
       "      <td>NaN</td>\n",
       "      <td>https://www.cnn.com/politics/live-news/supreme...</td>\n",
       "    </tr>\n",
       "    <tr>\n",
       "      <th>2</th>\n",
       "      <td>NaN</td>\n",
       "      <td>&lt;p data-type=\"byline-area\"&gt;By Adam Renton, &lt;a ...</td>\n",
       "      <td>NaN</td>\n",
       "      <td>NaN</td>\n",
       "      <td>NaN</td>\n",
       "      <td>NaN</td>\n",
       "      <td>NaN</td>\n",
       "      <td>NaN</td>\n",
       "      <td>&lt;p class=\"sc-gZMcBi render-stellar-contentstyl...</td>\n",
       "      <td>NaN</td>\n",
       "      <td>https://www.cnn.com/world/live-news/omicron-co...</td>\n",
       "    </tr>\n",
       "    <tr>\n",
       "      <th>3</th>\n",
       "      <td>&lt;p class=\"metadata__byline\"&gt;&lt;span class=\"metad...</td>\n",
       "      <td>NaN</td>\n",
       "      <td>NaN</td>\n",
       "      <td>https://www.cnn.com/profiles/amir-vera,https:/...</td>\n",
       "      <td>&lt;h1 class=\"pg-headline\"&gt;Students grabbed sciss...</td>\n",
       "      <td>https://www.cnn.com/videos/us/2021/12/02/stude...</td>\n",
       "      <td>Then frightened students barricaded doors, pho...</td>\n",
       "      <td>NaN</td>\n",
       "      <td>NaN</td>\n",
       "      <td>NaN</td>\n",
       "      <td>https://www.cnn.com/2021/12/01/us/michigan-oxf...</td>\n",
       "    </tr>\n",
       "    <tr>\n",
       "      <th>4</th>\n",
       "      <td>&lt;p class=\"metadata__byline\"&gt;&lt;span class=\"metad...</td>\n",
       "      <td>NaN</td>\n",
       "      <td>NaN</td>\n",
       "      <td>https://www.cnn.com/profiles/kaitlan-collins,h...</td>\n",
       "      <td>&lt;h1 class=\"pg-headline\"&gt;First confirmed US cas...</td>\n",
       "      <td>https://www.cnn.com/videos/health/2021/12/01/o...</td>\n",
       "      <td>In a White House news briefing, Dr. Anthony Fa...</td>\n",
       "      <td>NaN</td>\n",
       "      <td>NaN</td>\n",
       "      <td>NaN</td>\n",
       "      <td>https://www.cnn.com/2021/12/01/health/us-omicr...</td>\n",
       "    </tr>\n",
       "  </tbody>\n",
       "</table>\n",
       "</div>"
      ],
      "text/plain": [
       "                                              author  \\\n",
       "0  <p class=\"metadata__byline\"><span class=\"metad...   \n",
       "1                                                NaN   \n",
       "2                                                NaN   \n",
       "3  <p class=\"metadata__byline\"><span class=\"metad...   \n",
       "4  <p class=\"metadata__byline\"><span class=\"metad...   \n",
       "\n",
       "                                             author3 author4  \\\n",
       "0                                                NaN     NaN   \n",
       "1  <p data-type=\"byline-area\">By Tierney Sneed, M...     NaN   \n",
       "2  <p data-type=\"byline-area\">By Adam Renton, <a ...     NaN   \n",
       "3                                                NaN     NaN   \n",
       "4                                                NaN     NaN   \n",
       "\n",
       "                                         profile_url  \\\n",
       "0       https://www.cnn.com/profiles/marianne-garvey   \n",
       "1                                                NaN   \n",
       "2                                                NaN   \n",
       "3  https://www.cnn.com/profiles/amir-vera,https:/...   \n",
       "4  https://www.cnn.com/profiles/kaitlan-collins,h...   \n",
       "\n",
       "                                               title  \\\n",
       "0  <h1 class=\"pg-headline\">Ben Affleck is gratefu...   \n",
       "1                                                NaN   \n",
       "2                                                NaN   \n",
       "3  <h1 class=\"pg-headline\">Students grabbed sciss...   \n",
       "4  <h1 class=\"pg-headline\">First confirmed US cas...   \n",
       "\n",
       "                                       profile_picks  \\\n",
       "0                                                NaN   \n",
       "1                                                NaN   \n",
       "2                                                NaN   \n",
       "3  https://www.cnn.com/videos/us/2021/12/02/stude...   \n",
       "4  https://www.cnn.com/videos/health/2021/12/01/o...   \n",
       "\n",
       "                                            content1  content2  \\\n",
       "0  Promoting his  new movie  \"The Tender Bar,\" th...       NaN   \n",
       "1                                                NaN       NaN   \n",
       "2                                                NaN       NaN   \n",
       "3  Then frightened students barricaded doors, pho...       NaN   \n",
       "4  In a White House news briefing, Dr. Anthony Fa...       NaN   \n",
       "\n",
       "                                            content3 content4  \\\n",
       "0                                                NaN      NaN   \n",
       "1  <p class=\"sc-gZMcBi render-stellar-contentstyl...      NaN   \n",
       "2  <p class=\"sc-gZMcBi render-stellar-contentstyl...      NaN   \n",
       "3                                                NaN      NaN   \n",
       "4                                                NaN      NaN   \n",
       "\n",
       "                                                 url  \n",
       "0  https://www.cnn.com/2021/12/01/entertainment/b...  \n",
       "1  https://www.cnn.com/politics/live-news/supreme...  \n",
       "2  https://www.cnn.com/world/live-news/omicron-co...  \n",
       "3  https://www.cnn.com/2021/12/01/us/michigan-oxf...  \n",
       "4  https://www.cnn.com/2021/12/01/health/us-omicr...  "
      ]
     },
     "execution_count": 5,
     "metadata": {},
     "output_type": "execute_result"
    }
   ],
   "source": [
    "huge_df.head()"
   ]
  },
  {
   "cell_type": "code",
   "execution_count": null,
   "id": "11701f38-ecba-48b4-8169-1c54c3e215c6",
   "metadata": {},
   "outputs": [],
   "source": []
  },
  {
   "cell_type": "markdown",
   "id": "2b8b7caf-8a1e-4d7d-bc91-b2cc8fca3156",
   "metadata": {},
   "source": []
  },
  {
   "cell_type": "code",
   "execution_count": 6,
   "id": "ec9889a5-1f6c-424c-a75b-3b28ac1d2ac0",
   "metadata": {
    "tags": []
   },
   "outputs": [
    {
     "name": "stdout",
     "output_type": "stream",
     "text": [
      "<class 'pandas.core.frame.DataFrame'>\n",
      "RangeIndex: 7747 entries, 0 to 7746\n",
      "Data columns (total 11 columns):\n",
      " #   Column         Non-Null Count  Dtype  \n",
      "---  ------         --------------  -----  \n",
      " 0   author         4608 non-null   object \n",
      " 1   author3        106 non-null    object \n",
      " 2   author4        1816 non-null   object \n",
      " 3   profile_url    4369 non-null   object \n",
      " 4   title          4615 non-null   object \n",
      " 5   profile_picks  2815 non-null   object \n",
      " 6   content1       4609 non-null   object \n",
      " 7   content2       0 non-null      float64\n",
      " 8   content3       105 non-null    object \n",
      " 9   content4       1815 non-null   object \n",
      " 10  url            7747 non-null   object \n",
      "dtypes: float64(1), object(10)\n",
      "memory usage: 665.9+ KB\n"
     ]
    }
   ],
   "source": [
    "huge_df.info()"
   ]
  },
  {
   "cell_type": "markdown",
   "id": "8cc014be-bf2a-46ac-b539-08d701748864",
   "metadata": {},
   "source": [
    "From this info, we can see that we obtained nearly 6000 article's author and content information. We will be working to condense these together now"
   ]
  },
  {
   "cell_type": "code",
   "execution_count": 7,
   "id": "f8748867-7683-48ab-b445-de74e7ee5c78",
   "metadata": {},
   "outputs": [
    {
     "data": {
      "text/plain": [
       "259     \\n      An archaeologist who detects civilizat...\n",
       "260     \\n      In the azure waters off the rocky coas...\n",
       "264     \\n      As Turkey returns to some degree of no...\n",
       "265     \\n      President ,Donald Trump,’s bid to keep...\n",
       "268     \\n      The couple gazes brightly at the camer...\n",
       "                              ...                        \n",
       "7639    \\n      Marilou Danley said that she was worri...\n",
       "7643    \\n      NOAA helped Key West residents check o...\n",
       "7744    \\n      Hurricane Irma regained Category 5 sta...\n",
       "7745    \\n      ,Editor’s note: This is a developing s...\n",
       "7746    \\n      Time is running out to evacuate and pr...\n",
       "Name: content4, Length: 1815, dtype: object"
      ]
     },
     "execution_count": 7,
     "metadata": {},
     "output_type": "execute_result"
    }
   ],
   "source": [
    "huge_df['content4'].dropna()"
   ]
  },
  {
   "cell_type": "code",
   "execution_count": 8,
   "id": "d93f0e13-dd9a-4e73-871b-f57195a3c25c",
   "metadata": {},
   "outputs": [
    {
     "data": {
      "text/plain": [
       "author           1815\n",
       "author3          1815\n",
       "author4             5\n",
       "profile_url      1815\n",
       "title            1815\n",
       "profile_picks    1809\n",
       "content1         1815\n",
       "content2         1815\n",
       "content3         1815\n",
       "content4            0\n",
       "url                 0\n",
       "dtype: int64"
      ]
     },
     "execution_count": 8,
     "metadata": {},
     "output_type": "execute_result"
    }
   ],
   "source": [
    "huge_df.loc[huge_df['content4'].dropna().index,:].isna().sum()"
   ]
  },
  {
   "cell_type": "code",
   "execution_count": 9,
   "id": "411d55a9-e64e-43b1-9977-06260df7d3ea",
   "metadata": {},
   "outputs": [
    {
     "data": {
      "text/plain": [
       "(1815,)"
      ]
     },
     "execution_count": 9,
     "metadata": {},
     "output_type": "execute_result"
    }
   ],
   "source": [
    "huge_df['content4'].dropna().shape"
   ]
  },
  {
   "cell_type": "code",
   "execution_count": null,
   "id": "15485319-1d3d-4d61-8831-101f30bee110",
   "metadata": {
    "tags": []
   },
   "outputs": [],
   "source": []
  },
  {
   "cell_type": "markdown",
   "id": "00a2d87e-106d-4534-ad20-52516c106666",
   "metadata": {},
   "source": [
    "The commented code below was used to find urls for which we were missing author data and informed our creation of other author and content columns."
   ]
  },
  {
   "cell_type": "code",
   "execution_count": 10,
   "id": "adfd2ce7-6d2e-4f65-be25-2d68f5980d1d",
   "metadata": {
    "tags": []
   },
   "outputs": [],
   "source": [
    "#huge_df[huge_df['author'].isna()]['url']"
   ]
  },
  {
   "cell_type": "code",
   "execution_count": 11,
   "id": "661c4101-3512-4786-bb3f-b2fd7de4a989",
   "metadata": {
    "tags": []
   },
   "outputs": [],
   "source": [
    "#[value for value  in huge_df[(huge_df['content1'].isna()) & (huge_df['content3'].isna()) & (huge_df['content4'].isna())]['url'].values]"
   ]
  },
  {
   "cell_type": "code",
   "execution_count": 12,
   "id": "6c961386-8367-450b-b24e-d40c534bf817",
   "metadata": {
    "tags": []
   },
   "outputs": [],
   "source": [
    "#[value for value  in huge_df[huge_df['author'].isna()]['url'].values]"
   ]
  },
  {
   "cell_type": "code",
   "execution_count": 13,
   "id": "e634622d-ec9b-41b3-ac28-a50f8614f14e",
   "metadata": {},
   "outputs": [],
   "source": [
    "url_set=set(huge_df.url.values)"
   ]
  },
  {
   "cell_type": "code",
   "execution_count": 14,
   "id": "fcd15f97-4879-4e56-9a0d-fce4de00a0f7",
   "metadata": {},
   "outputs": [],
   "source": [
    "profile_set=set(huge_df.profile_url.values)"
   ]
  },
  {
   "cell_type": "code",
   "execution_count": 15,
   "id": "56711ee5-55a4-41df-a70c-7ec2e48b5661",
   "metadata": {},
   "outputs": [],
   "source": [
    "import numpy as np"
   ]
  },
  {
   "cell_type": "code",
   "execution_count": 16,
   "id": "7614008e-7cb8-493c-a816-d9ddb81bc796",
   "metadata": {},
   "outputs": [],
   "source": [
    "profile_list = list(huge_df.profile_url.values)"
   ]
  },
  {
   "cell_type": "code",
   "execution_count": 17,
   "id": "3a56cc40-3841-4463-b5e6-fed19d717495",
   "metadata": {},
   "outputs": [
    {
     "data": {
      "text/plain": [
       "nan"
      ]
     },
     "execution_count": 17,
     "metadata": {},
     "output_type": "execute_result"
    }
   ],
   "source": [
    "profile_list[2]"
   ]
  },
  {
   "cell_type": "code",
   "execution_count": 18,
   "id": "354dab41-9b7b-4465-884f-693422734e3e",
   "metadata": {},
   "outputs": [
    {
     "data": {
      "text/plain": [
       "nan"
      ]
     },
     "execution_count": 18,
     "metadata": {},
     "output_type": "execute_result"
    }
   ],
   "source": [
    "huge_df.profile_url[2]"
   ]
  },
  {
   "cell_type": "code",
   "execution_count": 19,
   "id": "0dc86e35-a2a1-4ad4-8c6e-febaf2acca54",
   "metadata": {
    "tags": []
   },
   "outputs": [
    {
     "data": {
      "text/plain": [
       "{'https://www.cnn.com/profiles/arwa-damon',\n",
       " 'https://www.cnn.com/profiles/becky-anderson-profile',\n",
       " 'https://www.cnn.com/profiles/ben-westcott',\n",
       " 'https://www.cnn.com/profiles/brad-lendon',\n",
       " 'https://www.cnn.com/profiles/catherine-shoichet-profile',\n",
       " 'https://www.cnn.com/profiles/christina-zdanowicz-profile',\n",
       " 'https://www.cnn.com/profiles/dan-merica-profile',\n",
       " 'https://www.cnn.com/profiles/david-mckenzie',\n",
       " 'https://www.cnn.com/profiles/donie-osullivan',\n",
       " 'https://www.cnn.com/profiles/elizabeth-cohen',\n",
       " 'https://www.cnn.com/profiles/helen-regan',\n",
       " 'https://www.cnn.com/profiles/jason-carroll-profile',\n",
       " 'https://www.cnn.com/profiles/joan-biskupic',\n",
       " 'https://www.cnn.com/profiles/john-d-sutter',\n",
       " 'https://www.cnn.com/profiles/julia-hollingsworth',\n",
       " 'https://www.cnn.com/profiles/katia-hetter',\n",
       " 'https://www.cnn.com/profiles/lisa-france',\n",
       " 'https://www.cnn.com/profiles/maegan-vazquez',\n",
       " 'https://www.cnn.com/profiles/nic-robertson',\n",
       " 'https://www.cnn.com/profiles/nick-paton-walsh',\n",
       " 'https://www.cnn.com/profiles/paul-vercammen',\n",
       " 'https://www.cnn.com/profiles/rosa-flores-profile',\n",
       " 'https://www.cnn.com/profiles/sanjay-gupta-profile',\n",
       " 'https://www.cnn.com/profiles/stephen-collinson',\n",
       " 'https://www.cnn.com/profiles/tom-foreman-profile'}"
      ]
     },
     "execution_count": 19,
     "metadata": {},
     "output_type": "execute_result"
    }
   ],
   "source": [
    "url_set.intersection(profile_set)"
   ]
  },
  {
   "cell_type": "code",
   "execution_count": 20,
   "id": "439b6a06-bde4-42b8-bedf-8c4c69eb8cc0",
   "metadata": {
    "tags": []
   },
   "outputs": [
    {
     "data": {
      "text/plain": [
       "0       False\n",
       "1         NaN\n",
       "2         NaN\n",
       "3        True\n",
       "4        True\n",
       "        ...  \n",
       "7742      NaN\n",
       "7743      NaN\n",
       "7744      NaN\n",
       "7745      NaN\n",
       "7746      NaN\n",
       "Name: profile_url, Length: 7747, dtype: object"
      ]
     },
     "execution_count": 20,
     "metadata": {},
     "output_type": "execute_result"
    }
   ],
   "source": [
    "huge_df.profile_url.str.contains(',')"
   ]
  },
  {
   "cell_type": "markdown",
   "id": "52c436fd-b66e-4d6a-9cc6-52e9c2c547a9",
   "metadata": {},
   "source": [
    "Here we found that some of hte profile_urls contained comma separated values. We attempted to investigate this."
   ]
  },
  {
   "cell_type": "code",
   "execution_count": 21,
   "id": "4d69c3bb-35ef-4a0b-9677-6027b79ffe17",
   "metadata": {
    "tags": []
   },
   "outputs": [],
   "source": [
    "huge_problem=huge_df.profile_url.str.contains(',').dropna()"
   ]
  },
  {
   "cell_type": "code",
   "execution_count": 22,
   "id": "f20c4b83-7cb4-4cb5-a810-b7b88149ee0c",
   "metadata": {
    "tags": []
   },
   "outputs": [
    {
     "data": {
      "text/plain": [
       "3       https://www.cnn.com/profiles/amir-vera,https:/...\n",
       "4       https://www.cnn.com/profiles/kaitlan-collins,h...\n",
       "31      https://www.cnn.com/profiles/ariane-de-vogue-p...\n",
       "36      https://www.cnn.com/profiles/ariane-de-vogue-p...\n",
       "37      https://www.cnn.com/profiles/ariane-de-vogue-p...\n",
       "                              ...                        \n",
       "7708    https://www.cnn.com/profiles/amir-vera,https:/...\n",
       "7714    https://www.cnn.com/profiles/jacqueline-howard...\n",
       "7726    https://www.cnn.com/profiles/jacqueline-howard...\n",
       "7733    https://www.cnn.com/profiles/kaitlan-collins,h...\n",
       "7739    https://www.cnn.com/profiles/kaitlan-collins,h...\n",
       "Name: profile_url, Length: 1970, dtype: object"
      ]
     },
     "execution_count": 22,
     "metadata": {},
     "output_type": "execute_result"
    }
   ],
   "source": [
    "huge_df.profile_url.dropna()[huge_problem]"
   ]
  },
  {
   "cell_type": "code",
   "execution_count": 23,
   "id": "830bbf80-ab51-41e7-b2db-2386c7b82254",
   "metadata": {},
   "outputs": [
    {
     "data": {
      "text/plain": [
       "'https://www.cnn.com/2021/12/01/us/michigan-oxford-high-school-shooting-wednesday/index.html'"
      ]
     },
     "execution_count": 23,
     "metadata": {},
     "output_type": "execute_result"
    }
   ],
   "source": [
    "huge_df.url[3]"
   ]
  },
  {
   "cell_type": "code",
   "execution_count": 24,
   "id": "19cc1451-bd03-4657-8dbd-5668fe7fa1ab",
   "metadata": {},
   "outputs": [],
   "source": [
    "#profile_set"
   ]
  },
  {
   "cell_type": "code",
   "execution_count": 25,
   "id": "6d1f107a-e7c2-4672-a366-4af357c6f95c",
   "metadata": {},
   "outputs": [],
   "source": [
    "#huge_df.dropna()"
   ]
  },
  {
   "cell_type": "code",
   "execution_count": 26,
   "id": "666e0764-39dc-40e9-abbf-abe9f0af52d0",
   "metadata": {
    "tags": []
   },
   "outputs": [],
   "source": [
    "#huge_df['content1'][1]"
   ]
  },
  {
   "cell_type": "code",
   "execution_count": 27,
   "id": "f0c5d4cc-c3bc-43ad-a1a7-96a682316320",
   "metadata": {},
   "outputs": [],
   "source": [
    "#huge_df.content1.nunique()"
   ]
  },
  {
   "cell_type": "code",
   "execution_count": 28,
   "id": "fd68b158-800b-4c1a-aca5-35930c235de8",
   "metadata": {},
   "outputs": [],
   "source": [
    "big_df = huge_df.drop(columns='profile_url')"
   ]
  },
  {
   "cell_type": "code",
   "execution_count": 29,
   "id": "27a1349f-573e-436d-9e05-761ff280998c",
   "metadata": {},
   "outputs": [],
   "source": [
    "big_df.dropna(inplace=True)"
   ]
  },
  {
   "cell_type": "markdown",
   "id": "859e31a6-77e3-4255-a1c4-822cc834e9b5",
   "metadata": {},
   "source": [
    "---"
   ]
  },
  {
   "cell_type": "markdown",
   "id": "c6bd8ca6-640d-4f67-8f74-cd0b93fe7f5e",
   "metadata": {
    "tags": []
   },
   "source": [
    "### Extracting Authors ###"
   ]
  },
  {
   "cell_type": "code",
   "execution_count": 30,
   "id": "8009ebf8-90c9-4f42-a905-c4d17bffb75f",
   "metadata": {},
   "outputs": [],
   "source": [
    "from bs4 import BeautifulSoup\n",
    "import bs4"
   ]
  },
  {
   "cell_type": "code",
   "execution_count": 31,
   "id": "bd3cc1e6-f913-4232-8d82-1c7c08685c1b",
   "metadata": {},
   "outputs": [],
   "source": [
    "def get_text(soup):\n",
    "    \"\"\"Used to get text from BeutifulSoup objects in a dataframe in conjunction with the .apply() method\"\"\"\n",
    "    return soup.text"
   ]
  },
  {
   "cell_type": "code",
   "execution_count": 32,
   "id": "931c0428-968e-4bd9-b2c1-c1d34191ec30",
   "metadata": {},
   "outputs": [],
   "source": [
    "def reduce(ls):\n",
    "    \"\"\"This is a simple function to get rid of extra elements obtained by the .split() method\"\"\"\n",
    "    if(ls[-1]==''):\n",
    "        return ls[:-1]\n",
    "    return ls"
   ]
  },
  {
   "cell_type": "code",
   "execution_count": 33,
   "id": "f61bcbc6-090e-4428-8fd4-9cc8d951ed0d",
   "metadata": {},
   "outputs": [
    {
     "data": {
      "text/plain": [
       "Index(['author', 'author3', 'author4', 'profile_url', 'title', 'profile_picks',\n",
       "       'content1', 'content2', 'content3', 'content4', 'url'],\n",
       "      dtype='object')"
      ]
     },
     "execution_count": 33,
     "metadata": {},
     "output_type": "execute_result"
    }
   ],
   "source": [
    "huge_df.columns #remind ourselves of the column names. author2 and content5 both gave poor results"
   ]
  },
  {
   "cell_type": "markdown",
   "id": "776b632c-4541-472d-9ef2-ddf155bb949e",
   "metadata": {},
   "source": [
    "The function below extracts a list of authors from the html in the authors column."
   ]
  },
  {
   "cell_type": "code",
   "execution_count": 34,
   "id": "c66c53dc-c44e-4ed2-a96b-aab3cdc1dd2d",
   "metadata": {},
   "outputs": [],
   "source": [
    "def extract_authors(data_frame, author_string):\n",
    "    df = data_frame[author_string].dropna().apply(BeautifulSoup).apply(get_text)\n",
    "    for word in unnecessary_words: #see blocks below\n",
    "        df=df.str.replace(word, '')\n",
    "    df = df.str.replace(' and ',', ')\n",
    "    return df.str.replace(' ','').str.split(',').apply(reduce) # put after reduce"
   ]
  },
  {
   "cell_type": "markdown",
   "id": "21ff83eb-fb13-4cf6-9470-b06278c0ffcc",
   "metadata": {},
   "source": [
    "As an example, we extract from the `author` column"
   ]
  },
  {
   "cell_type": "markdown",
   "id": "ba35ed91-841f-49d1-ad27-875656cae484",
   "metadata": {},
   "source": [
    "We found that the following words in the author's column aren't authors."
   ]
  },
  {
   "cell_type": "code",
   "execution_count": 35,
   "id": "3f27bd25-8e6d-41ba-b71a-df740e705571",
   "metadata": {},
   "outputs": [],
   "source": [
    "unnecessary_words=['EXCLUSIVE', 'CNN', 'Business', 'Photos', 'by', 'By', 'Photographs', 'Video','Story:', 'Story', 'Analysis', 'Illustrations:', 'Illustrations','Illustration', 'Graphics', 'Reuters', 'InvestigatesAdditional', 'reporting', 'Opinion', 'video', ' for ', 'photographs','photos', 'graphics', 'meteorologists', 'en Espa\\xf1ol', 'edited', '\\'s',';','.', ' with ', 'With', 'Text', 'Staff', 'White House Producer', 'Photo Editing', 'Medical', 'Chief', 'Investigates', 'Meteorologist', 'Reporter', 'Photo', 'Religion Editor', 'Religion Editor Edited', 'Article', 'Graphic', 'REPORTING', 'photoediting', 'Digital', ]\n",
    "\n",
    "unnecessary_words.append('Pentagon Correspondent')\n",
    "unnecessary_words.append('Chief Medical Correspondent')\n",
    "unnecessary_words.append('National Affairs Correspondent')\n",
    "unnecessary_words.append('Senior Medical Correspondent')\n",
    "unnecessary_words.append('legal analyst & Supreme Court biographer')\n",
    "unnecessary_words.append('Supreme Court Reporter')\n",
    "unnecessary_words.append('Crime and Justice')\n",
    "unnecessary_words.append('Data analysis')\n",
    "unnecessary_words.append('International Climate Editor')\n"
   ]
  },
  {
   "cell_type": "code",
   "execution_count": 36,
   "id": "5a6c9f9a-57d4-4cd1-8723-f65d8c9ec4ff",
   "metadata": {},
   "outputs": [
    {
     "name": "stderr",
     "output_type": "stream",
     "text": [
      "C:\\Users\\chris\\miniconda3\\lib\\site-packages\\pandas\\core\\apply.py:1099: GuessedAtParserWarning: No parser was explicitly specified, so I'm using the best available HTML parser for this system (\"lxml\"). This usually isn't a problem, but if you run this code on another system, or in a different virtual environment, it may use a different parser and behave differently.\n",
      "\n",
      "The code that caused this warning is on line 1099 of the file C:\\Users\\chris\\miniconda3\\lib\\site-packages\\pandas\\core\\apply.py. To get rid of this warning, pass the additional argument 'features=\"lxml\"' to the BeautifulSoup constructor.\n",
      "\n",
      "  mapped = lib.map_infer(\n",
      "C:\\Users\\chris\\AppData\\Local\\Temp/ipykernel_22780/2475761144.py:4: FutureWarning: The default value of regex will change from True to False in a future version. In addition, single character regular expressions will *not* be treated as literal strings when regex=True.\n",
      "  df=df.str.replace(word, '')\n"
     ]
    },
    {
     "data": {
      "text/plain": [
       "0                                        [MarianneGarvey]\n",
       "3       [JasonHanna, AmirVera, AdrienneBroaddus, Shimo...\n",
       "4          [KaitlanCollins, JacquelineHoward, BetsyKlein]\n",
       "5                                        [MarianneGarvey]\n",
       "6                           [ArianedeVogue, SupremeCourt]\n",
       "                              ...                        \n",
       "7732                                   [JacquelineHoward]\n",
       "7733                      [KaitlanCollins, MaeganVazquez]\n",
       "7739                      [KaitlanCollins, MaeganVazquez]\n",
       "7740                                     [KaitlanCollins]\n",
       "7741                                     [KaitlanCollins]\n",
       "Name: author, Length: 4608, dtype: object"
      ]
     },
     "execution_count": 36,
     "metadata": {},
     "output_type": "execute_result"
    }
   ],
   "source": [
    "extract_authors(huge_df, 'author')"
   ]
  },
  {
   "cell_type": "markdown",
   "id": "8519d9d2-5d21-4321-86de-dd97096708c7",
   "metadata": {},
   "source": [
    "The function below does the same, except for authors columns which were scraped as strings without any html."
   ]
  },
  {
   "cell_type": "code",
   "execution_count": 37,
   "id": "e809caa0-e774-4dfa-bb0c-60143cc6e4db",
   "metadata": {
    "tags": []
   },
   "outputs": [],
   "source": [
    "def authors_from_string(data_frame, author_string):\n",
    "    df = data_frame[author_string].dropna()\n",
    "    df = df.str.replace(' and ',', ')\n",
    "    for word in unnecessary_words: #see blocks below\n",
    "        df=df.str.replace(word, '')\n",
    "    df = df.str.replace('Written', '')\n",
    "    return df.str.replace(' ', '').str.strip().str.split(',').apply(reduce)"
   ]
  },
  {
   "cell_type": "markdown",
   "id": "876f7c94-8633-4438-b54c-b64a8dd073a4",
   "metadata": {},
   "source": [
    "As an example we can now extract the authors from the `author4` column"
   ]
  },
  {
   "cell_type": "code",
   "execution_count": 38,
   "id": "a74a59b8-3479-4af9-aea1-e7846a99c44c",
   "metadata": {
    "tags": []
   },
   "outputs": [
    {
     "name": "stderr",
     "output_type": "stream",
     "text": [
      "C:\\Users\\chris\\AppData\\Local\\Temp/ipykernel_22780/111151725.py:5: FutureWarning: The default value of regex will change from True to False in a future version. In addition, single character regular expressions will *not* be treated as literal strings when regex=True.\n",
      "  df=df.str.replace(word, '')\n"
     ]
    },
    {
     "data": {
      "text/plain": [
       "259                                [LaurenSaid-Moorhouse]\n",
       "260                                [LaurenSaid-Moorhouse]\n",
       "264                                [LaurenSaid-Moorhouse]\n",
       "265                                [LaurenSaid-Moorhouse]\n",
       "268                                [LaurenSaid-Moorhouse]\n",
       "                              ...                        \n",
       "7643                                        [PaulPMurphy]\n",
       "7644    [MegWagner, VeronicaRocha, AmandaWills, Emanue...\n",
       "7744                            [JasonHanna, SteveAlmasy]\n",
       "7745                 [HollyYan, DarranSimon, FaithKarimi]\n",
       "7746                          [MadisonPark, EricLevenson]\n",
       "Name: author4, Length: 1816, dtype: object"
      ]
     },
     "execution_count": 38,
     "metadata": {},
     "output_type": "execute_result"
    }
   ],
   "source": [
    "authors_from_string(huge_df, 'author4')"
   ]
  },
  {
   "cell_type": "markdown",
   "id": "c0ac6ad2-1d44-4a22-bcd7-26634e8e07b3",
   "metadata": {},
   "source": [
    "---"
   ]
  },
  {
   "cell_type": "markdown",
   "id": "22821637-4d45-4f30-8f2d-e4dff2e02350",
   "metadata": {
    "tags": []
   },
   "source": [
    "## Brining it all together ##"
   ]
  },
  {
   "cell_type": "code",
   "execution_count": 39,
   "id": "688006be-4179-418d-b5ad-ddc40e91fa8c",
   "metadata": {},
   "outputs": [
    {
     "name": "stderr",
     "output_type": "stream",
     "text": [
      "C:\\Users\\chris\\AppData\\Local\\Temp/ipykernel_22780/2475761144.py:4: FutureWarning: The default value of regex will change from True to False in a future version. In addition, single character regular expressions will *not* be treated as literal strings when regex=True.\n",
      "  df=df.str.replace(word, '')\n",
      "C:\\Users\\chris\\AppData\\Local\\Temp/ipykernel_22780/111151725.py:5: FutureWarning: The default value of regex will change from True to False in a future version. In addition, single character regular expressions will *not* be treated as literal strings when regex=True.\n",
      "  df=df.str.replace(word, '')\n"
     ]
    }
   ],
   "source": [
    "series1 = extract_authors(huge_df, 'author')\n",
    "series2 = extract_authors(huge_df, 'author3')\n",
    "series3 = authors_from_string(huge_df, 'author4')"
   ]
  },
  {
   "cell_type": "code",
   "execution_count": 40,
   "id": "f370d0b4-a1eb-45a2-877d-8bd62bc4affb",
   "metadata": {},
   "outputs": [],
   "source": [
    "authors = pd.concat([series1,series2,series3])"
   ]
  },
  {
   "cell_type": "code",
   "execution_count": 41,
   "id": "0dda2eb7-046e-49b2-83c4-60cbd9433725",
   "metadata": {},
   "outputs": [],
   "source": [
    "content = pd.concat([huge_df['content1'].dropna(),huge_df['content2'].dropna(),huge_df['content3'].dropna(),huge_df['content4'].dropna()])"
   ]
  },
  {
   "cell_type": "code",
   "execution_count": 42,
   "id": "00fb06f5-9525-42fc-95e1-9058c547a20d",
   "metadata": {},
   "outputs": [],
   "source": [
    "data=pd.merge(how = 'inner', left=content.rename('content'), right=authors.rename('authors'), left_index=True, right_index=True)"
   ]
  },
  {
   "cell_type": "code",
   "execution_count": 43,
   "id": "f20dbaae-c401-44a0-888a-4cc34e23eebf",
   "metadata": {},
   "outputs": [],
   "source": [
    "data['url']=huge_df.loc[data.index, 'url']"
   ]
  },
  {
   "cell_type": "code",
   "execution_count": 44,
   "id": "bec79eb0-cee6-4f43-9067-ea041b69aa83",
   "metadata": {},
   "outputs": [],
   "source": [
    "final_df = data.reset_index().drop(columns='index')"
   ]
  },
  {
   "cell_type": "code",
   "execution_count": 45,
   "id": "c4ac7a2e-743c-4726-9aba-fc6b278c7683",
   "metadata": {},
   "outputs": [],
   "source": [
    "final_df=pd.merge(how='left', left = final_df, right = huge_df['title'].rename('title'), left_index=True, right_index=True)"
   ]
  },
  {
   "cell_type": "code",
   "execution_count": 46,
   "id": "1f591e10-84bf-4472-9b4b-01f7cab77034",
   "metadata": {},
   "outputs": [
    {
     "name": "stdout",
     "output_type": "stream",
     "text": [
      "<class 'pandas.core.frame.DataFrame'>\n",
      "RangeIndex: 6520 entries, 0 to 6519\n",
      "Data columns (total 4 columns):\n",
      " #   Column   Non-Null Count  Dtype \n",
      "---  ------   --------------  ----- \n",
      " 0   content  6520 non-null   object\n",
      " 1   authors  6520 non-null   object\n",
      " 2   url      6520 non-null   object\n",
      " 3   title    3901 non-null   object\n",
      "dtypes: object(4)\n",
      "memory usage: 203.9+ KB\n"
     ]
    }
   ],
   "source": [
    "final_df.info()"
   ]
  },
  {
   "cell_type": "code",
   "execution_count": 47,
   "id": "75f23c7d-ba90-432f-b7aa-6aa9718802ba",
   "metadata": {},
   "outputs": [
    {
     "data": {
      "text/html": [
       "<div>\n",
       "<style scoped>\n",
       "    .dataframe tbody tr th:only-of-type {\n",
       "        vertical-align: middle;\n",
       "    }\n",
       "\n",
       "    .dataframe tbody tr th {\n",
       "        vertical-align: top;\n",
       "    }\n",
       "\n",
       "    .dataframe thead th {\n",
       "        text-align: right;\n",
       "    }\n",
       "</style>\n",
       "<table border=\"1\" class=\"dataframe\">\n",
       "  <thead>\n",
       "    <tr style=\"text-align: right;\">\n",
       "      <th></th>\n",
       "      <th>content</th>\n",
       "      <th>authors</th>\n",
       "      <th>url</th>\n",
       "      <th>title</th>\n",
       "    </tr>\n",
       "  </thead>\n",
       "  <tbody>\n",
       "    <tr>\n",
       "      <th>0</th>\n",
       "      <td>Promoting his  new movie  \"The Tender Bar,\" th...</td>\n",
       "      <td>[MarianneGarvey]</td>\n",
       "      <td>https://www.cnn.com/2021/12/01/entertainment/b...</td>\n",
       "      <td>&lt;h1 class=\"pg-headline\"&gt;Ben Affleck is gratefu...</td>\n",
       "    </tr>\n",
       "    <tr>\n",
       "      <th>1</th>\n",
       "      <td>Then frightened students barricaded doors, pho...</td>\n",
       "      <td>[JasonHanna, AmirVera, AdrienneBroaddus, Shimo...</td>\n",
       "      <td>https://www.cnn.com/2021/12/01/us/michigan-oxf...</td>\n",
       "      <td>NaN</td>\n",
       "    </tr>\n",
       "    <tr>\n",
       "      <th>2</th>\n",
       "      <td>In a White House news briefing, Dr. Anthony Fa...</td>\n",
       "      <td>[KaitlanCollins, JacquelineHoward, BetsyKlein]</td>\n",
       "      <td>https://www.cnn.com/2021/12/01/health/us-omicr...</td>\n",
       "      <td>NaN</td>\n",
       "    </tr>\n",
       "    <tr>\n",
       "      <th>3</th>\n",
       "      <td>On Tuesday, he had teased the song on Instagra...</td>\n",
       "      <td>[MarianneGarvey]</td>\n",
       "      <td>https://www.cnn.com/2021/12/02/entertainment/s...</td>\n",
       "      <td>&lt;h1 class=\"pg-headline\"&gt;Students grabbed sciss...</td>\n",
       "    </tr>\n",
       "    <tr>\n",
       "      <th>4</th>\n",
       "      <td>The dispute represents the culmination of a de...</td>\n",
       "      <td>[ArianedeVogue, SupremeCourt]</td>\n",
       "      <td>https://www.cnn.com/2021/12/01/politics/suprem...</td>\n",
       "      <td>&lt;h1 class=\"pg-headline\"&gt;First confirmed US cas...</td>\n",
       "    </tr>\n",
       "    <tr>\n",
       "      <th>...</th>\n",
       "      <td>...</td>\n",
       "      <td>...</td>\n",
       "      <td>...</td>\n",
       "      <td>...</td>\n",
       "    </tr>\n",
       "    <tr>\n",
       "      <th>6515</th>\n",
       "      <td>\\n      Marilou Danley said that she was worri...</td>\n",
       "      <td>[MadisonPark, DarranSimon, HollyYan, EricLeven...</td>\n",
       "      <td>https://www.cnn.com/2017/10/04/us/las-vegas-sh...</td>\n",
       "      <td>NaN</td>\n",
       "    </tr>\n",
       "    <tr>\n",
       "      <th>6516</th>\n",
       "      <td>\\n      NOAA helped Key West residents check o...</td>\n",
       "      <td>[PaulPMurphy]</td>\n",
       "      <td>https://www.cnn.com/2017/09/12/us/noaa-satelli...</td>\n",
       "      <td>NaN</td>\n",
       "    </tr>\n",
       "    <tr>\n",
       "      <th>6517</th>\n",
       "      <td>\\n      Hurricane Irma regained Category 5 sta...</td>\n",
       "      <td>[JasonHanna, SteveAlmasy]</td>\n",
       "      <td>https://www.cnn.com/2017/09/08/us/hurricane-ir...</td>\n",
       "      <td>NaN</td>\n",
       "    </tr>\n",
       "    <tr>\n",
       "      <th>6518</th>\n",
       "      <td>\\n      ,Editor’s note: This is a developing s...</td>\n",
       "      <td>[HollyYan, DarranSimon, FaithKarimi]</td>\n",
       "      <td>https://www.cnn.com/2017/09/11/us/hurricane-ir...</td>\n",
       "      <td>NaN</td>\n",
       "    </tr>\n",
       "    <tr>\n",
       "      <th>6519</th>\n",
       "      <td>\\n      Time is running out to evacuate and pr...</td>\n",
       "      <td>[MadisonPark, EricLevenson]</td>\n",
       "      <td>https://www.cnn.com/2017/09/09/us/hurricane-ir...</td>\n",
       "      <td>&lt;h1 class=\"pg-headline\"&gt;Democrats expect CBO t...</td>\n",
       "    </tr>\n",
       "  </tbody>\n",
       "</table>\n",
       "<p>6520 rows × 4 columns</p>\n",
       "</div>"
      ],
      "text/plain": [
       "                                                content  \\\n",
       "0     Promoting his  new movie  \"The Tender Bar,\" th...   \n",
       "1     Then frightened students barricaded doors, pho...   \n",
       "2     In a White House news briefing, Dr. Anthony Fa...   \n",
       "3     On Tuesday, he had teased the song on Instagra...   \n",
       "4     The dispute represents the culmination of a de...   \n",
       "...                                                 ...   \n",
       "6515  \\n      Marilou Danley said that she was worri...   \n",
       "6516  \\n      NOAA helped Key West residents check o...   \n",
       "6517  \\n      Hurricane Irma regained Category 5 sta...   \n",
       "6518  \\n      ,Editor’s note: This is a developing s...   \n",
       "6519  \\n      Time is running out to evacuate and pr...   \n",
       "\n",
       "                                                authors  \\\n",
       "0                                      [MarianneGarvey]   \n",
       "1     [JasonHanna, AmirVera, AdrienneBroaddus, Shimo...   \n",
       "2        [KaitlanCollins, JacquelineHoward, BetsyKlein]   \n",
       "3                                      [MarianneGarvey]   \n",
       "4                         [ArianedeVogue, SupremeCourt]   \n",
       "...                                                 ...   \n",
       "6515  [MadisonPark, DarranSimon, HollyYan, EricLeven...   \n",
       "6516                                      [PaulPMurphy]   \n",
       "6517                          [JasonHanna, SteveAlmasy]   \n",
       "6518               [HollyYan, DarranSimon, FaithKarimi]   \n",
       "6519                        [MadisonPark, EricLevenson]   \n",
       "\n",
       "                                                    url  \\\n",
       "0     https://www.cnn.com/2021/12/01/entertainment/b...   \n",
       "1     https://www.cnn.com/2021/12/01/us/michigan-oxf...   \n",
       "2     https://www.cnn.com/2021/12/01/health/us-omicr...   \n",
       "3     https://www.cnn.com/2021/12/02/entertainment/s...   \n",
       "4     https://www.cnn.com/2021/12/01/politics/suprem...   \n",
       "...                                                 ...   \n",
       "6515  https://www.cnn.com/2017/10/04/us/las-vegas-sh...   \n",
       "6516  https://www.cnn.com/2017/09/12/us/noaa-satelli...   \n",
       "6517  https://www.cnn.com/2017/09/08/us/hurricane-ir...   \n",
       "6518  https://www.cnn.com/2017/09/11/us/hurricane-ir...   \n",
       "6519  https://www.cnn.com/2017/09/09/us/hurricane-ir...   \n",
       "\n",
       "                                                  title  \n",
       "0     <h1 class=\"pg-headline\">Ben Affleck is gratefu...  \n",
       "1                                                   NaN  \n",
       "2                                                   NaN  \n",
       "3     <h1 class=\"pg-headline\">Students grabbed sciss...  \n",
       "4     <h1 class=\"pg-headline\">First confirmed US cas...  \n",
       "...                                                 ...  \n",
       "6515                                                NaN  \n",
       "6516                                                NaN  \n",
       "6517                                                NaN  \n",
       "6518                                                NaN  \n",
       "6519  <h1 class=\"pg-headline\">Democrats expect CBO t...  \n",
       "\n",
       "[6520 rows x 4 columns]"
      ]
     },
     "execution_count": 47,
     "metadata": {},
     "output_type": "execute_result"
    }
   ],
   "source": [
    "final_df"
   ]
  },
  {
   "cell_type": "code",
   "execution_count": 48,
   "id": "c371a2de-03ea-4bc5-b66a-ad2bcd8a1076",
   "metadata": {},
   "outputs": [],
   "source": [
    "import matplotlib.pyplot as plt"
   ]
  },
  {
   "cell_type": "code",
   "execution_count": 49,
   "id": "5678acd7-8ecc-4707-843f-6ac4d4dc46d1",
   "metadata": {},
   "outputs": [
    {
     "name": "stderr",
     "output_type": "stream",
     "text": [
      "C:\\Users\\chris\\AppData\\Local\\Temp/ipykernel_22780/1367079681.py:1: FutureWarning: Using the level keyword in DataFrame and Series aggregations is deprecated and will be removed in a future version. Use groupby instead. df.sum(level=1) should use df.groupby(level=1).sum().\n",
      "  dummies=pd.get_dummies(final_df['authors'].apply(pd.Series).stack()).sum(level=0)\n"
     ]
    }
   ],
   "source": [
    "dummies=pd.get_dummies(final_df['authors'].apply(pd.Series).stack()).sum(level=0)"
   ]
  },
  {
   "cell_type": "code",
   "execution_count": 50,
   "id": "3f4986f1-c31c-443c-b761-7462f4d76ba0",
   "metadata": {
    "tags": []
   },
   "outputs": [
    {
     "data": {
      "image/png": "[encoded data removed]",
      "text/plain": [
       "<Figure size 720x720 with 1 Axes>"
      ]
     },
     "metadata": {
      "needs_background": "light"
     },
     "output_type": "display_data"
    }
   ],
   "source": [
    "plt.figure(figsize=(10,10))\n",
    "plt.hist(dummies.sum()[dummies.sum()<20], bins=19, range=(1,20))\n",
    "plt.xticks(ticks=[1,2,3,4,5,6,7,8,9,10,11,12,13,14,15,16,17,18,19,20], labels=[1,2,3,4,5,6,7,8,9,10,11,12,13,14,15,16,17,18,19,20])\n",
    "plt.title('Number of articles with x contributors',fontsize=16)\n",
    "plt.xlabel('Number of contributors', fontsize=14)\n",
    "plt.ylabel('Number of Articles', fontsize=14);\n",
    "#This interpretation is wrong! Fix!"
   ]
  },
  {
   "cell_type": "markdown",
   "id": "cc03584e-725d-498a-8b7a-74d199e79451",
   "metadata": {},
   "source": [
    "Articles with a lot of contributors will be difficult to accurately model. Below we try to find a restriction of our data to authors who don't write together"
   ]
  },
  {
   "cell_type": "code",
   "execution_count": 51,
   "id": "1e3d1188-3557-4728-99f1-80ae5a27d177",
   "metadata": {},
   "outputs": [
    {
     "data": {
      "text/html": [
       "<div>\n",
       "<style scoped>\n",
       "    .dataframe tbody tr th:only-of-type {\n",
       "        vertical-align: middle;\n",
       "    }\n",
       "\n",
       "    .dataframe tbody tr th {\n",
       "        vertical-align: top;\n",
       "    }\n",
       "\n",
       "    .dataframe thead th {\n",
       "        text-align: right;\n",
       "    }\n",
       "</style>\n",
       "<table border=\"1\" class=\"dataframe\">\n",
       "  <thead>\n",
       "    <tr style=\"text-align: right;\">\n",
       "      <th></th>\n",
       "      <th>content</th>\n",
       "      <th>authors</th>\n",
       "      <th>url</th>\n",
       "      <th>title</th>\n",
       "    </tr>\n",
       "  </thead>\n",
       "  <tbody>\n",
       "    <tr>\n",
       "      <th>0</th>\n",
       "      <td>Promoting his  new movie  \"The Tender Bar,\" th...</td>\n",
       "      <td>[MarianneGarvey]</td>\n",
       "      <td>https://www.cnn.com/2021/12/01/entertainment/b...</td>\n",
       "      <td>&lt;h1 class=\"pg-headline\"&gt;Ben Affleck is gratefu...</td>\n",
       "    </tr>\n",
       "    <tr>\n",
       "      <th>1</th>\n",
       "      <td>Then frightened students barricaded doors, pho...</td>\n",
       "      <td>[JasonHanna, AmirVera, AdrienneBroaddus, Shimo...</td>\n",
       "      <td>https://www.cnn.com/2021/12/01/us/michigan-oxf...</td>\n",
       "      <td>NaN</td>\n",
       "    </tr>\n",
       "    <tr>\n",
       "      <th>2</th>\n",
       "      <td>In a White House news briefing, Dr. Anthony Fa...</td>\n",
       "      <td>[KaitlanCollins, JacquelineHoward, BetsyKlein]</td>\n",
       "      <td>https://www.cnn.com/2021/12/01/health/us-omicr...</td>\n",
       "      <td>NaN</td>\n",
       "    </tr>\n",
       "    <tr>\n",
       "      <th>3</th>\n",
       "      <td>On Tuesday, he had teased the song on Instagra...</td>\n",
       "      <td>[MarianneGarvey]</td>\n",
       "      <td>https://www.cnn.com/2021/12/02/entertainment/s...</td>\n",
       "      <td>&lt;h1 class=\"pg-headline\"&gt;Students grabbed sciss...</td>\n",
       "    </tr>\n",
       "    <tr>\n",
       "      <th>4</th>\n",
       "      <td>The dispute represents the culmination of a de...</td>\n",
       "      <td>[ArianedeVogue, SupremeCourt]</td>\n",
       "      <td>https://www.cnn.com/2021/12/01/politics/suprem...</td>\n",
       "      <td>&lt;h1 class=\"pg-headline\"&gt;First confirmed US cas...</td>\n",
       "    </tr>\n",
       "    <tr>\n",
       "      <th>...</th>\n",
       "      <td>...</td>\n",
       "      <td>...</td>\n",
       "      <td>...</td>\n",
       "      <td>...</td>\n",
       "    </tr>\n",
       "    <tr>\n",
       "      <th>6515</th>\n",
       "      <td>\\n      Marilou Danley said that she was worri...</td>\n",
       "      <td>[MadisonPark, DarranSimon, HollyYan, EricLeven...</td>\n",
       "      <td>https://www.cnn.com/2017/10/04/us/las-vegas-sh...</td>\n",
       "      <td>NaN</td>\n",
       "    </tr>\n",
       "    <tr>\n",
       "      <th>6516</th>\n",
       "      <td>\\n      NOAA helped Key West residents check o...</td>\n",
       "      <td>[PaulPMurphy]</td>\n",
       "      <td>https://www.cnn.com/2017/09/12/us/noaa-satelli...</td>\n",
       "      <td>NaN</td>\n",
       "    </tr>\n",
       "    <tr>\n",
       "      <th>6517</th>\n",
       "      <td>\\n      Hurricane Irma regained Category 5 sta...</td>\n",
       "      <td>[JasonHanna, SteveAlmasy]</td>\n",
       "      <td>https://www.cnn.com/2017/09/08/us/hurricane-ir...</td>\n",
       "      <td>NaN</td>\n",
       "    </tr>\n",
       "    <tr>\n",
       "      <th>6518</th>\n",
       "      <td>\\n      ,Editor’s note: This is a developing s...</td>\n",
       "      <td>[HollyYan, DarranSimon, FaithKarimi]</td>\n",
       "      <td>https://www.cnn.com/2017/09/11/us/hurricane-ir...</td>\n",
       "      <td>NaN</td>\n",
       "    </tr>\n",
       "    <tr>\n",
       "      <th>6519</th>\n",
       "      <td>\\n      Time is running out to evacuate and pr...</td>\n",
       "      <td>[MadisonPark, EricLevenson]</td>\n",
       "      <td>https://www.cnn.com/2017/09/09/us/hurricane-ir...</td>\n",
       "      <td>&lt;h1 class=\"pg-headline\"&gt;Democrats expect CBO t...</td>\n",
       "    </tr>\n",
       "  </tbody>\n",
       "</table>\n",
       "<p>6520 rows × 4 columns</p>\n",
       "</div>"
      ],
      "text/plain": [
       "                                                content  \\\n",
       "0     Promoting his  new movie  \"The Tender Bar,\" th...   \n",
       "1     Then frightened students barricaded doors, pho...   \n",
       "2     In a White House news briefing, Dr. Anthony Fa...   \n",
       "3     On Tuesday, he had teased the song on Instagra...   \n",
       "4     The dispute represents the culmination of a de...   \n",
       "...                                                 ...   \n",
       "6515  \\n      Marilou Danley said that she was worri...   \n",
       "6516  \\n      NOAA helped Key West residents check o...   \n",
       "6517  \\n      Hurricane Irma regained Category 5 sta...   \n",
       "6518  \\n      ,Editor’s note: This is a developing s...   \n",
       "6519  \\n      Time is running out to evacuate and pr...   \n",
       "\n",
       "                                                authors  \\\n",
       "0                                      [MarianneGarvey]   \n",
       "1     [JasonHanna, AmirVera, AdrienneBroaddus, Shimo...   \n",
       "2        [KaitlanCollins, JacquelineHoward, BetsyKlein]   \n",
       "3                                      [MarianneGarvey]   \n",
       "4                         [ArianedeVogue, SupremeCourt]   \n",
       "...                                                 ...   \n",
       "6515  [MadisonPark, DarranSimon, HollyYan, EricLeven...   \n",
       "6516                                      [PaulPMurphy]   \n",
       "6517                          [JasonHanna, SteveAlmasy]   \n",
       "6518               [HollyYan, DarranSimon, FaithKarimi]   \n",
       "6519                        [MadisonPark, EricLevenson]   \n",
       "\n",
       "                                                    url  \\\n",
       "0     https://www.cnn.com/2021/12/01/entertainment/b...   \n",
       "1     https://www.cnn.com/2021/12/01/us/michigan-oxf...   \n",
       "2     https://www.cnn.com/2021/12/01/health/us-omicr...   \n",
       "3     https://www.cnn.com/2021/12/02/entertainment/s...   \n",
       "4     https://www.cnn.com/2021/12/01/politics/suprem...   \n",
       "...                                                 ...   \n",
       "6515  https://www.cnn.com/2017/10/04/us/las-vegas-sh...   \n",
       "6516  https://www.cnn.com/2017/09/12/us/noaa-satelli...   \n",
       "6517  https://www.cnn.com/2017/09/08/us/hurricane-ir...   \n",
       "6518  https://www.cnn.com/2017/09/11/us/hurricane-ir...   \n",
       "6519  https://www.cnn.com/2017/09/09/us/hurricane-ir...   \n",
       "\n",
       "                                                  title  \n",
       "0     <h1 class=\"pg-headline\">Ben Affleck is gratefu...  \n",
       "1                                                   NaN  \n",
       "2                                                   NaN  \n",
       "3     <h1 class=\"pg-headline\">Students grabbed sciss...  \n",
       "4     <h1 class=\"pg-headline\">First confirmed US cas...  \n",
       "...                                                 ...  \n",
       "6515                                                NaN  \n",
       "6516                                                NaN  \n",
       "6517                                                NaN  \n",
       "6518                                                NaN  \n",
       "6519  <h1 class=\"pg-headline\">Democrats expect CBO t...  \n",
       "\n",
       "[6520 rows x 4 columns]"
      ]
     },
     "execution_count": 51,
     "metadata": {},
     "output_type": "execute_result"
    }
   ],
   "source": [
    "final_df"
   ]
  },
  {
   "cell_type": "markdown",
   "id": "30a7f8c3-2852-452f-917f-66c5eaa4d108",
   "metadata": {},
   "source": [
    "Here we attempt to prepare out target and nontarget values"
   ]
  },
  {
   "cell_type": "code",
   "execution_count": 52,
   "id": "60ec85f0-6b95-41c3-935e-eb792fb8588e",
   "metadata": {},
   "outputs": [],
   "source": [
    "X=final_df.drop(columns='authors')"
   ]
  },
  {
   "cell_type": "code",
   "execution_count": 53,
   "id": "bb985bbd-69dc-451f-991f-54ac6fb9acb3",
   "metadata": {},
   "outputs": [],
   "source": [
    "y=final_df['authors']"
   ]
  },
  {
   "cell_type": "code",
   "execution_count": null,
   "id": "7e814a5c-1a9c-4aeb-984e-2ec05c0a9c3b",
   "metadata": {},
   "outputs": [],
   "source": []
  },
  {
   "cell_type": "code",
   "execution_count": 54,
   "id": "25f19c8e-b4c3-4bb3-996c-6211b41523cf",
   "metadata": {},
   "outputs": [],
   "source": [
    "#Code from https://stackoverflow.com/questions/29034928/pandas-convert-a-column-of-list-to-dummies\n",
    "def encoding(list_series):\n",
    "    \"\"\"This one hot encodes our series of lists of author names\"\"\"\n",
    "    return pd.get_dummies(list_series.apply(pd.Series).stack()).sum(level=0)"
   ]
  },
  {
   "cell_type": "code",
   "execution_count": 55,
   "id": "13f58130-9638-4444-aa88-006a6bf25f17",
   "metadata": {},
   "outputs": [
    {
     "name": "stderr",
     "output_type": "stream",
     "text": [
      "C:\\Users\\chris\\AppData\\Local\\Temp/ipykernel_22780/4287874537.py:4: FutureWarning: Using the level keyword in DataFrame and Series aggregations is deprecated and will be removed in a future version. Use groupby instead. df.sum(level=1) should use df.groupby(level=1).sum().\n",
      "  return pd.get_dummies(list_series.apply(pd.Series).stack()).sum(level=0)\n"
     ]
    }
   ],
   "source": [
    "y_encoded= encoding(y)"
   ]
  },
  {
   "cell_type": "code",
   "execution_count": 56,
   "id": "a4aeebba-12b7-4d93-954e-186f29cb9334",
   "metadata": {},
   "outputs": [
    {
     "data": {
      "text/plain": [
       "0       1\n",
       "1       4\n",
       "2       3\n",
       "3       1\n",
       "4       2\n",
       "       ..\n",
       "6515    4\n",
       "6516    1\n",
       "6517    2\n",
       "6518    3\n",
       "6519    2\n",
       "Length: 6516, dtype: int64"
      ]
     },
     "execution_count": 56,
     "metadata": {},
     "output_type": "execute_result"
    }
   ],
   "source": [
    "y_encoded.sum(axis=1)"
   ]
  },
  {
   "cell_type": "code",
   "execution_count": 57,
   "id": "c12387db-a185-437c-867a-a6569c941ea4",
   "metadata": {},
   "outputs": [
    {
     "data": {
      "text/plain": [
       "                                        56\n",
       ":ClarissaWard                            1\n",
       "AJWillingham                            27\n",
       "APAlbertoPezzali                         1\n",
       "AaronCooper                              5\n",
       "                                        ..\n",
       "exclusiveinvestigationErinMcLaughlin     1\n",
       "illustrationGabrielleSmith               1\n",
       "producedMatthewGannon                    2\n",
       "sMatthewGannon                           1\n",
       "staff                                    1\n",
       "Length: 1112, dtype: int64"
      ]
     },
     "execution_count": 57,
     "metadata": {},
     "output_type": "execute_result"
    }
   ],
   "source": [
    "y_encoded.sum(axis=0)"
   ]
  },
  {
   "cell_type": "markdown",
   "id": "69766608-ceef-4185-b94e-92a6c7249407",
   "metadata": {},
   "source": []
  },
  {
   "cell_type": "code",
   "execution_count": 58,
   "id": "6d88c4e4-be51-48ff-ae17-47ad86fe8ed4",
   "metadata": {},
   "outputs": [
    {
     "data": {
      "text/plain": [
       "Index(['', ':ClarissaWard', 'AJWillingham', 'APAlbertoPezzali', 'AaronCooper',\n",
       "       'AaronDarveniza', 'AaronKessler', 'AaronPellish', 'AbdelrahmanKhalid',\n",
       "       'AbdulBasirBina',\n",
       "       ...\n",
       "       'ZahraUllah', 'ZamiraRahim', 'ZaynNabbi', 'ZeenaSaifi', 'ZixuWang',\n",
       "       'exclusiveinvestigationErinMcLaughlin', 'illustrationGabrielleSmith',\n",
       "       'producedMatthewGannon', 'sMatthewGannon', 'staff'],\n",
       "      dtype='object', length=1112)"
      ]
     },
     "execution_count": 58,
     "metadata": {},
     "output_type": "execute_result"
    }
   ],
   "source": [
    "y_encoded.columns"
   ]
  },
  {
   "cell_type": "code",
   "execution_count": 59,
   "id": "d1ad9893-ebd8-4b2a-8554-6e5d878895dc",
   "metadata": {},
   "outputs": [],
   "source": [
    "def is_first_last(string):\n",
    "    \"\"\"This function was used to tell if an author string was a single first-last name in Camel Case\"\"\"\n",
    "    count=0\n",
    "    ls=[]\n",
    "    for char in string:\n",
    "        if(char.isupper()==True):\n",
    "            count+=1\n",
    "            ls.append(1)\n",
    "        elif(char=='-'): #hypenated names don't count as separate names\n",
    "            count-=1\n",
    "        else:\n",
    "            ls.append(0)\n",
    "    for index in range(len(ls)-2):\n",
    "        if(ls[index]==1 and ls[index+2]==1): #If consecutive characters are uppercase, then count these once. E.g. O'Brian is one name.\n",
    "            count-=1\n",
    "            if(ls[index+1]==1):\n",
    "                count-=1\n",
    "    return count\n",
    "    "
   ]
  },
  {
   "cell_type": "code",
   "execution_count": 60,
   "id": "40987f83-f948-4041-891a-32b3a6058924",
   "metadata": {},
   "outputs": [
    {
     "name": "stdout",
     "output_type": "stream",
     "text": [
      "AditiSangal AdrienneVogt\n",
      "AngelaDewan AnastasiaBeltyukova\n",
      "BarbaraArvanitidis MuhammadDarwish\n",
      "BryonyJonesinParisandJessica RavitzinAtlanta\n",
      "ChrisBoyetteTawanda ScottSambou\n",
      "ChristopherHickey TomNicholson\n",
      "CristianArroyo MadeleineStix\n",
      "DonieO'Sullivan SamanthaGuff\n",
      "DrewKann RenéeRigdon\n",
      "EdmundDFountain ZachWasser\n",
      "ElijahNouvelage JonSarlin\n",
      "ElizaMackintosh AlexPlatt\n",
      "ElizaMackintosh HenrikPettersson\n",
      "ElizaMackintosh SarahTilotta\n",
      "FabienMuhire KaraFox\n",
      "FrankFenimore& MattGannon\n",
      "GregBotelho MatthewGannon\n",
      "KaraFox DilayYalcin\n",
      "KatiePolglase BarbaraArvanitidis\n",
      "KatiePolglase MarkBaron\n",
      "LaceyRussell WeiWang\n",
      "LauraSmith-Spark AlexPlatt\n",
      "LaurenSaid-Moorhouse SarahTilotta\n",
      "MadeleineStix MadeleineStix\n",
      "MargotHaddadwrittenLauren Said-Moorhouse\n",
      "MelanieHicken SergioHernandez\n",
      "MichaelMartinez MatthewGannon\n",
      "NickHagen JeremyMoorhead\n",
      "NimaElbagir BarbaraArvanitidis\n",
      "PaulMurphy HollyYan\n",
      "PaulPMurphy LukeRotzler\n",
      "PaulPMurphyphotoediting SarahTilotta\n",
      "RachelCraneTawanda ScottSambou\n",
      "RachelWoolfEdited BradenGoyette\n",
      "SarahTilotta MuhammadDarwish\n",
      "ScottGlover ColletteRichards\n",
      "SheenaMcKenzieKaraFox HazelPfeifer\n",
      "SheenaMcKenzieSarahTilotta EdKiernan\n",
      "WayneDrashTawanda ScottSambou\n",
      "ZahidMahmood SarahTilotta\n"
     ]
    }
   ],
   "source": [
    "for value in y_encoded.columns:\n",
    "    tf = is_first_last(value)\n",
    "    if(tf>=4):\n",
    "        count=0\n",
    "        index=0\n",
    "        for char in value[::-1]:\n",
    "            index-=1\n",
    "            if(char.isupper()):\n",
    "                count+=1\n",
    "            if(count==2):\n",
    "                break\n",
    "        print(value[:index],value[index:])"
   ]
  },
  {
   "cell_type": "code",
   "execution_count": 61,
   "id": "13822c93-c068-4d9b-ab49-eaed2d4ff8f9",
   "metadata": {},
   "outputs": [
    {
     "data": {
      "text/plain": [
       "1233    1\n",
       "2019    1\n",
       "4143    1\n",
       "Name: ZahidMahmood, dtype: uint8"
      ]
     },
     "execution_count": 61,
     "metadata": {},
     "output_type": "execute_result"
    }
   ],
   "source": [
    "y_encoded['ZahidMahmood'][y_encoded['ZahidMahmood']==1]"
   ]
  },
  {
   "cell_type": "code",
   "execution_count": 62,
   "id": "f04b63fe-2db2-49d3-bb36-f4480f18043c",
   "metadata": {},
   "outputs": [
    {
     "data": {
      "text/plain": [
       "3874    1\n",
       "Name: ZahidMahmoodSarahTilotta, dtype: uint8"
      ]
     },
     "execution_count": 62,
     "metadata": {},
     "output_type": "execute_result"
    }
   ],
   "source": [
    "y_encoded['ZahidMahmoodSarahTilotta'][y_encoded['ZahidMahmoodSarahTilotta']==1]"
   ]
  },
  {
   "cell_type": "code",
   "execution_count": null,
   "id": "cf3f50dd-5591-4dcd-ad7f-624d4f35f04d",
   "metadata": {},
   "outputs": [],
   "source": []
  },
  {
   "cell_type": "markdown",
   "id": "dcaf84e1-f2b0-44c5-9427-e2bf8179a0d0",
   "metadata": {},
   "source": [
    "---"
   ]
  },
  {
   "cell_type": "markdown",
   "id": "be390ad2-add1-4046-926f-615380f9bcca",
   "metadata": {},
   "source": [
    "## Data Preprocessing and Exploratory Data Analysis ##"
   ]
  },
  {
   "cell_type": "code",
   "execution_count": 63,
   "id": "9fd094a0-4f25-4ba9-9ebd-240bf415ae7c",
   "metadata": {},
   "outputs": [
    {
     "data": {
      "text/html": [
       "<div>\n",
       "<style scoped>\n",
       "    .dataframe tbody tr th:only-of-type {\n",
       "        vertical-align: middle;\n",
       "    }\n",
       "\n",
       "    .dataframe tbody tr th {\n",
       "        vertical-align: top;\n",
       "    }\n",
       "\n",
       "    .dataframe thead th {\n",
       "        text-align: right;\n",
       "    }\n",
       "</style>\n",
       "<table border=\"1\" class=\"dataframe\">\n",
       "  <thead>\n",
       "    <tr style=\"text-align: right;\">\n",
       "      <th></th>\n",
       "      <th>content</th>\n",
       "      <th>url</th>\n",
       "      <th>title</th>\n",
       "    </tr>\n",
       "  </thead>\n",
       "  <tbody>\n",
       "    <tr>\n",
       "      <th>0</th>\n",
       "      <td>Promoting his  new movie  \"The Tender Bar,\" th...</td>\n",
       "      <td>https://www.cnn.com/2021/12/01/entertainment/b...</td>\n",
       "      <td>&lt;h1 class=\"pg-headline\"&gt;Ben Affleck is gratefu...</td>\n",
       "    </tr>\n",
       "    <tr>\n",
       "      <th>1</th>\n",
       "      <td>Then frightened students barricaded doors, pho...</td>\n",
       "      <td>https://www.cnn.com/2021/12/01/us/michigan-oxf...</td>\n",
       "      <td>NaN</td>\n",
       "    </tr>\n",
       "    <tr>\n",
       "      <th>2</th>\n",
       "      <td>In a White House news briefing, Dr. Anthony Fa...</td>\n",
       "      <td>https://www.cnn.com/2021/12/01/health/us-omicr...</td>\n",
       "      <td>NaN</td>\n",
       "    </tr>\n",
       "    <tr>\n",
       "      <th>3</th>\n",
       "      <td>On Tuesday, he had teased the song on Instagra...</td>\n",
       "      <td>https://www.cnn.com/2021/12/02/entertainment/s...</td>\n",
       "      <td>&lt;h1 class=\"pg-headline\"&gt;Students grabbed sciss...</td>\n",
       "    </tr>\n",
       "    <tr>\n",
       "      <th>4</th>\n",
       "      <td>The dispute represents the culmination of a de...</td>\n",
       "      <td>https://www.cnn.com/2021/12/01/politics/suprem...</td>\n",
       "      <td>&lt;h1 class=\"pg-headline\"&gt;First confirmed US cas...</td>\n",
       "    </tr>\n",
       "    <tr>\n",
       "      <th>...</th>\n",
       "      <td>...</td>\n",
       "      <td>...</td>\n",
       "      <td>...</td>\n",
       "    </tr>\n",
       "    <tr>\n",
       "      <th>6515</th>\n",
       "      <td>\\n      Marilou Danley said that she was worri...</td>\n",
       "      <td>https://www.cnn.com/2017/10/04/us/las-vegas-sh...</td>\n",
       "      <td>NaN</td>\n",
       "    </tr>\n",
       "    <tr>\n",
       "      <th>6516</th>\n",
       "      <td>\\n      NOAA helped Key West residents check o...</td>\n",
       "      <td>https://www.cnn.com/2017/09/12/us/noaa-satelli...</td>\n",
       "      <td>NaN</td>\n",
       "    </tr>\n",
       "    <tr>\n",
       "      <th>6517</th>\n",
       "      <td>\\n      Hurricane Irma regained Category 5 sta...</td>\n",
       "      <td>https://www.cnn.com/2017/09/08/us/hurricane-ir...</td>\n",
       "      <td>NaN</td>\n",
       "    </tr>\n",
       "    <tr>\n",
       "      <th>6518</th>\n",
       "      <td>\\n      ,Editor’s note: This is a developing s...</td>\n",
       "      <td>https://www.cnn.com/2017/09/11/us/hurricane-ir...</td>\n",
       "      <td>NaN</td>\n",
       "    </tr>\n",
       "    <tr>\n",
       "      <th>6519</th>\n",
       "      <td>\\n      Time is running out to evacuate and pr...</td>\n",
       "      <td>https://www.cnn.com/2017/09/09/us/hurricane-ir...</td>\n",
       "      <td>&lt;h1 class=\"pg-headline\"&gt;Democrats expect CBO t...</td>\n",
       "    </tr>\n",
       "  </tbody>\n",
       "</table>\n",
       "<p>6520 rows × 3 columns</p>\n",
       "</div>"
      ],
      "text/plain": [
       "                                                content  \\\n",
       "0     Promoting his  new movie  \"The Tender Bar,\" th...   \n",
       "1     Then frightened students barricaded doors, pho...   \n",
       "2     In a White House news briefing, Dr. Anthony Fa...   \n",
       "3     On Tuesday, he had teased the song on Instagra...   \n",
       "4     The dispute represents the culmination of a de...   \n",
       "...                                                 ...   \n",
       "6515  \\n      Marilou Danley said that she was worri...   \n",
       "6516  \\n      NOAA helped Key West residents check o...   \n",
       "6517  \\n      Hurricane Irma regained Category 5 sta...   \n",
       "6518  \\n      ,Editor’s note: This is a developing s...   \n",
       "6519  \\n      Time is running out to evacuate and pr...   \n",
       "\n",
       "                                                    url  \\\n",
       "0     https://www.cnn.com/2021/12/01/entertainment/b...   \n",
       "1     https://www.cnn.com/2021/12/01/us/michigan-oxf...   \n",
       "2     https://www.cnn.com/2021/12/01/health/us-omicr...   \n",
       "3     https://www.cnn.com/2021/12/02/entertainment/s...   \n",
       "4     https://www.cnn.com/2021/12/01/politics/suprem...   \n",
       "...                                                 ...   \n",
       "6515  https://www.cnn.com/2017/10/04/us/las-vegas-sh...   \n",
       "6516  https://www.cnn.com/2017/09/12/us/noaa-satelli...   \n",
       "6517  https://www.cnn.com/2017/09/08/us/hurricane-ir...   \n",
       "6518  https://www.cnn.com/2017/09/11/us/hurricane-ir...   \n",
       "6519  https://www.cnn.com/2017/09/09/us/hurricane-ir...   \n",
       "\n",
       "                                                  title  \n",
       "0     <h1 class=\"pg-headline\">Ben Affleck is gratefu...  \n",
       "1                                                   NaN  \n",
       "2                                                   NaN  \n",
       "3     <h1 class=\"pg-headline\">Students grabbed sciss...  \n",
       "4     <h1 class=\"pg-headline\">First confirmed US cas...  \n",
       "...                                                 ...  \n",
       "6515                                                NaN  \n",
       "6516                                                NaN  \n",
       "6517                                                NaN  \n",
       "6518                                                NaN  \n",
       "6519  <h1 class=\"pg-headline\">Democrats expect CBO t...  \n",
       "\n",
       "[6520 rows x 3 columns]"
      ]
     },
     "execution_count": 63,
     "metadata": {},
     "output_type": "execute_result"
    }
   ],
   "source": [
    "X"
   ]
  },
  {
   "cell_type": "code",
   "execution_count": 64,
   "id": "bb20dbfc-0051-416f-8623-2979cffc0757",
   "metadata": {},
   "outputs": [
    {
     "data": {
      "text/html": [
       "<div>\n",
       "<style scoped>\n",
       "    .dataframe tbody tr th:only-of-type {\n",
       "        vertical-align: middle;\n",
       "    }\n",
       "\n",
       "    .dataframe tbody tr th {\n",
       "        vertical-align: top;\n",
       "    }\n",
       "\n",
       "    .dataframe thead th {\n",
       "        text-align: right;\n",
       "    }\n",
       "</style>\n",
       "<table border=\"1\" class=\"dataframe\">\n",
       "  <thead>\n",
       "    <tr style=\"text-align: right;\">\n",
       "      <th></th>\n",
       "      <th></th>\n",
       "      <th>:ClarissaWard</th>\n",
       "      <th>AJWillingham</th>\n",
       "      <th>APAlbertoPezzali</th>\n",
       "      <th>AaronCooper</th>\n",
       "      <th>AaronDarveniza</th>\n",
       "      <th>AaronKessler</th>\n",
       "      <th>AaronPellish</th>\n",
       "      <th>AbdelrahmanKhalid</th>\n",
       "      <th>AbdulBasirBina</th>\n",
       "      <th>...</th>\n",
       "      <th>ZahraUllah</th>\n",
       "      <th>ZamiraRahim</th>\n",
       "      <th>ZaynNabbi</th>\n",
       "      <th>ZeenaSaifi</th>\n",
       "      <th>ZixuWang</th>\n",
       "      <th>exclusiveinvestigationErinMcLaughlin</th>\n",
       "      <th>illustrationGabrielleSmith</th>\n",
       "      <th>producedMatthewGannon</th>\n",
       "      <th>sMatthewGannon</th>\n",
       "      <th>staff</th>\n",
       "    </tr>\n",
       "  </thead>\n",
       "  <tbody>\n",
       "    <tr>\n",
       "      <th>0</th>\n",
       "      <td>0</td>\n",
       "      <td>0</td>\n",
       "      <td>0</td>\n",
       "      <td>0</td>\n",
       "      <td>0</td>\n",
       "      <td>0</td>\n",
       "      <td>0</td>\n",
       "      <td>0</td>\n",
       "      <td>0</td>\n",
       "      <td>0</td>\n",
       "      <td>...</td>\n",
       "      <td>0</td>\n",
       "      <td>0</td>\n",
       "      <td>0</td>\n",
       "      <td>0</td>\n",
       "      <td>0</td>\n",
       "      <td>0</td>\n",
       "      <td>0</td>\n",
       "      <td>0</td>\n",
       "      <td>0</td>\n",
       "      <td>0</td>\n",
       "    </tr>\n",
       "    <tr>\n",
       "      <th>1</th>\n",
       "      <td>0</td>\n",
       "      <td>0</td>\n",
       "      <td>0</td>\n",
       "      <td>0</td>\n",
       "      <td>0</td>\n",
       "      <td>0</td>\n",
       "      <td>0</td>\n",
       "      <td>0</td>\n",
       "      <td>0</td>\n",
       "      <td>0</td>\n",
       "      <td>...</td>\n",
       "      <td>0</td>\n",
       "      <td>0</td>\n",
       "      <td>0</td>\n",
       "      <td>0</td>\n",
       "      <td>0</td>\n",
       "      <td>0</td>\n",
       "      <td>0</td>\n",
       "      <td>0</td>\n",
       "      <td>0</td>\n",
       "      <td>0</td>\n",
       "    </tr>\n",
       "    <tr>\n",
       "      <th>2</th>\n",
       "      <td>0</td>\n",
       "      <td>0</td>\n",
       "      <td>0</td>\n",
       "      <td>0</td>\n",
       "      <td>0</td>\n",
       "      <td>0</td>\n",
       "      <td>0</td>\n",
       "      <td>0</td>\n",
       "      <td>0</td>\n",
       "      <td>0</td>\n",
       "      <td>...</td>\n",
       "      <td>0</td>\n",
       "      <td>0</td>\n",
       "      <td>0</td>\n",
       "      <td>0</td>\n",
       "      <td>0</td>\n",
       "      <td>0</td>\n",
       "      <td>0</td>\n",
       "      <td>0</td>\n",
       "      <td>0</td>\n",
       "      <td>0</td>\n",
       "    </tr>\n",
       "    <tr>\n",
       "      <th>3</th>\n",
       "      <td>0</td>\n",
       "      <td>0</td>\n",
       "      <td>0</td>\n",
       "      <td>0</td>\n",
       "      <td>0</td>\n",
       "      <td>0</td>\n",
       "      <td>0</td>\n",
       "      <td>0</td>\n",
       "      <td>0</td>\n",
       "      <td>0</td>\n",
       "      <td>...</td>\n",
       "      <td>0</td>\n",
       "      <td>0</td>\n",
       "      <td>0</td>\n",
       "      <td>0</td>\n",
       "      <td>0</td>\n",
       "      <td>0</td>\n",
       "      <td>0</td>\n",
       "      <td>0</td>\n",
       "      <td>0</td>\n",
       "      <td>0</td>\n",
       "    </tr>\n",
       "    <tr>\n",
       "      <th>4</th>\n",
       "      <td>0</td>\n",
       "      <td>0</td>\n",
       "      <td>0</td>\n",
       "      <td>0</td>\n",
       "      <td>0</td>\n",
       "      <td>0</td>\n",
       "      <td>0</td>\n",
       "      <td>0</td>\n",
       "      <td>0</td>\n",
       "      <td>0</td>\n",
       "      <td>...</td>\n",
       "      <td>0</td>\n",
       "      <td>0</td>\n",
       "      <td>0</td>\n",
       "      <td>0</td>\n",
       "      <td>0</td>\n",
       "      <td>0</td>\n",
       "      <td>0</td>\n",
       "      <td>0</td>\n",
       "      <td>0</td>\n",
       "      <td>0</td>\n",
       "    </tr>\n",
       "    <tr>\n",
       "      <th>...</th>\n",
       "      <td>...</td>\n",
       "      <td>...</td>\n",
       "      <td>...</td>\n",
       "      <td>...</td>\n",
       "      <td>...</td>\n",
       "      <td>...</td>\n",
       "      <td>...</td>\n",
       "      <td>...</td>\n",
       "      <td>...</td>\n",
       "      <td>...</td>\n",
       "      <td>...</td>\n",
       "      <td>...</td>\n",
       "      <td>...</td>\n",
       "      <td>...</td>\n",
       "      <td>...</td>\n",
       "      <td>...</td>\n",
       "      <td>...</td>\n",
       "      <td>...</td>\n",
       "      <td>...</td>\n",
       "      <td>...</td>\n",
       "      <td>...</td>\n",
       "    </tr>\n",
       "    <tr>\n",
       "      <th>6515</th>\n",
       "      <td>0</td>\n",
       "      <td>0</td>\n",
       "      <td>0</td>\n",
       "      <td>0</td>\n",
       "      <td>0</td>\n",
       "      <td>0</td>\n",
       "      <td>0</td>\n",
       "      <td>0</td>\n",
       "      <td>0</td>\n",
       "      <td>0</td>\n",
       "      <td>...</td>\n",
       "      <td>0</td>\n",
       "      <td>0</td>\n",
       "      <td>0</td>\n",
       "      <td>0</td>\n",
       "      <td>0</td>\n",
       "      <td>0</td>\n",
       "      <td>0</td>\n",
       "      <td>0</td>\n",
       "      <td>0</td>\n",
       "      <td>0</td>\n",
       "    </tr>\n",
       "    <tr>\n",
       "      <th>6516</th>\n",
       "      <td>0</td>\n",
       "      <td>0</td>\n",
       "      <td>0</td>\n",
       "      <td>0</td>\n",
       "      <td>0</td>\n",
       "      <td>0</td>\n",
       "      <td>0</td>\n",
       "      <td>0</td>\n",
       "      <td>0</td>\n",
       "      <td>0</td>\n",
       "      <td>...</td>\n",
       "      <td>0</td>\n",
       "      <td>0</td>\n",
       "      <td>0</td>\n",
       "      <td>0</td>\n",
       "      <td>0</td>\n",
       "      <td>0</td>\n",
       "      <td>0</td>\n",
       "      <td>0</td>\n",
       "      <td>0</td>\n",
       "      <td>0</td>\n",
       "    </tr>\n",
       "    <tr>\n",
       "      <th>6517</th>\n",
       "      <td>0</td>\n",
       "      <td>0</td>\n",
       "      <td>0</td>\n",
       "      <td>0</td>\n",
       "      <td>0</td>\n",
       "      <td>0</td>\n",
       "      <td>0</td>\n",
       "      <td>0</td>\n",
       "      <td>0</td>\n",
       "      <td>0</td>\n",
       "      <td>...</td>\n",
       "      <td>0</td>\n",
       "      <td>0</td>\n",
       "      <td>0</td>\n",
       "      <td>0</td>\n",
       "      <td>0</td>\n",
       "      <td>0</td>\n",
       "      <td>0</td>\n",
       "      <td>0</td>\n",
       "      <td>0</td>\n",
       "      <td>0</td>\n",
       "    </tr>\n",
       "    <tr>\n",
       "      <th>6518</th>\n",
       "      <td>0</td>\n",
       "      <td>0</td>\n",
       "      <td>0</td>\n",
       "      <td>0</td>\n",
       "      <td>0</td>\n",
       "      <td>0</td>\n",
       "      <td>0</td>\n",
       "      <td>0</td>\n",
       "      <td>0</td>\n",
       "      <td>0</td>\n",
       "      <td>...</td>\n",
       "      <td>0</td>\n",
       "      <td>0</td>\n",
       "      <td>0</td>\n",
       "      <td>0</td>\n",
       "      <td>0</td>\n",
       "      <td>0</td>\n",
       "      <td>0</td>\n",
       "      <td>0</td>\n",
       "      <td>0</td>\n",
       "      <td>0</td>\n",
       "    </tr>\n",
       "    <tr>\n",
       "      <th>6519</th>\n",
       "      <td>0</td>\n",
       "      <td>0</td>\n",
       "      <td>0</td>\n",
       "      <td>0</td>\n",
       "      <td>0</td>\n",
       "      <td>0</td>\n",
       "      <td>0</td>\n",
       "      <td>0</td>\n",
       "      <td>0</td>\n",
       "      <td>0</td>\n",
       "      <td>...</td>\n",
       "      <td>0</td>\n",
       "      <td>0</td>\n",
       "      <td>0</td>\n",
       "      <td>0</td>\n",
       "      <td>0</td>\n",
       "      <td>0</td>\n",
       "      <td>0</td>\n",
       "      <td>0</td>\n",
       "      <td>0</td>\n",
       "      <td>0</td>\n",
       "    </tr>\n",
       "  </tbody>\n",
       "</table>\n",
       "<p>6516 rows × 1112 columns</p>\n",
       "</div>"
      ],
      "text/plain": [
       "         :ClarissaWard  AJWillingham  APAlbertoPezzali  AaronCooper  \\\n",
       "0     0              0             0                 0            0   \n",
       "1     0              0             0                 0            0   \n",
       "2     0              0             0                 0            0   \n",
       "3     0              0             0                 0            0   \n",
       "4     0              0             0                 0            0   \n",
       "...  ..            ...           ...               ...          ...   \n",
       "6515  0              0             0                 0            0   \n",
       "6516  0              0             0                 0            0   \n",
       "6517  0              0             0                 0            0   \n",
       "6518  0              0             0                 0            0   \n",
       "6519  0              0             0                 0            0   \n",
       "\n",
       "      AaronDarveniza  AaronKessler  AaronPellish  AbdelrahmanKhalid  \\\n",
       "0                  0             0             0                  0   \n",
       "1                  0             0             0                  0   \n",
       "2                  0             0             0                  0   \n",
       "3                  0             0             0                  0   \n",
       "4                  0             0             0                  0   \n",
       "...              ...           ...           ...                ...   \n",
       "6515               0             0             0                  0   \n",
       "6516               0             0             0                  0   \n",
       "6517               0             0             0                  0   \n",
       "6518               0             0             0                  0   \n",
       "6519               0             0             0                  0   \n",
       "\n",
       "      AbdulBasirBina  ...  ZahraUllah  ZamiraRahim  ZaynNabbi  ZeenaSaifi  \\\n",
       "0                  0  ...           0            0          0           0   \n",
       "1                  0  ...           0            0          0           0   \n",
       "2                  0  ...           0            0          0           0   \n",
       "3                  0  ...           0            0          0           0   \n",
       "4                  0  ...           0            0          0           0   \n",
       "...              ...  ...         ...          ...        ...         ...   \n",
       "6515               0  ...           0            0          0           0   \n",
       "6516               0  ...           0            0          0           0   \n",
       "6517               0  ...           0            0          0           0   \n",
       "6518               0  ...           0            0          0           0   \n",
       "6519               0  ...           0            0          0           0   \n",
       "\n",
       "      ZixuWang  exclusiveinvestigationErinMcLaughlin  \\\n",
       "0            0                                     0   \n",
       "1            0                                     0   \n",
       "2            0                                     0   \n",
       "3            0                                     0   \n",
       "4            0                                     0   \n",
       "...        ...                                   ...   \n",
       "6515         0                                     0   \n",
       "6516         0                                     0   \n",
       "6517         0                                     0   \n",
       "6518         0                                     0   \n",
       "6519         0                                     0   \n",
       "\n",
       "      illustrationGabrielleSmith  producedMatthewGannon  sMatthewGannon  staff  \n",
       "0                              0                      0               0      0  \n",
       "1                              0                      0               0      0  \n",
       "2                              0                      0               0      0  \n",
       "3                              0                      0               0      0  \n",
       "4                              0                      0               0      0  \n",
       "...                          ...                    ...             ...    ...  \n",
       "6515                           0                      0               0      0  \n",
       "6516                           0                      0               0      0  \n",
       "6517                           0                      0               0      0  \n",
       "6518                           0                      0               0      0  \n",
       "6519                           0                      0               0      0  \n",
       "\n",
       "[6516 rows x 1112 columns]"
      ]
     },
     "execution_count": 64,
     "metadata": {},
     "output_type": "execute_result"
    }
   ],
   "source": [
    "y_encoded"
   ]
  },
  {
   "cell_type": "code",
   "execution_count": 65,
   "id": "06d13fbe-764b-4e99-9e56-be4a6bcb5f57",
   "metadata": {},
   "outputs": [],
   "source": [
    "new_index=y_encoded.sum()[y_encoded.sum()>100].index"
   ]
  },
  {
   "cell_type": "code",
   "execution_count": 66,
   "id": "34828ae2-79d1-48bd-a385-991b11742f3d",
   "metadata": {},
   "outputs": [],
   "source": [
    "rows_to_remove=y_encoded[new_index].sum(axis=1)==0"
   ]
  },
  {
   "cell_type": "code",
   "execution_count": 67,
   "id": "5d95fc53-6b74-4f68-890b-3a33d10db57b",
   "metadata": {},
   "outputs": [],
   "source": [
    "new_y=y_encoded[new_index].drop(index=rows_to_remove[rows_to_remove].index)"
   ]
  },
  {
   "cell_type": "code",
   "execution_count": null,
   "id": "de33fa08-d182-4cf0-adae-5c3b4f80d75a",
   "metadata": {},
   "outputs": [],
   "source": []
  },
  {
   "cell_type": "code",
   "execution_count": 68,
   "id": "3b00a9a3-b271-48dc-82a3-4efb6fa56769",
   "metadata": {},
   "outputs": [
    {
     "data": {
      "text/plain": [
       "75      1\n",
       "109     1\n",
       "116     1\n",
       "117     1\n",
       "127     1\n",
       "       ..\n",
       "6510    1\n",
       "6511    1\n",
       "6512    1\n",
       "6514    1\n",
       "6516    1\n",
       "Length: 1351, dtype: int64"
      ]
     },
     "execution_count": 68,
     "metadata": {},
     "output_type": "execute_result"
    }
   ],
   "source": [
    "new_y.sum(axis=1)"
   ]
  },
  {
   "cell_type": "code",
   "execution_count": 69,
   "id": "8cb5ca47-3539-4859-af11-93a73da7d5e0",
   "metadata": {},
   "outputs": [],
   "source": [
    "y_sorted=new_y.sum(axis=0).sort_values(ascending=False)"
   ]
  },
  {
   "cell_type": "code",
   "execution_count": 70,
   "id": "05978b0e-e4f7-4093-9cbe-f0fac0c6e280",
   "metadata": {},
   "outputs": [
    {
     "data": {
      "text/plain": [
       "JenChristensen       313\n",
       "ZacharyCohen         264\n",
       "EliottCMcLaughlin    250\n",
       "PaulPMurphy          170\n",
       "JillMartin           145\n",
       "KonstantinToropin    111\n",
       "IvanaKottasová       108\n",
       "dtype: int64"
      ]
     },
     "execution_count": 70,
     "metadata": {},
     "output_type": "execute_result"
    }
   ],
   "source": [
    "y_sorted"
   ]
  },
  {
   "cell_type": "code",
   "execution_count": 71,
   "id": "379ec175-a1c3-48fb-9a23-6793634a6f3e",
   "metadata": {
    "tags": []
   },
   "outputs": [
    {
     "data": {
      "image/png": "[encoded data removed]",
      "text/plain": [
       "<Figure size 720x288 with 1 Axes>"
      ]
     },
     "metadata": {
      "needs_background": "light"
     },
     "output_type": "display_data"
    }
   ],
   "source": [
    "plt.figure(figsize=(10,4))\n",
    "plt.xticks(rotation=90, fontsize=14)\n",
    "#plt.tick_params(\n",
    "#    axis='x',\n",
    "#    which='both',\n",
    "#    bottom=False,\n",
    "#    top=False,\n",
    "#    labelbottom=False\n",
    "#)\n",
    "plt.title('Top CNN Authors By Number of Articles Written', fontsize=20)\n",
    "plt.ylabel('Number of Articles Written', fontsize=14)\n",
    "plt.bar(height=y_sorted, x=y_sorted.index);"
   ]
  },
  {
   "cell_type": "code",
   "execution_count": 72,
   "id": "472cb6ba-73a9-4d31-9ff5-4c0732b21aeb",
   "metadata": {},
   "outputs": [
    {
     "data": {
      "text/plain": [
       "1361"
      ]
     },
     "execution_count": 72,
     "metadata": {},
     "output_type": "execute_result"
    }
   ],
   "source": [
    "new_y.sum(axis=1).sum()"
   ]
  },
  {
   "cell_type": "code",
   "execution_count": 73,
   "id": "a94ad522-6dc8-4242-a231-2ba7a8e7b6fa",
   "metadata": {},
   "outputs": [],
   "source": [
    "adjacency = new_y[new_y.sum(axis=1)!=1]"
   ]
  },
  {
   "cell_type": "markdown",
   "id": "921c5313-bc15-4aa7-935a-4ec9add7bdcd",
   "metadata": {},
   "source": [
    "This filters down to the articles where at least two of these seven contributed."
   ]
  },
  {
   "cell_type": "code",
   "execution_count": 74,
   "id": "c63da8d0-a3bb-4d3d-aaaa-02147e2f97c2",
   "metadata": {},
   "outputs": [
    {
     "data": {
      "text/html": [
       "<div>\n",
       "<style scoped>\n",
       "    .dataframe tbody tr th:only-of-type {\n",
       "        vertical-align: middle;\n",
       "    }\n",
       "\n",
       "    .dataframe tbody tr th {\n",
       "        vertical-align: top;\n",
       "    }\n",
       "\n",
       "    .dataframe thead th {\n",
       "        text-align: right;\n",
       "    }\n",
       "</style>\n",
       "<table border=\"1\" class=\"dataframe\">\n",
       "  <thead>\n",
       "    <tr style=\"text-align: right;\">\n",
       "      <th></th>\n",
       "      <th>EliottCMcLaughlin</th>\n",
       "      <th>IvanaKottasová</th>\n",
       "      <th>JenChristensen</th>\n",
       "      <th>JillMartin</th>\n",
       "      <th>KonstantinToropin</th>\n",
       "      <th>PaulPMurphy</th>\n",
       "      <th>ZacharyCohen</th>\n",
       "    </tr>\n",
       "  </thead>\n",
       "  <tbody>\n",
       "    <tr>\n",
       "      <th>1056</th>\n",
       "      <td>0</td>\n",
       "      <td>0</td>\n",
       "      <td>0</td>\n",
       "      <td>0</td>\n",
       "      <td>1</td>\n",
       "      <td>1</td>\n",
       "      <td>0</td>\n",
       "    </tr>\n",
       "    <tr>\n",
       "      <th>1103</th>\n",
       "      <td>1</td>\n",
       "      <td>0</td>\n",
       "      <td>0</td>\n",
       "      <td>0</td>\n",
       "      <td>1</td>\n",
       "      <td>0</td>\n",
       "      <td>0</td>\n",
       "    </tr>\n",
       "    <tr>\n",
       "      <th>2902</th>\n",
       "      <td>0</td>\n",
       "      <td>1</td>\n",
       "      <td>0</td>\n",
       "      <td>0</td>\n",
       "      <td>0</td>\n",
       "      <td>1</td>\n",
       "      <td>0</td>\n",
       "    </tr>\n",
       "    <tr>\n",
       "      <th>4344</th>\n",
       "      <td>0</td>\n",
       "      <td>1</td>\n",
       "      <td>0</td>\n",
       "      <td>0</td>\n",
       "      <td>0</td>\n",
       "      <td>0</td>\n",
       "      <td>1</td>\n",
       "    </tr>\n",
       "    <tr>\n",
       "      <th>4350</th>\n",
       "      <td>0</td>\n",
       "      <td>1</td>\n",
       "      <td>0</td>\n",
       "      <td>0</td>\n",
       "      <td>0</td>\n",
       "      <td>0</td>\n",
       "      <td>1</td>\n",
       "    </tr>\n",
       "    <tr>\n",
       "      <th>4892</th>\n",
       "      <td>0</td>\n",
       "      <td>0</td>\n",
       "      <td>0</td>\n",
       "      <td>0</td>\n",
       "      <td>1</td>\n",
       "      <td>1</td>\n",
       "      <td>0</td>\n",
       "    </tr>\n",
       "    <tr>\n",
       "      <th>5257</th>\n",
       "      <td>0</td>\n",
       "      <td>0</td>\n",
       "      <td>1</td>\n",
       "      <td>0</td>\n",
       "      <td>0</td>\n",
       "      <td>1</td>\n",
       "      <td>0</td>\n",
       "    </tr>\n",
       "    <tr>\n",
       "      <th>5561</th>\n",
       "      <td>1</td>\n",
       "      <td>0</td>\n",
       "      <td>0</td>\n",
       "      <td>0</td>\n",
       "      <td>0</td>\n",
       "      <td>1</td>\n",
       "      <td>0</td>\n",
       "    </tr>\n",
       "    <tr>\n",
       "      <th>5862</th>\n",
       "      <td>0</td>\n",
       "      <td>0</td>\n",
       "      <td>0</td>\n",
       "      <td>0</td>\n",
       "      <td>0</td>\n",
       "      <td>1</td>\n",
       "      <td>1</td>\n",
       "    </tr>\n",
       "    <tr>\n",
       "      <th>6019</th>\n",
       "      <td>1</td>\n",
       "      <td>0</td>\n",
       "      <td>0</td>\n",
       "      <td>1</td>\n",
       "      <td>0</td>\n",
       "      <td>0</td>\n",
       "      <td>0</td>\n",
       "    </tr>\n",
       "  </tbody>\n",
       "</table>\n",
       "</div>"
      ],
      "text/plain": [
       "      EliottCMcLaughlin  IvanaKottasová  JenChristensen  JillMartin  \\\n",
       "1056                  0               0               0           0   \n",
       "1103                  1               0               0           0   \n",
       "2902                  0               1               0           0   \n",
       "4344                  0               1               0           0   \n",
       "4350                  0               1               0           0   \n",
       "4892                  0               0               0           0   \n",
       "5257                  0               0               1           0   \n",
       "5561                  1               0               0           0   \n",
       "5862                  0               0               0           0   \n",
       "6019                  1               0               0           1   \n",
       "\n",
       "      KonstantinToropin  PaulPMurphy  ZacharyCohen  \n",
       "1056                  1            1             0  \n",
       "1103                  1            0             0  \n",
       "2902                  0            1             0  \n",
       "4344                  0            0             1  \n",
       "4350                  0            0             1  \n",
       "4892                  1            1             0  \n",
       "5257                  0            1             0  \n",
       "5561                  0            1             0  \n",
       "5862                  0            1             1  \n",
       "6019                  0            0             0  "
      ]
     },
     "execution_count": 74,
     "metadata": {},
     "output_type": "execute_result"
    }
   ],
   "source": [
    "adjacency"
   ]
  },
  {
   "cell_type": "markdown",
   "id": "876dfe33-2a80-4f26-ad9f-0907e1a0757e",
   "metadata": {},
   "source": [
    "There are only 10 such articles (out of 1000+)"
   ]
  },
  {
   "cell_type": "code",
   "execution_count": 75,
   "id": "7833f3c1-30f9-4a26-b8b8-c977cb4c8b66",
   "metadata": {},
   "outputs": [],
   "source": [
    "info={}\n",
    "for name in adjacency.columns:\n",
    "    info[name]=adjacency[adjacency[name]==1]"
   ]
  },
  {
   "cell_type": "code",
   "execution_count": 76,
   "id": "eb06e6a2-4c54-4c48-9b6d-1c6c15b89d55",
   "metadata": {},
   "outputs": [
    {
     "data": {
      "text/plain": [
       "Int64Index([1103, 5561, 6019], dtype='int64')"
      ]
     },
     "execution_count": 76,
     "metadata": {},
     "output_type": "execute_result"
    }
   ],
   "source": [
    "info['EliottCMcLaughlin'].index"
   ]
  },
  {
   "cell_type": "code",
   "execution_count": null,
   "id": "46f659c8-2958-410c-a4ef-d5573cc3d1cd",
   "metadata": {},
   "outputs": [],
   "source": []
  },
  {
   "cell_type": "code",
   "execution_count": null,
   "id": "a0f4b339-61e0-4938-b142-3e9024c1f143",
   "metadata": {},
   "outputs": [],
   "source": []
  },
  {
   "cell_type": "code",
   "execution_count": 77,
   "id": "658b11fe-d9f5-4be3-9634-e95886e7e324",
   "metadata": {},
   "outputs": [],
   "source": [
    "new_X=X.loc[new_y.index,]"
   ]
  },
  {
   "cell_type": "code",
   "execution_count": 78,
   "id": "a9651889-7bd9-45f0-bee7-333e05b53488",
   "metadata": {},
   "outputs": [
    {
     "data": {
      "text/plain": [
       "Int64Index([  75,  109,  116,  117,  127,  129,  130,  135,  136,  137,\n",
       "            ...\n",
       "            6504, 6505, 6506, 6507, 6509, 6510, 6511, 6512, 6514, 6516],\n",
       "           dtype='int64', length=1351)"
      ]
     },
     "execution_count": 78,
     "metadata": {},
     "output_type": "execute_result"
    }
   ],
   "source": [
    "new_X.index"
   ]
  },
  {
   "cell_type": "code",
   "execution_count": null,
   "id": "08a0deba-dfdf-42d7-ba5b-a66f40117a34",
   "metadata": {},
   "outputs": [],
   "source": []
  },
  {
   "cell_type": "code",
   "execution_count": 79,
   "id": "0ded2bb9-ec5c-4638-8165-a5b2d12a678b",
   "metadata": {},
   "outputs": [],
   "source": [
    "def starts_with(string):\n",
    "    if(string[0]=='<'):\n",
    "        return True\n",
    "    return False"
   ]
  },
  {
   "cell_type": "code",
   "execution_count": 80,
   "id": "6196e4fa-8cc5-4b24-889c-3fea67c3bd33",
   "metadata": {},
   "outputs": [],
   "source": [
    "new_X.content=new_X.content.str.strip()"
   ]
  },
  {
   "cell_type": "code",
   "execution_count": 81,
   "id": "8e5fe381-c85d-4270-abcd-6ab70c1383ed",
   "metadata": {},
   "outputs": [],
   "source": [
    "needs_fixing=new_X[new_X.content.apply(starts_with)]"
   ]
  },
  {
   "cell_type": "code",
   "execution_count": 82,
   "id": "a53bd3fb-f447-45f0-ade2-2b37632c8b22",
   "metadata": {},
   "outputs": [
    {
     "name": "stderr",
     "output_type": "stream",
     "text": [
      "C:\\Users\\chris\\miniconda3\\lib\\site-packages\\pandas\\core\\apply.py:1099: GuessedAtParserWarning: No parser was explicitly specified, so I'm using the best available HTML parser for this system (\"lxml\"). This usually isn't a problem, but if you run this code on another system, or in a different virtual environment, it may use a different parser and behave differently.\n",
      "\n",
      "The code that caused this warning is on line 1099 of the file C:\\Users\\chris\\miniconda3\\lib\\site-packages\\pandas\\core\\apply.py. To get rid of this warning, pass the additional argument 'features=\"lxml\"' to the BeautifulSoup constructor.\n",
      "\n",
      "  mapped = lib.map_infer(\n"
     ]
    }
   ],
   "source": [
    "fix = needs_fixing.content.apply(BeautifulSoup).apply(get_text)"
   ]
  },
  {
   "cell_type": "code",
   "execution_count": 83,
   "id": "f19eb0a4-010a-4ce3-a614-df1c4512f7d8",
   "metadata": {},
   "outputs": [],
   "source": [
    "new_X.content[fix.index]=fix"
   ]
  },
  {
   "cell_type": "markdown",
   "id": "43df75b4-20d5-494a-9f29-127368ee5b30",
   "metadata": {},
   "source": [
    "Some of the X values still had html, we fixed that here."
   ]
  },
  {
   "cell_type": "code",
   "execution_count": 84,
   "id": "2c3111aa-c4d7-4702-a6a9-e11bf2aebb6d",
   "metadata": {},
   "outputs": [],
   "source": [
    "def total_word_length(string):\n",
    "    return len(string.split())"
   ]
  },
  {
   "cell_type": "code",
   "execution_count": 85,
   "id": "45267df5-5d51-471b-88e7-432dfccc7b2b",
   "metadata": {},
   "outputs": [],
   "source": [
    "new_X['total_word_length']=new_X.content.apply(total_word_length)"
   ]
  },
  {
   "cell_type": "code",
   "execution_count": 86,
   "id": "51e37222-f1f1-4f3d-8b5c-d232a6ffa995",
   "metadata": {},
   "outputs": [],
   "source": [
    "def average_word_length(string):\n",
    "    count=0\n",
    "    for word in string.split():\n",
    "        count+=len(word)\n",
    "    return count/len(string.split())"
   ]
  },
  {
   "cell_type": "code",
   "execution_count": 87,
   "id": "3c51090c-04d7-492d-b531-5d202685adc6",
   "metadata": {},
   "outputs": [],
   "source": [
    "new_X['average_word_length']=new_X.content.apply(average_word_length)"
   ]
  },
  {
   "cell_type": "code",
   "execution_count": 88,
   "id": "5b7b1de4-a189-4afd-985d-a6ba34550daa",
   "metadata": {},
   "outputs": [],
   "source": [
    "new_X.drop(columns='title',inplace=True)"
   ]
  },
  {
   "cell_type": "code",
   "execution_count": 89,
   "id": "3faab9b0-4c73-4e7e-af4e-c59ea8799054",
   "metadata": {},
   "outputs": [],
   "source": [
    "from sklearn.feature_extraction.text import CountVectorizer"
   ]
  },
  {
   "cell_type": "code",
   "execution_count": 90,
   "id": "1502547b-8454-4d2f-a50f-c3e20d5d0987",
   "metadata": {},
   "outputs": [],
   "source": [
    "cvec = CountVectorizer(stop_words='english')"
   ]
  },
  {
   "cell_type": "code",
   "execution_count": 91,
   "id": "ec8dc837-0ff6-4557-9b78-5c91de97b725",
   "metadata": {},
   "outputs": [
    {
     "name": "stderr",
     "output_type": "stream",
     "text": [
      "C:\\Users\\chris\\miniconda3\\lib\\site-packages\\sklearn\\utils\\deprecation.py:87: FutureWarning: Function get_feature_names is deprecated; get_feature_names is deprecated in 1.0 and will be removed in 1.2. Please use get_feature_names_out instead.\n",
      "  warnings.warn(msg, category=FutureWarning)\n"
     ]
    }
   ],
   "source": [
    "vectorized_data = pd.DataFrame(cvec.fit_transform(new_X['content']).toarray(), columns=cvec.get_feature_names())"
   ]
  },
  {
   "cell_type": "code",
   "execution_count": 92,
   "id": "56fb94f0-abbb-4995-bc29-468006689a4c",
   "metadata": {},
   "outputs": [
    {
     "data": {
      "text/plain": [
       "Int64Index([  75,  109,  116,  117,  127,  129,  130,  135,  136,  137,\n",
       "            ...\n",
       "            6504, 6505, 6506, 6507, 6509, 6510, 6511, 6512, 6514, 6516],\n",
       "           dtype='int64', length=1351)"
      ]
     },
     "execution_count": 92,
     "metadata": {},
     "output_type": "execute_result"
    }
   ],
   "source": [
    "new_X.index"
   ]
  },
  {
   "cell_type": "code",
   "execution_count": 93,
   "id": "40e0abf2-03da-41f6-ab5b-587c1e910f34",
   "metadata": {},
   "outputs": [
    {
     "data": {
      "text/plain": [
       "Index(['content', 'url', 'total_word_length', 'average_word_length'], dtype='object')"
      ]
     },
     "execution_count": 93,
     "metadata": {},
     "output_type": "execute_result"
    }
   ],
   "source": [
    "new_X.columns"
   ]
  },
  {
   "cell_type": "code",
   "execution_count": 94,
   "id": "49dfb19f-3afa-474f-b735-ae01c8dcff54",
   "metadata": {},
   "outputs": [],
   "source": [
    "vectorized_data.index=new_X.index"
   ]
  },
  {
   "cell_type": "code",
   "execution_count": 95,
   "id": "5b1e8987-ffd1-4278-90aa-8f884d1bed94",
   "metadata": {},
   "outputs": [
    {
     "data": {
      "text/plain": [
       "0"
      ]
     },
     "execution_count": 95,
     "metadata": {},
     "output_type": "execute_result"
    }
   ],
   "source": [
    "vectorized_data.isna().sum().sum()"
   ]
  },
  {
   "cell_type": "code",
   "execution_count": 96,
   "id": "3a1740a5-687c-4c9b-a064-356d70b94427",
   "metadata": {},
   "outputs": [],
   "source": [
    "X_final=pd.concat([vectorized_data.loc[new_y.index, ],new_X.loc[new_y.index, ]], axis=1).drop(columns=['content','url'])"
   ]
  },
  {
   "cell_type": "code",
   "execution_count": 97,
   "id": "5bdbc23c-c5bd-4f7f-b9bd-676940825796",
   "metadata": {},
   "outputs": [
    {
     "data": {
      "text/plain": [
       "Int64Index([  75,  109,  116,  117,  127,  129,  130,  135,  136,  137,\n",
       "            ...\n",
       "            6504, 6505, 6506, 6507, 6509, 6510, 6511, 6512, 6514, 6516],\n",
       "           dtype='int64', length=1351)"
      ]
     },
     "execution_count": 97,
     "metadata": {},
     "output_type": "execute_result"
    }
   ],
   "source": [
    "X_final.index"
   ]
  },
  {
   "cell_type": "code",
   "execution_count": 98,
   "id": "6c3dc614-ed9e-401a-9628-6f98aea110cd",
   "metadata": {},
   "outputs": [],
   "source": [
    "from sklearn.model_selection import train_test_split"
   ]
  },
  {
   "cell_type": "code",
   "execution_count": 99,
   "id": "07410f0d-fefa-404e-8283-04f58d6411bd",
   "metadata": {},
   "outputs": [],
   "source": [
    "X_train,X_test,Y_train,Y_test = train_test_split(X_final,new_y, random_state=123)"
   ]
  },
  {
   "cell_type": "code",
   "execution_count": 100,
   "id": "eeab887f-0422-4394-ba1c-9bef36ab41aa",
   "metadata": {},
   "outputs": [],
   "source": [
    "y_train=y[Y_train.index]"
   ]
  },
  {
   "cell_type": "code",
   "execution_count": 101,
   "id": "bb18dbbf-d490-4f45-a797-ffb8e740af01",
   "metadata": {},
   "outputs": [],
   "source": [
    "new_y.drop(index=Y_train.sum(axis=1)[Y_train.sum(axis=1)==2].index, inplace =True)"
   ]
  },
  {
   "cell_type": "code",
   "execution_count": 103,
   "id": "061c1a38-ecd5-4035-ad28-6c21420580d7",
   "metadata": {},
   "outputs": [
    {
     "name": "stderr",
     "output_type": "stream",
     "text": [
      "C:\\Users\\chris\\AppData\\Local\\Temp/ipykernel_22780/3449029493.py:6: SettingWithCopyWarning: \n",
      "A value is trying to be set on a copy of a slice from a DataFrame\n",
      "\n",
      "See the caveats in the documentation: https://pandas.pydata.org/pandas-docs/stable/user_guide/indexing.html#returning-a-view-versus-a-copy\n",
      "  X_train['Colab'][ind]=len(y_train[ind])\n",
      "C:\\Users\\chris\\AppData\\Local\\Temp/ipykernel_22780/3449029493.py:19: SettingWithCopyWarning: \n",
      "A value is trying to be set on a copy of a slice from a DataFrame\n",
      "\n",
      "See the caveats in the documentation: https://pandas.pydata.org/pandas-docs/stable/user_guide/indexing.html#returning-a-view-versus-a-copy\n",
      "  X_test['Colab'][ind]=len(y_test[ind])\n"
     ]
    },
    {
     "data": {
      "text/plain": [
       "5775     1\n",
       "6447     1\n",
       "5776     1\n",
       "5119     1\n",
       "5940     1\n",
       "        ..\n",
       "6013    17\n",
       "1105    17\n",
       "5961    17\n",
       "1119    17\n",
       "1130    17\n",
       "Name: Colab, Length: 1013, dtype: int64"
      ]
     },
     "execution_count": 103,
     "metadata": {},
     "output_type": "execute_result"
    }
   ],
   "source": [
    "X_train['Colab']=0\n",
    "\n",
    "for ind in y_train.index:\n",
    "    name_list=y_train[ind]\n",
    "    for name in name_list:\n",
    "        X_train['Colab'][ind]=len(y_train[ind])\n",
    "        if(name in y_sorted.index):\n",
    "            y_train[ind]=name\n",
    "\n",
    "\n",
    "\n",
    "y_test=y[Y_test.index]\n",
    "\n",
    "X_test['Colab']=0\n",
    "\n",
    "for ind in y_test.index:\n",
    "    name_list=y_test[ind]\n",
    "    for name in name_list:\n",
    "        X_test['Colab'][ind]=len(y_test[ind])\n",
    "        if(name in y_sorted.index):\n",
    "            y_test[ind]=name\n",
    "\n",
    "X_train.Colab.sort_values()"
   ]
  },
  {
   "cell_type": "code",
   "execution_count": 104,
   "id": "39b3d8a0-a50b-4c51-ac1e-88d47817274d",
   "metadata": {},
   "outputs": [
    {
     "data": {
      "text/plain": [
       "0.3830207305034551"
      ]
     },
     "execution_count": 104,
     "metadata": {},
     "output_type": "execute_result"
    }
   ],
   "source": [
    "len(X_train.Colab[X_train.Colab>1])/len(X_train.Colab)"
   ]
  },
  {
   "cell_type": "code",
   "execution_count": 105,
   "id": "bac8e264-470b-4d08-ab98-fdb94eea51c4",
   "metadata": {},
   "outputs": [
    {
     "data": {
      "text/plain": [
       "0.42011834319526625"
      ]
     },
     "execution_count": 105,
     "metadata": {},
     "output_type": "execute_result"
    }
   ],
   "source": [
    "len(X_test.Colab[X_test.Colab>1])/len(X_test.Colab)"
   ]
  },
  {
   "cell_type": "code",
   "execution_count": 106,
   "id": "c6974ccf-3929-4d44-bcc7-793cf6d72604",
   "metadata": {},
   "outputs": [
    {
     "data": {
      "text/plain": [
       "Int64Index([  75,  109,  116,  117,  127,  129,  130,  135,  136,  137,\n",
       "            ...\n",
       "            6504, 6505, 6506, 6507, 6509, 6510, 6511, 6512, 6514, 6516],\n",
       "           dtype='int64', length=1344)"
      ]
     },
     "execution_count": 106,
     "metadata": {},
     "output_type": "execute_result"
    }
   ],
   "source": [
    "new_y.index"
   ]
  },
  {
   "cell_type": "code",
   "execution_count": 107,
   "id": "c88f78cf-f579-490e-b217-9abdd8db8c3b",
   "metadata": {},
   "outputs": [
    {
     "data": {
      "text/plain": [
       "Index(['JenChristensen', 'ZacharyCohen', 'EliottCMcLaughlin', 'PaulPMurphy',\n",
       "       'JillMartin', 'KonstantinToropin', 'IvanaKottasová'],\n",
       "      dtype='object')"
      ]
     },
     "execution_count": 107,
     "metadata": {},
     "output_type": "execute_result"
    }
   ],
   "source": [
    "y_sorted.index"
   ]
  },
  {
   "cell_type": "code",
   "execution_count": 108,
   "id": "769db564-ca3e-4158-ad68-7e279b129824",
   "metadata": {},
   "outputs": [
    {
     "data": {
      "text/plain": [
       "0       1\n",
       "1       4\n",
       "2       3\n",
       "3       1\n",
       "4       2\n",
       "       ..\n",
       "6515    4\n",
       "6516    1\n",
       "6517    2\n",
       "6518    3\n",
       "6519    2\n",
       "Length: 6516, dtype: int64"
      ]
     },
     "execution_count": 108,
     "metadata": {},
     "output_type": "execute_result"
    }
   ],
   "source": [
    "y_encoded.sum(axis=1)"
   ]
  },
  {
   "cell_type": "code",
   "execution_count": 109,
   "id": "25b5c4d9-22bf-4cbc-8760-702e3c771376",
   "metadata": {},
   "outputs": [
    {
     "data": {
      "text/plain": [
       "Index(['EliottCMcLaughlin', 'IvanaKottasová', 'JenChristensen', 'JillMartin',\n",
       "       'KonstantinToropin', 'PaulPMurphy', 'ZacharyCohen'],\n",
       "      dtype='object')"
      ]
     },
     "execution_count": 109,
     "metadata": {},
     "output_type": "execute_result"
    }
   ],
   "source": [
    "Y_train.columns"
   ]
  },
  {
   "cell_type": "code",
   "execution_count": 110,
   "id": "bb98bfae-1b12-4b39-ad16-2962fef9415a",
   "metadata": {},
   "outputs": [
    {
     "data": {
      "text/html": [
       "<div>\n",
       "<style scoped>\n",
       "    .dataframe tbody tr th:only-of-type {\n",
       "        vertical-align: middle;\n",
       "    }\n",
       "\n",
       "    .dataframe tbody tr th {\n",
       "        vertical-align: top;\n",
       "    }\n",
       "\n",
       "    .dataframe thead th {\n",
       "        text-align: right;\n",
       "    }\n",
       "</style>\n",
       "<table border=\"1\" class=\"dataframe\">\n",
       "  <thead>\n",
       "    <tr style=\"text-align: right;\">\n",
       "      <th></th>\n",
       "      <th>EliottCMcLaughlin</th>\n",
       "      <th>IvanaKottasová</th>\n",
       "      <th>JenChristensen</th>\n",
       "      <th>JillMartin</th>\n",
       "      <th>KonstantinToropin</th>\n",
       "      <th>PaulPMurphy</th>\n",
       "      <th>ZacharyCohen</th>\n",
       "    </tr>\n",
       "  </thead>\n",
       "  <tbody>\n",
       "    <tr>\n",
       "      <th>5775</th>\n",
       "      <td>0</td>\n",
       "      <td>0</td>\n",
       "      <td>0</td>\n",
       "      <td>0</td>\n",
       "      <td>0</td>\n",
       "      <td>1</td>\n",
       "      <td>0</td>\n",
       "    </tr>\n",
       "    <tr>\n",
       "      <th>5180</th>\n",
       "      <td>0</td>\n",
       "      <td>0</td>\n",
       "      <td>1</td>\n",
       "      <td>0</td>\n",
       "      <td>0</td>\n",
       "      <td>0</td>\n",
       "      <td>0</td>\n",
       "    </tr>\n",
       "    <tr>\n",
       "      <th>5346</th>\n",
       "      <td>0</td>\n",
       "      <td>0</td>\n",
       "      <td>1</td>\n",
       "      <td>0</td>\n",
       "      <td>0</td>\n",
       "      <td>0</td>\n",
       "      <td>0</td>\n",
       "    </tr>\n",
       "    <tr>\n",
       "      <th>6516</th>\n",
       "      <td>0</td>\n",
       "      <td>0</td>\n",
       "      <td>0</td>\n",
       "      <td>0</td>\n",
       "      <td>0</td>\n",
       "      <td>1</td>\n",
       "      <td>0</td>\n",
       "    </tr>\n",
       "    <tr>\n",
       "      <th>6000</th>\n",
       "      <td>1</td>\n",
       "      <td>0</td>\n",
       "      <td>0</td>\n",
       "      <td>0</td>\n",
       "      <td>0</td>\n",
       "      <td>0</td>\n",
       "      <td>0</td>\n",
       "    </tr>\n",
       "    <tr>\n",
       "      <th>...</th>\n",
       "      <td>...</td>\n",
       "      <td>...</td>\n",
       "      <td>...</td>\n",
       "      <td>...</td>\n",
       "      <td>...</td>\n",
       "      <td>...</td>\n",
       "      <td>...</td>\n",
       "    </tr>\n",
       "    <tr>\n",
       "      <th>6296</th>\n",
       "      <td>0</td>\n",
       "      <td>0</td>\n",
       "      <td>0</td>\n",
       "      <td>0</td>\n",
       "      <td>0</td>\n",
       "      <td>0</td>\n",
       "      <td>1</td>\n",
       "    </tr>\n",
       "    <tr>\n",
       "      <th>1216</th>\n",
       "      <td>0</td>\n",
       "      <td>1</td>\n",
       "      <td>0</td>\n",
       "      <td>0</td>\n",
       "      <td>0</td>\n",
       "      <td>0</td>\n",
       "      <td>0</td>\n",
       "    </tr>\n",
       "    <tr>\n",
       "      <th>5975</th>\n",
       "      <td>1</td>\n",
       "      <td>0</td>\n",
       "      <td>0</td>\n",
       "      <td>0</td>\n",
       "      <td>0</td>\n",
       "      <td>0</td>\n",
       "      <td>0</td>\n",
       "    </tr>\n",
       "    <tr>\n",
       "      <th>6062</th>\n",
       "      <td>1</td>\n",
       "      <td>0</td>\n",
       "      <td>0</td>\n",
       "      <td>0</td>\n",
       "      <td>0</td>\n",
       "      <td>0</td>\n",
       "      <td>0</td>\n",
       "    </tr>\n",
       "    <tr>\n",
       "      <th>6510</th>\n",
       "      <td>0</td>\n",
       "      <td>1</td>\n",
       "      <td>0</td>\n",
       "      <td>0</td>\n",
       "      <td>0</td>\n",
       "      <td>0</td>\n",
       "      <td>0</td>\n",
       "    </tr>\n",
       "  </tbody>\n",
       "</table>\n",
       "<p>1006 rows × 7 columns</p>\n",
       "</div>"
      ],
      "text/plain": [
       "      EliottCMcLaughlin  IvanaKottasová  JenChristensen  JillMartin  \\\n",
       "5775                  0               0               0           0   \n",
       "5180                  0               0               1           0   \n",
       "5346                  0               0               1           0   \n",
       "6516                  0               0               0           0   \n",
       "6000                  1               0               0           0   \n",
       "...                 ...             ...             ...         ...   \n",
       "6296                  0               0               0           0   \n",
       "1216                  0               1               0           0   \n",
       "5975                  1               0               0           0   \n",
       "6062                  1               0               0           0   \n",
       "6510                  0               1               0           0   \n",
       "\n",
       "      KonstantinToropin  PaulPMurphy  ZacharyCohen  \n",
       "5775                  0            1             0  \n",
       "5180                  0            0             0  \n",
       "5346                  0            0             0  \n",
       "6516                  0            1             0  \n",
       "6000                  0            0             0  \n",
       "...                 ...          ...           ...  \n",
       "6296                  0            0             1  \n",
       "1216                  0            0             0  \n",
       "5975                  0            0             0  \n",
       "6062                  0            0             0  \n",
       "6510                  0            0             0  \n",
       "\n",
       "[1006 rows x 7 columns]"
      ]
     },
     "execution_count": 110,
     "metadata": {},
     "output_type": "execute_result"
    }
   ],
   "source": [
    "Y_train.drop(index=Y_train.sum(axis=1)[Y_train.sum(axis=1)==2].index)"
   ]
  },
  {
   "cell_type": "markdown",
   "id": "ee1bd3bd-cfbe-4dc8-9b31-e7695bc9b427",
   "metadata": {},
   "source": [
    "There are 1006 articles where exactly one of our seven high profile writers was an author."
   ]
  },
  {
   "cell_type": "code",
   "execution_count": 111,
   "id": "5b26b789-70a3-4b28-83f4-14e97a750df6",
   "metadata": {},
   "outputs": [],
   "source": [
    "from sklearn.linear_model import LogisticRegression"
   ]
  },
  {
   "cell_type": "code",
   "execution_count": 112,
   "id": "2259d107-fd02-4dd3-81b5-c8a6e68e13df",
   "metadata": {
    "tags": []
   },
   "outputs": [],
   "source": [
    "logreg = LogisticRegression()"
   ]
  },
  {
   "cell_type": "code",
   "execution_count": 113,
   "id": "f1417228-be82-49fd-a42a-0b038e15eeae",
   "metadata": {},
   "outputs": [
    {
     "data": {
      "text/plain": [
       "['JenChristensen',\n",
       " 'ZacharyCohen',\n",
       " 'EliottCMcLaughlin',\n",
       " 'PaulPMurphy',\n",
       " 'JillMartin',\n",
       " 'KonstantinToropin',\n",
       " 'IvanaKottasová']"
      ]
     },
     "execution_count": 113,
     "metadata": {},
     "output_type": "execute_result"
    }
   ],
   "source": [
    "list(y_sorted.index)"
   ]
  },
  {
   "cell_type": "code",
   "execution_count": 114,
   "id": "01ee428e-491a-496e-8400-8a55a892b3cc",
   "metadata": {},
   "outputs": [
    {
     "data": {
      "text/plain": [
       "'KonstantinToropin'"
      ]
     },
     "execution_count": 114,
     "metadata": {},
     "output_type": "execute_result"
    }
   ],
   "source": [
    "y_train[1100]"
   ]
  },
  {
   "cell_type": "code",
   "execution_count": 115,
   "id": "2285128a-2bc8-407f-9618-68d7f7f69bdf",
   "metadata": {},
   "outputs": [
    {
     "name": "stderr",
     "output_type": "stream",
     "text": [
      "C:\\Users\\chris\\miniconda3\\lib\\site-packages\\sklearn\\linear_model\\_logistic.py:814: ConvergenceWarning: lbfgs failed to converge (status=1):\n",
      "STOP: TOTAL NO. of ITERATIONS REACHED LIMIT.\n",
      "\n",
      "Increase the number of iterations (max_iter) or scale the data as shown in:\n",
      "    https://scikit-learn.org/stable/modules/preprocessing.html\n",
      "Please also refer to the documentation for alternative solver options:\n",
      "    https://scikit-learn.org/stable/modules/linear_model.html#logistic-regression\n",
      "  n_iter_i = _check_optimize_result(\n"
     ]
    },
    {
     "data": {
      "text/plain": [
       "0.8431952662721893"
      ]
     },
     "execution_count": 115,
     "metadata": {},
     "output_type": "execute_result"
    }
   ],
   "source": [
    "logreg.fit(X_train.drop(columns='Colab'),y_train)\n",
    "logreg.score(X_test.drop(columns='Colab'),y_test)"
   ]
  },
  {
   "cell_type": "code",
   "execution_count": 116,
   "id": "c5302520-5ba2-44ca-b099-46ca3b1f6806",
   "metadata": {},
   "outputs": [
    {
     "data": {
      "text/plain": [
       "0    JenChristensen\n",
       "dtype: object"
      ]
     },
     "execution_count": 116,
     "metadata": {},
     "output_type": "execute_result"
    }
   ],
   "source": [
    "y_test.mode()"
   ]
  },
  {
   "cell_type": "code",
   "execution_count": 117,
   "id": "0773e1df-ef61-4728-904b-9253a9f8add3",
   "metadata": {},
   "outputs": [
    {
     "data": {
      "text/plain": [
       "0.21005917159763313"
      ]
     },
     "execution_count": 117,
     "metadata": {},
     "output_type": "execute_result"
    }
   ],
   "source": [
    "(y_test=='JenChristensen').sum()/len(y_test)"
   ]
  },
  {
   "cell_type": "code",
   "execution_count": 118,
   "id": "bc0e05a1-2623-441e-ab6e-0349ad410bd0",
   "metadata": {},
   "outputs": [
    {
     "data": {
      "text/plain": [
       "JenChristensen       0.210059\n",
       "ZacharyCohen         0.207101\n",
       "EliottCMcLaughlin    0.207101\n",
       "JillMartin           0.115385\n",
       "PaulPMurphy          0.103550\n",
       "KonstantinToropin    0.088757\n",
       "IvanaKottasová       0.068047\n",
       "Name: authors, dtype: float64"
      ]
     },
     "execution_count": 118,
     "metadata": {},
     "output_type": "execute_result"
    }
   ],
   "source": [
    "y_test.value_counts(normalize=True)"
   ]
  },
  {
   "cell_type": "code",
   "execution_count": null,
   "id": "f710c72a-3435-449a-9470-33055df4714e",
   "metadata": {},
   "outputs": [],
   "source": []
  },
  {
   "cell_type": "code",
   "execution_count": 119,
   "id": "a22913e3-ba16-4e73-8cd4-00f1b887d048",
   "metadata": {},
   "outputs": [
    {
     "data": {
      "text/plain": [
       "5180    JenChristensen\n",
       "5346    JenChristensen\n",
       "5272    JenChristensen\n",
       "5190    JenChristensen\n",
       "5318    JenChristensen\n",
       "             ...      \n",
       "5358    JenChristensen\n",
       "5089    JenChristensen\n",
       "5102    JenChristensen\n",
       "5342    JenChristensen\n",
       "5134    JenChristensen\n",
       "Name: authors, Length: 241, dtype: object"
      ]
     },
     "execution_count": 119,
     "metadata": {},
     "output_type": "execute_result"
    }
   ],
   "source": [
    "y_train[y_train.values=='JenChristensen']"
   ]
  },
  {
   "cell_type": "code",
   "execution_count": 120,
   "id": "793e7c80-3a4a-438d-a826-287705969d5a",
   "metadata": {},
   "outputs": [],
   "source": [
    "#X_train['Colab'][y_train[y_train.values=='IvanKottaso'].index]"
   ]
  },
  {
   "cell_type": "code",
   "execution_count": 121,
   "id": "5ca7b9b0-edbf-4ee9-a3a7-f64d413a8b89",
   "metadata": {},
   "outputs": [
    {
     "data": {
      "text/plain": [
       "array(['PaulPMurphy', 'JenChristensen', 'JenChristensen', ...,\n",
       "       'EliottCMcLaughlin', 'EliottCMcLaughlin', 'IvanaKottasová'],\n",
       "      dtype=object)"
      ]
     },
     "execution_count": 121,
     "metadata": {},
     "output_type": "execute_result"
    }
   ],
   "source": [
    "y_train.values"
   ]
  },
  {
   "cell_type": "code",
   "execution_count": 122,
   "id": "ffe9da6e-7b4d-4fc8-8978-fa46f83e05f3",
   "metadata": {},
   "outputs": [
    {
     "data": {
      "text/plain": [
       "5180     1\n",
       "5346     1\n",
       "5272     1\n",
       "5190     3\n",
       "5318     1\n",
       "        ..\n",
       "5358    14\n",
       "5089     1\n",
       "5102     1\n",
       "5342     1\n",
       "5134     1\n",
       "Name: Colab, Length: 241, dtype: int64"
      ]
     },
     "execution_count": 122,
     "metadata": {},
     "output_type": "execute_result"
    }
   ],
   "source": [
    "X_train['Colab'][y_train[y_train.values=='JenChristensen'].index]"
   ]
  },
  {
   "cell_type": "code",
   "execution_count": 123,
   "id": "4d491658-e9c9-467f-8fbb-02df9fb22353",
   "metadata": {},
   "outputs": [
    {
     "data": {
      "text/plain": [
       "array([ 1,  2,  3, 14], dtype=int64)"
      ]
     },
     "execution_count": 123,
     "metadata": {},
     "output_type": "execute_result"
    }
   ],
   "source": [
    "X_train['Colab'][y_train[y_train.values=='JenChristensen'].index].sort_values().unique()"
   ]
  },
  {
   "cell_type": "code",
   "execution_count": 124,
   "id": "7e09b3f4-e822-476b-8258-6473f1a93cbd",
   "metadata": {},
   "outputs": [
    {
     "data": {
      "text/plain": [
       "1     205\n",
       "2      10\n",
       "3       2\n",
       "14     24\n",
       "Name: Colab, dtype: int64"
      ]
     },
     "execution_count": 124,
     "metadata": {},
     "output_type": "execute_result"
    }
   ],
   "source": [
    "X_train['Colab'][y_train[y_train.values=='JenChristensen'].index].sort_values().value_counts().sort_index()"
   ]
  },
  {
   "cell_type": "code",
   "execution_count": 125,
   "id": "f67fec09-2a55-4248-bc41-3e644c66b017",
   "metadata": {},
   "outputs": [
    {
     "data": {
      "text/plain": [
       "<BarContainer object of 4 artists>"
      ]
     },
     "execution_count": 125,
     "metadata": {},
     "output_type": "execute_result"
    },
    {
     "data": {
      "image/png": "[encoded data removed]",
      "text/plain": [
       "<Figure size 432x288 with 1 Axes>"
      ]
     },
     "metadata": {
      "needs_background": "light"
     },
     "output_type": "display_data"
    }
   ],
   "source": [
    "plt.bar(x=X_train['Colab'][y_train[y_train.values=='JenChristensen'].index].sort_values().unique(), \n",
    "        height=X_train['Colab'][y_train[y_train.values=='JenChristensen'].index].sort_values().value_counts().sort_index().values)"
   ]
  },
  {
   "cell_type": "code",
   "execution_count": 130,
   "id": "d61cb3ce-30d3-4cbc-b58e-4d15f3a22aaa",
   "metadata": {},
   "outputs": [
    {
     "data": {
      "text/plain": [
       "(array([ 0.0037618 ,  0.04276584, -0.00048353, ..., -0.0031146 ,\n",
       "         0.0080432 , -0.41255023]),)"
      ]
     },
     "execution_count": 130,
     "metadata": {},
     "output_type": "execute_result"
    }
   ],
   "source": [
    "logreg.coef_[0],"
   ]
  },
  {
   "cell_type": "markdown",
   "id": "9cacb067-e09f-4bad-aa6f-e66bd2d5e0be",
   "metadata": {},
   "source": [
    "## Model Evaluation and Next Steps"
   ]
  },
  {
   "cell_type": "code",
   "execution_count": 131,
   "id": "2b7bfbd8-5c1d-4ad8-9840-d41334b179b7",
   "metadata": {},
   "outputs": [],
   "source": [
    "from sklearn.metrics import ConfusionMatrixDisplay, plot_confusion_matrix"
   ]
  },
  {
   "cell_type": "code",
   "execution_count": 132,
   "id": "25888821-83fc-4d4d-a8ee-547753194caf",
   "metadata": {},
   "outputs": [
    {
     "name": "stderr",
     "output_type": "stream",
     "text": [
      "C:\\Users\\chris\\miniconda3\\lib\\site-packages\\sklearn\\utils\\deprecation.py:87: FutureWarning: Function plot_confusion_matrix is deprecated; Function `plot_confusion_matrix` is deprecated in 1.0 and will be removed in 1.2. Use one of the class methods: ConfusionMatrixDisplay.from_predictions or ConfusionMatrixDisplay.from_estimator.\n",
      "  warnings.warn(msg, category=FutureWarning)\n"
     ]
    },
    {
     "data": {
      "image/png": "[encoded data removed]",
      "text/plain": [
       "<Figure size 432x288 with 2 Axes>"
      ]
     },
     "metadata": {
      "needs_background": "light"
     },
     "output_type": "display_data"
    }
   ],
   "source": [
    "plot_confusion_matrix(logreg,X_test.drop(columns='Colab'), y_test, cmap='Blues', normalize='true')\n",
    "plt.xticks(rotation=90, fontsize=14)\n",
    "plt.yticks(fontsize=14)\n",
    "plt.title('Model Confusion Matrix',fontsize=16);"
   ]
  },
  {
   "cell_type": "markdown",
   "id": "6bd2cf82-285a-4580-97ca-96edacb0f56e",
   "metadata": {},
   "source": [
    "Doing some outside research, we found that these authors had the following job titles."
   ]
  },
  {
   "cell_type": "markdown",
   "id": "d6beeb8c-0eec-4420-8aaa-8466ba3a4928",
   "metadata": {},
   "source": [
    "| Author | Title | Accuracy | Articles Scraped |\n",
    "| --- | --- | --- | ---|\n",
    "|Jen ChristenSen | Health & Climate Unit| 93% | 312 |\n",
    "|Zachary Cohen | National Security Reporter| 96% | 263 |\n",
    "|Eliott C. McLaughlin | Senior Writer| 83% | 248 |\n",
    "|Jill Martin | Sports News Editor| 87% | 145 |\n",
    "|Konstantin Toropin | News Editor| 70% | 111 |\n",
    "|Ivana Kottasova | Digital News Producer| 70% | 105 |\n",
    "|Paul P. Murphy | Producer / Writer| 66% | 167 |"
   ]
  },
  {
   "cell_type": "code",
   "execution_count": 141,
   "id": "3142371e-ab16-4aa8-8458-a1f4ebd1a272",
   "metadata": {},
   "outputs": [
    {
     "data": {
      "text/plain": [
       "JenChristensen       312\n",
       "ZacharyCohen         263\n",
       "EliottCMcLaughlin    248\n",
       "PaulPMurphy          167\n",
       "JillMartin           145\n",
       "KonstantinToropin    111\n",
       "IvanaKottasová       105\n",
       "Name: authors, dtype: int64"
      ]
     },
     "execution_count": 141,
     "metadata": {},
     "output_type": "execute_result"
    }
   ],
   "source": [
    "(y_train.value_counts().sort_values(ascending=False)+y_test.value_counts().sort_values(ascending=False)).sort_values(ascending=False)"
   ]
  },
  {
   "cell_type": "markdown",
   "id": "0ebf3d00-943f-463e-8359-bca0df79f8fe",
   "metadata": {},
   "source": [
    "This goes a long way to explaining the accuracy of our model. A National Security Reporter is unlikely to cover the same topics as a Sports News Editor"
   ]
  }
 ],
 "metadata": {
  "kernelspec": {
   "display_name": "Python 3 (ipykernel)",
   "language": "python",
   "name": "python3"
  },
  "language_info": {
   "codemirror_mode": {
    "name": "ipython",
    "version": 3
   },
   "file_extension": ".py",
   "mimetype": "text/x-python",
   "name": "python",
   "nbconvert_exporter": "python",
   "pygments_lexer": "ipython3",
   "version": "3.9.5"
  }
 },
 "nbformat": 4,
 "nbformat_minor": 5
}
